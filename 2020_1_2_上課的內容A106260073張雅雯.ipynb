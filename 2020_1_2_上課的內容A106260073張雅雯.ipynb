{
  "nbformat": 4,
  "nbformat_minor": 0,
  "metadata": {
    "colab": {
      "name": "2020/1/2 上課的內容A106260073張雅雯",
      "provenance": [],
      "include_colab_link": true
    },
    "kernelspec": {
      "name": "python3",
      "display_name": "Python 3"
    }
  },
  "cells": [
    {
      "cell_type": "markdown",
      "metadata": {
        "id": "view-in-github",
        "colab_type": "text"
      },
      "source": [
        "<a href=\"https://colab.research.google.com/github/polkm12123/Computational-Thinking-and-Programming-Design/blob/master/2020_1_2_%E4%B8%8A%E8%AA%B2%E7%9A%84%E5%85%A7%E5%AE%B9A106260073%E5%BC%B5%E9%9B%85%E9%9B%AF.ipynb\" target=\"_parent\"><img src=\"https://colab.research.google.com/assets/colab-badge.svg\" alt=\"Open In Colab\"/></a>"
      ]
    },
    {
      "cell_type": "code",
      "metadata": {
        "id": "1XBJwLHFsHsY",
        "colab_type": "code",
        "outputId": "af5e884f-ae3d-4151-8196-128124061e11",
        "colab": {
          "base_uri": "https://localhost:8080/",
          "height": 102
        }
      },
      "source": [
        "sum=0\n",
        "for i in range(1,10,2):\n",
        "  sum = sum + i\n",
        "  print(sum)"
      ],
      "execution_count": 19,
      "outputs": [
        {
          "output_type": "stream",
          "text": [
            "1\n",
            "4\n",
            "9\n",
            "16\n",
            "25\n"
          ],
          "name": "stdout"
        }
      ]
    },
    {
      "cell_type": "code",
      "metadata": {
        "id": "HOpVhIdOu05B",
        "colab_type": "code",
        "colab": {
          "base_uri": "https://localhost:8080/",
          "height": 51
        },
        "outputId": "0caebed9-ef4a-44e8-e4eb-0a22b3cf214e"
      },
      "source": [
        "n=int(input('n?'))\n",
        "sum=0\n",
        "for i in range(1,n+1,1): #[1,2,....,n]\n",
        "  sum=sum+i*i\n",
        "print(sum)"
      ],
      "execution_count": 28,
      "outputs": [
        {
          "output_type": "stream",
          "text": [
            "n?5\n",
            "55\n"
          ],
          "name": "stdout"
        }
      ]
    },
    {
      "cell_type": "code",
      "metadata": {
        "id": "N15vy9QVuhIU",
        "colab_type": "code",
        "colab": {
          "base_uri": "https://localhost:8080/",
          "height": 34
        },
        "outputId": "9e2b5a0d-e3c5-422e-c820-626df16f63da"
      },
      "source": [
        "sum=0\n",
        "for i in range(3,13,3):\n",
        "  sum=sum+i\n",
        "print(sum)"
      ],
      "execution_count": 29,
      "outputs": [
        {
          "output_type": "stream",
          "text": [
            "30\n"
          ],
          "name": "stdout"
        }
      ]
    },
    {
      "cell_type": "code",
      "metadata": {
        "id": "CSipBuAgwWnJ",
        "colab_type": "code",
        "colab": {
          "base_uri": "https://localhost:8080/",
          "height": 85
        },
        "outputId": "13223e70-fae3-4114-def3-444e4f93038d"
      },
      "source": [
        "sum=0\n",
        "for i in range(3,13,3):\n",
        "  sum=sum+i\n",
        "  print(sum)"
      ],
      "execution_count": 30,
      "outputs": [
        {
          "output_type": "stream",
          "text": [
            "3\n",
            "9\n",
            "18\n",
            "30\n"
          ],
          "name": "stdout"
        }
      ]
    },
    {
      "cell_type": "code",
      "metadata": {
        "id": "GBQoI1wewcvt",
        "colab_type": "code",
        "colab": {
          "base_uri": "https://localhost:8080/",
          "height": 85
        },
        "outputId": "8517dd52-7911-4f27-8cc6-73da0d9d2e07"
      },
      "source": [
        "start=3 #初始值\n",
        "end=13 \n",
        "step=3\n",
        "sum=0\n",
        "for i in range(start,end,step): #重複迴圈\n",
        "  sum=sum+i\n",
        "  print(sum)"
      ],
      "execution_count": 31,
      "outputs": [
        {
          "output_type": "stream",
          "text": [
            "3\n",
            "9\n",
            "18\n",
            "30\n"
          ],
          "name": "stdout"
        }
      ]
    },
    {
      "cell_type": "code",
      "metadata": {
        "id": "7TzpmZeJwc02",
        "colab_type": "code",
        "colab": {
          "base_uri": "https://localhost:8080/",
          "height": 54
        },
        "outputId": "40048ff3-2862-4629-8d91-cd595e235f2b"
      },
      "source": [
        "##巢狀迴圈\n",
        "#迴圈中有迴圈 有層次的迴圈\n",
        "for i in range(1,10,1):\n",
        "  for j in range(1,10,1):\n",
        "    print(i,'*',j,'=',i*j,'\\t',sep='',end='')"
      ],
      "execution_count": 36,
      "outputs": [
        {
          "output_type": "stream",
          "text": [
            "1*1=1\t1*2=2\t1*3=3\t1*4=4\t1*5=5\t1*6=6\t1*7=7\t1*8=8\t1*9=9\t2*1=2\t2*2=4\t2*3=6\t2*4=8\t2*5=10\t2*6=12\t2*7=14\t2*8=16\t2*9=18\t3*1=3\t3*2=6\t3*3=9\t3*4=12\t3*5=15\t3*6=18\t3*7=21\t3*8=24\t3*9=27\t4*1=4\t4*2=8\t4*3=12\t4*4=16\t4*5=20\t4*6=24\t4*7=28\t4*8=32\t4*9=36\t5*1=5\t5*2=10\t5*3=15\t5*4=20\t5*5=25\t5*6=30\t5*7=35\t5*8=40\t5*9=45\t6*1=6\t6*2=12\t6*3=18\t6*4=24\t6*5=30\t6*6=36\t6*7=42\t6*8=48\t6*9=54\t7*1=7\t7*2=14\t7*3=21\t7*4=28\t7*5=35\t7*6=42\t7*7=49\t7*8=56\t7*9=63\t8*1=8\t8*2=16\t8*3=24\t8*4=32\t8*5=40\t8*6=48\t8*7=56\t8*8=64\t8*9=72\t9*1=9\t9*2=18\t9*3=27\t9*4=36\t9*5=45\t9*6=54\t9*7=63\t9*8=72\t9*9=81\t"
          ],
          "name": "stdout"
        }
      ]
    },
    {
      "cell_type": "code",
      "metadata": {
        "id": "L7tywWxt1DyF",
        "colab_type": "code",
        "colab": {
          "base_uri": "https://localhost:8080/",
          "height": 85
        },
        "outputId": "2ec83456-06fb-4d75-d5ee-ee39974481a7"
      },
      "source": [
        "for i in range(6):\n",
        "  print(i)\n",
        "  if i==3:\n",
        "      break  #跳出迴圈停止執行\n",
        "  \n"
      ],
      "execution_count": 39,
      "outputs": [
        {
          "output_type": "stream",
          "text": [
            "0\n",
            "1\n",
            "2\n",
            "3\n"
          ],
          "name": "stdout"
        }
      ]
    },
    {
      "cell_type": "code",
      "metadata": {
        "id": "jzM5VXPT2p6A",
        "colab_type": "code",
        "colab": {
          "base_uri": "https://localhost:8080/",
          "height": 170
        },
        "outputId": "4f2930e4-0d4a-42dd-9ae6-f124b1b74a05"
      },
      "source": [
        "for i in range(6):\n",
        "  print(i)\n",
        "  if i %2== 0:\n",
        "    print(i,'is even')\n",
        "  else:\n",
        "    continue\n",
        "    print(i,'is odd')"
      ],
      "execution_count": 51,
      "outputs": [
        {
          "output_type": "stream",
          "text": [
            "0\n",
            "0 is even\n",
            "1\n",
            "2\n",
            "2 is even\n",
            "3\n",
            "4\n",
            "4 is even\n",
            "5\n"
          ],
          "name": "stdout"
        }
      ]
    },
    {
      "cell_type": "code",
      "metadata": {
        "id": "osv1qm0d26qZ",
        "colab_type": "code",
        "colab": {}
      },
      "source": [
        ""
      ],
      "execution_count": 0,
      "outputs": []
    }
  ]
}