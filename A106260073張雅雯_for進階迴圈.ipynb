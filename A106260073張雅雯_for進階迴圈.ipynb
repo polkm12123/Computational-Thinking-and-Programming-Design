{
  "nbformat": 4,
  "nbformat_minor": 0,
  "metadata": {
    "colab": {
      "name": "A106260073張雅雯_for進階迴圈",
      "provenance": [],
      "include_colab_link": true
    },
    "kernelspec": {
      "name": "python3",
      "display_name": "Python 3"
    }
  },
  "cells": [
    {
      "cell_type": "markdown",
      "metadata": {
        "id": "view-in-github",
        "colab_type": "text"
      },
      "source": [
        "<a href=\"https://colab.research.google.com/github/polkm12123/Computational-Thinking-and-Programming-Design/blob/master/A106260073%E5%BC%B5%E9%9B%85%E9%9B%AF_for%E9%80%B2%E9%9A%8E%E8%BF%B4%E5%9C%88.ipynb\" target=\"_parent\"><img src=\"https://colab.research.google.com/assets/colab-badge.svg\" alt=\"Open In Colab\"/></a>"
      ]
    },
    {
      "cell_type": "code",
      "metadata": {
        "id": "NMnAgGmWvOhm",
        "colab_type": "code",
        "colab": {
          "base_uri": "https://localhost:8080/",
          "height": 173
        },
        "outputId": "8a34af26-fc3a-4329-ef46-22a0e936f83d"
      },
      "source": [
        "for i in range(1,10):\n",
        "  for j in range(1,10):\n",
        "    print(i,\"*\",j,'=',i*j,'\\t',sep='',end='') #sep取代原本的空白鍵\n",
        "  print()"
      ],
      "execution_count": 1,
      "outputs": [
        {
          "output_type": "stream",
          "text": [
            "1*1=1\t1*2=2\t1*3=3\t1*4=4\t1*5=5\t1*6=6\t1*7=7\t1*8=8\t1*9=9\t\n",
            "2*1=2\t2*2=4\t2*3=6\t2*4=8\t2*5=10\t2*6=12\t2*7=14\t2*8=16\t2*9=18\t\n",
            "3*1=3\t3*2=6\t3*3=9\t3*4=12\t3*5=15\t3*6=18\t3*7=21\t3*8=24\t3*9=27\t\n",
            "4*1=4\t4*2=8\t4*3=12\t4*4=16\t4*5=20\t4*6=24\t4*7=28\t4*8=32\t4*9=36\t\n",
            "5*1=5\t5*2=10\t5*3=15\t5*4=20\t5*5=25\t5*6=30\t5*7=35\t5*8=40\t5*9=45\t\n",
            "6*1=6\t6*2=12\t6*3=18\t6*4=24\t6*5=30\t6*6=36\t6*7=42\t6*8=48\t6*9=54\t\n",
            "7*1=7\t7*2=14\t7*3=21\t7*4=28\t7*5=35\t7*6=42\t7*7=49\t7*8=56\t7*9=63\t\n",
            "8*1=8\t8*2=16\t8*3=24\t8*4=32\t8*5=40\t8*6=48\t8*7=56\t8*8=64\t8*9=72\t\n",
            "9*1=9\t9*2=18\t9*3=27\t9*4=36\t9*5=45\t9*6=54\t9*7=63\t9*8=72\t9*9=81\t\n"
          ],
          "name": "stdout"
        }
      ]
    },
    {
      "cell_type": "code",
      "metadata": {
        "id": "LoC_MXL2xJpp",
        "colab_type": "code",
        "colab": {
          "base_uri": "https://localhost:8080/",
          "height": 329
        },
        "outputId": "a8c4ec2d-6a41-4180-f228-642c115377e0"
      },
      "source": [
        "for i in range(1,10):\n",
        "  for j in range(1,10):\n",
        "    print(i,'*',j,'=',i*j,'\\t',sep='',end='')\n",
        "  print()\n",
        "\n",
        "i=0\n",
        "while i<9:\n",
        "  i=i+1\n",
        "  j=1\n",
        "  while j<10:\n",
        "    print(i,'*',j,'=',i*j,'\\t',sep='',end='')\n",
        "    j=j+1\n",
        "  print()"
      ],
      "execution_count": 2,
      "outputs": [
        {
          "output_type": "stream",
          "text": [
            "1*1=1\t1*2=2\t1*3=3\t1*4=4\t1*5=5\t1*6=6\t1*7=7\t1*8=8\t1*9=9\t\n",
            "2*1=2\t2*2=4\t2*3=6\t2*4=8\t2*5=10\t2*6=12\t2*7=14\t2*8=16\t2*9=18\t\n",
            "3*1=3\t3*2=6\t3*3=9\t3*4=12\t3*5=15\t3*6=18\t3*7=21\t3*8=24\t3*9=27\t\n",
            "4*1=4\t4*2=8\t4*3=12\t4*4=16\t4*5=20\t4*6=24\t4*7=28\t4*8=32\t4*9=36\t\n",
            "5*1=5\t5*2=10\t5*3=15\t5*4=20\t5*5=25\t5*6=30\t5*7=35\t5*8=40\t5*9=45\t\n",
            "6*1=6\t6*2=12\t6*3=18\t6*4=24\t6*5=30\t6*6=36\t6*7=42\t6*8=48\t6*9=54\t\n",
            "7*1=7\t7*2=14\t7*3=21\t7*4=28\t7*5=35\t7*6=42\t7*7=49\t7*8=56\t7*9=63\t\n",
            "8*1=8\t8*2=16\t8*3=24\t8*4=32\t8*5=40\t8*6=48\t8*7=56\t8*8=64\t8*9=72\t\n",
            "9*1=9\t9*2=18\t9*3=27\t9*4=36\t9*5=45\t9*6=54\t9*7=63\t9*8=72\t9*9=81\t\n",
            "1*1=1\t1*2=2\t1*3=3\t1*4=4\t1*5=5\t1*6=6\t1*7=7\t1*8=8\t1*9=9\t\n",
            "2*1=2\t2*2=4\t2*3=6\t2*4=8\t2*5=10\t2*6=12\t2*7=14\t2*8=16\t2*9=18\t\n",
            "3*1=3\t3*2=6\t3*3=9\t3*4=12\t3*5=15\t3*6=18\t3*7=21\t3*8=24\t3*9=27\t\n",
            "4*1=4\t4*2=8\t4*3=12\t4*4=16\t4*5=20\t4*6=24\t4*7=28\t4*8=32\t4*9=36\t\n",
            "5*1=5\t5*2=10\t5*3=15\t5*4=20\t5*5=25\t5*6=30\t5*7=35\t5*8=40\t5*9=45\t\n",
            "6*1=6\t6*2=12\t6*3=18\t6*4=24\t6*5=30\t6*6=36\t6*7=42\t6*8=48\t6*9=54\t\n",
            "7*1=7\t7*2=14\t7*3=21\t7*4=28\t7*5=35\t7*6=42\t7*7=49\t7*8=56\t7*9=63\t\n",
            "8*1=8\t8*2=16\t8*3=24\t8*4=32\t8*5=40\t8*6=48\t8*7=56\t8*8=64\t8*9=72\t\n",
            "9*1=9\t9*2=18\t9*3=27\t9*4=36\t9*5=45\t9*6=54\t9*7=63\t9*8=72\t9*9=81\t\n"
          ],
          "name": "stdout"
        }
      ]
    },
    {
      "cell_type": "code",
      "metadata": {
        "id": "CPyWiBXqxJ2K",
        "colab_type": "code",
        "colab": {
          "base_uri": "https://localhost:8080/",
          "height": 69
        },
        "outputId": "8851b99f-1273-4e2e-e2e0-8b93743d654c"
      },
      "source": [
        "for i in range(1,6):\n",
        "  print(i)\n",
        "  if i==3:\n",
        "    break"
      ],
      "execution_count": 3,
      "outputs": [
        {
          "output_type": "stream",
          "text": [
            "1\n",
            "2\n",
            "3\n"
          ],
          "name": "stdout"
        }
      ]
    },
    {
      "cell_type": "code",
      "metadata": {
        "id": "uFjcqMbOxJ6a",
        "colab_type": "code",
        "colab": {
          "base_uri": "https://localhost:8080/",
          "height": 86
        },
        "outputId": "a281e0d4-cb69-4db8-95e6-725101b87500"
      },
      "source": [
        "i=0\n",
        "while(i<5):\n",
        "  i+=1\n",
        "  if i==3:\n",
        "    continue\n",
        "  print(i)"
      ],
      "execution_count": 4,
      "outputs": [
        {
          "output_type": "stream",
          "text": [
            "1\n",
            "2\n",
            "4\n",
            "5\n"
          ],
          "name": "stdout"
        }
      ]
    },
    {
      "cell_type": "code",
      "metadata": {
        "id": "iC8UNE4RxJ-y",
        "colab_type": "code",
        "colab": {
          "base_uri": "https://localhost:8080/",
          "height": 121
        },
        "outputId": "b80dd38a-05ff-4ba9-c252-cdc5865b1611"
      },
      "source": [
        "i=1\n",
        "while(i<6):\n",
        "  print(i)\n",
        "  if i==6:\n",
        "    break\n",
        "  i+=1\n",
        "else:\n",
        "  print('while迴圈正常結果')"
      ],
      "execution_count": 5,
      "outputs": [
        {
          "output_type": "stream",
          "text": [
            "1\n",
            "2\n",
            "3\n",
            "4\n",
            "5\n",
            "while迴圈正常結果\n"
          ],
          "name": "stdout"
        }
      ]
    },
    {
      "cell_type": "code",
      "metadata": {
        "id": "Vmvy5rPw0OQb",
        "colab_type": "code",
        "colab": {
          "base_uri": "https://localhost:8080/",
          "height": 34
        },
        "outputId": "36363bc2-2588-43a9-be1f-4c34ff930095"
      },
      "source": [
        "n=0\n",
        "for x in [0,1,2,3]:\n",
        "  if x%2==0:\n",
        "    continue\n",
        "    n+=1\n",
        "print('執行的元素是',x)"
      ],
      "execution_count": 7,
      "outputs": [
        {
          "output_type": "stream",
          "text": [
            "執行的元素是 3\n"
          ],
          "name": "stdout"
        }
      ]
    },
    {
      "cell_type": "code",
      "metadata": {
        "id": "cRoF7fUe0OU4",
        "colab_type": "code",
        "colab": {
          "base_uri": "https://localhost:8080/",
          "height": 398
        },
        "outputId": "1dfed9b2-35e2-4721-e9b7-c40052dc33da"
      },
      "source": [
        "cars=['Toyota','Honda']\n",
        "\n",
        "for car in cars:#一個一個取出每一個元素，再對每一個元素進行計算\n",
        "  print(car)\n",
        "\n",
        "names=['Allen','James','Toms','Jack']\n",
        "for name in names:\n",
        "  print(name)\n",
        "\n",
        "  car='Audi' #['A','u','d','i']\n",
        "\n",
        "  for c in car:\n",
        "    print(c)"
      ],
      "execution_count": 8,
      "outputs": [
        {
          "output_type": "stream",
          "text": [
            "Toyota\n",
            "Honda\n",
            "Allen\n",
            "A\n",
            "u\n",
            "d\n",
            "i\n",
            "James\n",
            "A\n",
            "u\n",
            "d\n",
            "i\n",
            "Toms\n",
            "A\n",
            "u\n",
            "d\n",
            "i\n",
            "Jack\n",
            "A\n",
            "u\n",
            "d\n",
            "i\n"
          ],
          "name": "stdout"
        }
      ]
    },
    {
      "cell_type": "code",
      "metadata": {
        "id": "opyCOI140Oaq",
        "colab_type": "code",
        "colab": {
          "base_uri": "https://localhost:8080/",
          "height": 103
        },
        "outputId": "67c06467-e3b3-409e-fa15-82e7a3038b31"
      },
      "source": [
        "t=tuple('Tuple')\n",
        "for i in t:\n",
        "  print(i)"
      ],
      "execution_count": 9,
      "outputs": [
        {
          "output_type": "stream",
          "text": [
            "T\n",
            "u\n",
            "p\n",
            "l\n",
            "e\n"
          ],
          "name": "stdout"
        }
      ]
    },
    {
      "cell_type": "code",
      "metadata": {
        "id": "pO1z7YCh1_uo",
        "colab_type": "code",
        "colab": {
          "base_uri": "https://localhost:8080/",
          "height": 103
        },
        "outputId": "59505fb8-6879-4cb7-f29b-431f749c705d"
      },
      "source": [
        "for i in range(0,len(t)):\n",
        "  print(t[i])"
      ],
      "execution_count": 10,
      "outputs": [
        {
          "output_type": "stream",
          "text": [
            "T\n",
            "u\n",
            "p\n",
            "l\n",
            "e\n"
          ],
          "name": "stdout"
        }
      ]
    },
    {
      "cell_type": "code",
      "metadata": {
        "id": "-XzpHJjw1_xH",
        "colab_type": "code",
        "colab": {
          "base_uri": "https://localhost:8080/",
          "height": 86
        },
        "outputId": "f624715f-75a8-4cd7-a333-3711114d8744"
      },
      "source": [
        "fruits=['banana','apple','watermelon']\n",
        "for a in fruits:\n",
        "  print(a)\n",
        "print(fruits[0],fruits[1],fruits[2])"
      ],
      "execution_count": 11,
      "outputs": [
        {
          "output_type": "stream",
          "text": [
            "banana\n",
            "apple\n",
            "watermelon\n",
            "banana apple watermelon\n"
          ],
          "name": "stdout"
        }
      ]
    },
    {
      "cell_type": "code",
      "metadata": {
        "id": "t_O5RY6vxKBu",
        "colab_type": "code",
        "colab": {
          "base_uri": "https://localhost:8080/",
          "height": 121
        },
        "outputId": "99e8d1e1-21bd-4c0e-9aba-71505077c807"
      },
      "source": [
        "sheet=['牛奶','蛋','咖啡豆']\n",
        "for i in range(0,len(sheet)):\n",
        "  print(i,sheet[i])\n",
        "for i,name in enumerate(sheet,start=1):\n",
        "  print(i,name)"
      ],
      "execution_count": 16,
      "outputs": [
        {
          "output_type": "stream",
          "text": [
            "0 牛奶\n",
            "1 蛋\n",
            "2 咖啡豆\n",
            "1 牛奶\n",
            "2 蛋\n",
            "3 咖啡豆\n"
          ],
          "name": "stdout"
        }
      ]
    },
    {
      "cell_type": "code",
      "metadata": {
        "id": "vsGgg40j3Z-_",
        "colab_type": "code",
        "colab": {
          "base_uri": "https://localhost:8080/",
          "height": 86
        },
        "outputId": "eb350b70-00dd-4873-a663-66874640b39b"
      },
      "source": [
        "b=[123,456,789]\n",
        "for a in b:\n",
        "  print(a)\n",
        "print(b[0],b[1],b[2])"
      ],
      "execution_count": 17,
      "outputs": [
        {
          "output_type": "stream",
          "text": [
            "123\n",
            "456\n",
            "789\n",
            "123 456 789\n"
          ],
          "name": "stdout"
        }
      ]
    },
    {
      "cell_type": "code",
      "metadata": {
        "id": "O0TbmGVs3aFV",
        "colab_type": "code",
        "colab": {
          "base_uri": "https://localhost:8080/",
          "height": 121
        },
        "outputId": "003eeb4b-9a99-4128-a2fb-a7a98d3c96b8"
      },
      "source": [
        "lang={'早安':'Good Morning','你好':'Hello'}\n",
        "for ch, en in lang.items(): #items會回傳「鍵」與「值」\n",
        " print('中⽂為', ch, '英⽂為', en)\n",
        "for ch in lang.keys():#會回傳鍵\n",
        " print(ch,lang[ch])\n",
        "for en in lang.values():#會回傳值\n",
        " print(en)"
      ],
      "execution_count": 18,
      "outputs": [
        {
          "output_type": "stream",
          "text": [
            "中⽂為 早安 英⽂為 Good Morning\n",
            "中⽂為 你好 英⽂為 Hello\n",
            "早安 Good Morning\n",
            "你好 Hello\n",
            "Good Morning\n",
            "Hello\n"
          ],
          "name": "stdout"
        }
      ]
    },
    {
      "cell_type": "code",
      "metadata": {
        "id": "Y8a6QuiX3mHk",
        "colab_type": "code",
        "colab": {
          "base_uri": "https://localhost:8080/",
          "height": 103
        },
        "outputId": "14a8a3fd-8f8f-43da-8601-cbd348f59d7c"
      },
      "source": [
        "import random\n",
        "win=0\n",
        "lose=0\n",
        "for times in range(0,100):\n",
        "  doors=['羊','羊']\n",
        "  c=random.randint(0,2)\n",
        "  doors.insert(c,'車')\n",
        "\n",
        "  c=random.randint(0,2)\n",
        "  del doors[c]\n",
        "\n",
        "  doors.remove('羊')\n",
        "\n",
        "  if doors[0]=='車':\n",
        "    win=win+1\n",
        "  else:\n",
        "    lose=lose+1\n",
        "print(\"總共:\", win + lose, \"次\")\n",
        "print(\"贏次數:\", win, \"次\")\n",
        "print(\"輸次數:\", lose, \"次\")\n",
        "\n",
        "total = win + lose\n",
        "print(\"贏機率:\", win / total * 100, \"%\")\n",
        "print(\"輸機率:\", lose / total * 100, \"%\")"
      ],
      "execution_count": 20,
      "outputs": [
        {
          "output_type": "stream",
          "text": [
            "總共: 100 次\n",
            "贏次數: 58 次\n",
            "輸次數: 42 次\n",
            "贏機率: 57.99999999999999 %\n",
            "輸機率: 42.0 %\n"
          ],
          "name": "stdout"
        }
      ]
    },
    {
      "cell_type": "code",
      "metadata": {
        "id": "5qDqtp7i47kT",
        "colab_type": "code",
        "colab": {
          "base_uri": "https://localhost:8080/",
          "height": 131
        },
        "outputId": "1e6ea30b-85aa-4e40-8365-43fa984916c1"
      },
      "source": [
        "import random\n",
        "win = 0\n",
        "lose = 0\n",
        "door_number = int(input(\"你要幾⾨?\"))\n",
        "#玩100000次遊戲\n",
        "for times in range(0, 100000):\n",
        "\n",
        "# ⽺數⽬ = ⾨ - 1，⽤乘法可以直接做出很多隻⽺\n",
        "\n",
        " doors = [\"⽺\"] * (door_number - 1)\n",
        "# randint中號碼從頭到⾨數-1，這是⾞的位置\n",
        " c = random.randint(0, len(doors) - 1)\n",
        " doors.insert(c, \"⾞\")\n",
        "##開始玩遊戲\n",
        "# 讓參賽者挑⼀個⾨，可刪此⾨，因為會換\n",
        " c = random.randint(0, len(doors) - 1)\n",
        " del doors[c]\n",
        "\n",
        "# 主持⼈開⼀隻⽺出來，也刪除此⾨，因為不能也不會選\n",
        " doors.remove(\"⽺\")\n",
        "# 讓參賽者選剩下的⾨\n",
        " c = random.randint(0, len(doors) - 1)\n",
        " if doors[c] == \"⾞\":\n",
        " win = win + 1\n",
        " else:\n",
        " lose = lose + 1\n",
        "print(\"總共:\", win + lose, \"次\")\n",
        "print(\"贏次數:\", win)\n",
        "print(\"輸次數:\", lose)\n",
        "total = win + lose\n",
        "print(\"贏機率:\", win / total * 100, \"%\")\n",
        "print(\"輸機率:\", lose / total * 100, \"%\") "
      ],
      "execution_count": 21,
      "outputs": [
        {
          "output_type": "error",
          "ename": "IndentationError",
          "evalue": "ignored",
          "traceback": [
            "\u001b[0;36m  File \u001b[0;32m\"<ipython-input-21-6656c2ed0574>\"\u001b[0;36m, line \u001b[0;32m24\u001b[0m\n\u001b[0;31m    win = win + 1\u001b[0m\n\u001b[0m      ^\u001b[0m\n\u001b[0;31mIndentationError\u001b[0m\u001b[0;31m:\u001b[0m expected an indented block\n"
          ]
        }
      ]
    }
  ]
}