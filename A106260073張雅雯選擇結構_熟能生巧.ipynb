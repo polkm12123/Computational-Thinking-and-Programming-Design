{
  "nbformat": 4,
  "nbformat_minor": 0,
  "metadata": {
    "colab": {
      "name": "A106260073張雅雯選擇結構 熟能生巧",
      "provenance": [],
      "include_colab_link": true
    },
    "kernelspec": {
      "name": "python3",
      "display_name": "Python 3"
    }
  },
  "cells": [
    {
      "cell_type": "markdown",
      "metadata": {
        "id": "view-in-github",
        "colab_type": "text"
      },
      "source": [
        "<a href=\"https://colab.research.google.com/github/polkm12123/Computational-Thinking-and-Programming-Design/blob/master/A106260073%E5%BC%B5%E9%9B%85%E9%9B%AF%E9%81%B8%E6%93%87%E7%B5%90%E6%A7%8B_%E7%86%9F%E8%83%BD%E7%94%9F%E5%B7%A7.ipynb\" target=\"_parent\"><img src=\"https://colab.research.google.com/assets/colab-badge.svg\" alt=\"Open In Colab\"/></a>"
      ]
    },
    {
      "cell_type": "code",
      "metadata": {
        "id": "1ofYdTsXl1Sy",
        "colab_type": "code",
        "colab": {
          "base_uri": "https://localhost:8080/",
          "height": 101
        },
        "outputId": "8fa862a0-aa91-47cc-bf99-e353c0b03a43"
      },
      "source": [
        "print(\"You are on a deserted island in a 2D world.\")\n",
        "print(\"Try to survive until rescue arrives!\")\n",
        "print(\"Available commands are in CAPITAL letters.\")\n",
        "print(\"Any other command exits the program\")\n",
        "print(\"First LOOK around...\") "
      ],
      "execution_count": 6,
      "outputs": [
        {
          "output_type": "stream",
          "text": [
            "You are on a deserted island in a 2D world.\n",
            "Try to survive until rescue arrives!\n",
            "Available commands are in CAPITAL letters.\n",
            "Any other command exits the program\n",
            "First LOOK around...\n"
          ],
          "name": "stdout"
        }
      ]
    },
    {
      "cell_type": "code",
      "metadata": {
        "id": "VR6ECMTRp8rA",
        "colab_type": "code",
        "colab": {
          "base_uri": "https://localhost:8080/",
          "height": 202
        },
        "outputId": "cba8ed12-204a-4b05-9049-c734358b6011"
      },
      "source": [
        "do = input(\"要玩遊戲請打LOOK\")\n",
        "if do==\"LOOK\":\n",
        "  print(\"You are stuck in a sand ditch.\")\n",
        "  print(\"Crawl out LEFT or RIGHT.\")\n",
        "  do =input(\" ::\")\n",
        "if do ==\"LEFT\":\n",
        "  print(\"You see a STARFISH and a CRAB on the sand.\")\n",
        "  print(\"And you‘re hungry! Which do you eat?\")\n",
        "\n",
        "  do=input(\":: \")\n",
        "  if do ==\"STARFISH\":\n",
        "    print(\"Oh no!You immediately don't feel well. \")\n",
        "  elif do == \"CRAB\":\n",
        "    print(\"Raw crab should be fine, right?YES or NO.\")\n",
        "\n",
        "    do=input(\"::\")\n",
        "    if do ==\"Yes\":\n",
        "      print(\"Ok,You eat it raw. Fingers crossed.\")\n",
        "      print(\"Food in your belly helps you see a TREE.\")\n",
        "\n",
        "      do=input(\"::\")\n",
        "      if do==\"TREE\":\n",
        "        print(\"It's a coconut tree! And you're thirsty!\")\n",
        "        print(\"Do you drink the coconut water? YES or NO.\")\n",
        "\n",
        "        do=input(\"::\")\n",
        "        if do ==\"YES\":\n",
        "          print(\"Oh boy. Coconut water and raw crab don't mix.\")\n",
        "          print(\"You do not survive :(\")\n",
        "        elif do == \"NO\":\n",
        "          print(\"Good choice.\")\n",
        "          print(\"Look! It's a rescue plane! You made it! \\o/\")\n",
        "    elif do==\"NO\":\n",
        "      print(\"Well, there's nothing else left to eat.\")\n",
        "      print(\"You do not survive :(\")\n",
        "  elif do ==\"RIGHT\":\n",
        "    print(\"No can do. That side is very slippery.\")\n",
        "    print(\"You fall very far into some weird cavern.\")\n",
        "    print(\"You do not survive :(\") \n",
        "else:\n",
        "   print(\"You can only do actions shown in capital letters.\")\n",
        "   print(\"Try again!\")\n"
      ],
      "execution_count": 10,
      "outputs": [
        {
          "output_type": "stream",
          "text": [
            "要玩遊戲請打LOOKLOOK\n",
            "You are stuck in a sand ditch.\n",
            "Crawl out LEFT or RIGHT.\n",
            " ::LEFT\n",
            "You see a STARFISH and a CRAB on the sand.\n",
            "And you‘re hungry! Which do you eat?\n",
            ":: CRAB\n",
            "Raw crab should be fine, right?YES or NO.\n",
            "::NO\n",
            "Well, there's nothing else left to eat.\n",
            "You do not survive :(\n"
          ],
          "name": "stdout"
        }
      ]
    },
    {
      "cell_type": "code",
      "metadata": {
        "id": "7HJVZRzEqPp8",
        "colab_type": "code",
        "colab": {
          "base_uri": "https://localhost:8080/",
          "height": 67
        },
        "outputId": "99d2dfa7-479d-4872-929c-0579bf5e9aa5"
      },
      "source": [
        "import random\n",
        "my = int(input(\"請出拳 [0] 剪⼑ [1] ⽯頭 [2] 布\"))\n",
        "print(\"我出拳為\", my)\n",
        "computer = random.randint(0, 2)\n",
        "print(\"電腦出拳為\", computer)\n"
      ],
      "execution_count": 11,
      "outputs": [
        {
          "output_type": "stream",
          "text": [
            "請出拳 [0] 剪⼑ [1] ⽯頭 [2] 布0\n",
            "我出拳為 0\n",
            "電腦出拳為 2\n"
          ],
          "name": "stdout"
        }
      ]
    },
    {
      "cell_type": "code",
      "metadata": {
        "id": "eFmth6ZcZZ_m",
        "colab_type": "code",
        "colab": {
          "base_uri": "https://localhost:8080/",
          "height": 34
        },
        "outputId": "acbb274b-148c-46d4-98c8-adb4dd36f548"
      },
      "source": [
        "if my == 0:\n",
        "  if computer == 0:\n",
        "    print('平⼿')\n",
        "  elif computer == 1:\n",
        "    print('電腦獲勝')\n",
        "  else:\n",
        "    print('玩家獲勝')\n",
        "elif my == 1:\n",
        "  if computer == 0:\n",
        "    print('玩家獲勝')\n",
        "  elif computer == 1:\n",
        "    print('平⼿')\n",
        "  else:\n",
        "    print('電腦獲勝')\n",
        "else:\n",
        "  if computer == 1:\n",
        "    print('電腦獲勝')\n",
        "  elif computer == 2:\n",
        "      print('玩家獲勝')\n",
        "  else:\n",
        "    print('平⼿')"
      ],
      "execution_count": 13,
      "outputs": [
        {
          "output_type": "stream",
          "text": [
            "玩家獲勝\n"
          ],
          "name": "stdout"
        }
      ]
    },
    {
      "cell_type": "code",
      "metadata": {
        "id": "nI807pAZZ5JM",
        "colab_type": "code",
        "colab": {
          "base_uri": "https://localhost:8080/",
          "height": 67
        },
        "outputId": "c7637424-f175-4b44-e1cb-35a10b0d7907"
      },
      "source": [
        "import random\n",
        "my_choice = int(input(\"請出拳 [0] 剪⼑ [1] ⽯頭 [2] 布\"))\n",
        "print(\"我出拳為\", my_choice)\n",
        "com_choice = random.randint(0, 2)\n",
        "print(\"電腦出拳為\", com_choice)"
      ],
      "execution_count": 14,
      "outputs": [
        {
          "output_type": "stream",
          "text": [
            "請出拳 [0] 剪⼑ [1] ⽯頭 [2] 布3\n",
            "我出拳為 3\n",
            "電腦出拳為 1\n"
          ],
          "name": "stdout"
        }
      ]
    },
    {
      "cell_type": "code",
      "metadata": {
        "id": "-722ED6oaB3P",
        "colab_type": "code",
        "colab": {
          "base_uri": "https://localhost:8080/",
          "height": 34
        },
        "outputId": "4bad2ec6-075b-4894-f4ad-8a194697d86b"
      },
      "source": [
        "if my_choice == (com_choice + 1) % 3:\n",
        " print(\"我贏了\")\n",
        "elif my_choice == com_choice:\n",
        " print(\"平⼿\")\n",
        "else:\n",
        "  print(\"我輸了\")"
      ],
      "execution_count": 18,
      "outputs": [
        {
          "output_type": "stream",
          "text": [
            "我輸了\n"
          ],
          "name": "stdout"
        }
      ]
    },
    {
      "cell_type": "code",
      "metadata": {
        "id": "yKtJqtWzaM62",
        "colab_type": "code",
        "colab": {
          "base_uri": "https://localhost:8080/",
          "height": 67
        },
        "outputId": "1a148ad4-ca66-4ed3-86ac-b8dfef4ac85f"
      },
      "source": [
        "import random\n",
        "my_choice = int(input(\"請出拳 [0] 蟲 [1] 雞 [2] 老虎 [3] 棒⼦\"))\n",
        "print(\"你出的拳:\", my_choice)\n",
        "com_choice = random.randint(0, 3)\n",
        "print(\"電腦出拳為\", com_choice)"
      ],
      "execution_count": 19,
      "outputs": [
        {
          "output_type": "stream",
          "text": [
            "請出拳 [0] 蟲 [1] 雞 [2] 老虎 [3] 棒⼦2\n",
            "你出的拳: 2\n",
            "電腦出拳為 0\n"
          ],
          "name": "stdout"
        }
      ]
    },
    {
      "cell_type": "code",
      "metadata": {
        "id": "pOCGs46PaP_F",
        "colab_type": "code",
        "colab": {
          "base_uri": "https://localhost:8080/",
          "height": 34
        },
        "outputId": "f608f9bb-7fb7-4d9c-a619-18098b155014"
      },
      "source": [
        "if my_choice == (com_choice + 1) % 4:\n",
        " print(\"我贏了\")\n",
        "elif com_choice == (my_choice + 1) % 4:\n",
        " print(\"電腦贏了\")\n",
        "else:\n",
        " print(\"平⼿\")"
      ],
      "execution_count": 20,
      "outputs": [
        {
          "output_type": "stream",
          "text": [
            "平⼿\n"
          ],
          "name": "stdout"
        }
      ]
    },
    {
      "cell_type": "code",
      "metadata": {
        "id": "6HmnayPIaY9e",
        "colab_type": "code",
        "colab": {
          "base_uri": "https://localhost:8080/",
          "height": 50
        },
        "outputId": "32d48552-ce92-4654-eae8-9417bb006d7f"
      },
      "source": [
        "a=float(input('請輸入眼鏡度數?'))\n",
        "if a <0.9:\n",
        "  print(\"近視\")\n",
        "if a>0.9:\n",
        "  print(\"視力正常\")\n"
      ],
      "execution_count": 21,
      "outputs": [
        {
          "output_type": "stream",
          "text": [
            "請輸入眼鏡度數?0.8\n",
            "近視\n"
          ],
          "name": "stdout"
        }
      ]
    },
    {
      "cell_type": "code",
      "metadata": {
        "id": "MLoQPcaOc4Zj",
        "colab_type": "code",
        "colab": {
          "base_uri": "https://localhost:8080/",
          "height": 50
        },
        "outputId": "8fecbd17-c0b8-4eb8-ce77-ab564c540a08"
      },
      "source": [
        "year=int(input('請輸入年份?'))\n",
        "if year %4==0:\n",
        "  print(year,'閏年')"
      ],
      "execution_count": 23,
      "outputs": [
        {
          "output_type": "stream",
          "text": [
            "請輸入年份?2012\n",
            "2012 閏年\n"
          ],
          "name": "stdout"
        }
      ]
    },
    {
      "cell_type": "code",
      "metadata": {
        "id": "n7VBQ3sbdb8R",
        "colab_type": "code",
        "colab": {
          "base_uri": "https://localhost:8080/",
          "height": 50
        },
        "outputId": "321d5cab-459c-462b-f5f6-52db97bed9fc"
      },
      "source": [
        "a=float(input(\"請輸入體溫?\"))\n",
        "if a<36:\n",
        "  print(\"體溫過低\")\n",
        "if 36<=a<38:\n",
        "  print(\"體溫正常\")\n",
        "if 38<=a<39:\n",
        "  print(\"體溫有點燒\")\n",
        "if a>=39:\n",
        "  print(\"體溫很燒\")"
      ],
      "execution_count": 24,
      "outputs": [
        {
          "output_type": "stream",
          "text": [
            "請輸入體溫?36.5\n",
            "體溫正常\n"
          ],
          "name": "stdout"
        }
      ]
    },
    {
      "cell_type": "code",
      "metadata": {
        "id": "tOWThXPGe9eV",
        "colab_type": "code",
        "colab": {}
      },
      "source": [
        ""
      ],
      "execution_count": 0,
      "outputs": []
    }
  ]
}