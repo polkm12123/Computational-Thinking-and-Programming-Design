{
  "nbformat": 4,
  "nbformat_minor": 0,
  "metadata": {
    "colab": {
      "name": "A106260073張雅雯-動手實作7.8週",
      "provenance": [],
      "include_colab_link": true
    },
    "kernelspec": {
      "name": "python3",
      "display_name": "Python 3"
    }
  },
  "cells": [
    {
      "cell_type": "markdown",
      "metadata": {
        "id": "view-in-github",
        "colab_type": "text"
      },
      "source": [
        "<a href=\"https://colab.research.google.com/github/polkm12123/Computational-Thinking-and-Programming-Design/blob/master/A106260073%E5%BC%B5%E9%9B%85%E9%9B%AF_%E5%8B%95%E6%89%8B%E5%AF%A6%E4%BD%9C7_8%E9%80%B1.ipynb\" target=\"_parent\"><img src=\"https://colab.research.google.com/assets/colab-badge.svg\" alt=\"Open In Colab\"/></a>"
      ]
    },
    {
      "cell_type": "code",
      "metadata": {
        "id": "6aICmZjw1R9p",
        "colab_type": "code",
        "colab": {
          "base_uri": "https://localhost:8080/",
          "height": 474
        },
        "outputId": "2de61277-f6bb-4616-95e1-536fd7abdbc4"
      },
      "source": [
        "season=\"1995-1996\"\n",
        "team=\"Chicago Bulls\"\n",
        "coach=\"Phil Jackson\"\n",
        "\n",
        "won_championship=True\n",
        "\n",
        "records=[72,10]\n",
        "starting_lineup=[\"Ron Harper\",\"Michael Jordan\",\"Scottie Pippen\",\"Dennis Rodman\",\"Luc Longley\"]\n",
        "\n",
        "best_chicago_bulls=[season,team,coach,won_championship,records,starting_lineup]\n",
        "print(best_chicago_bulls)\n",
        "print(type(best_chicago_bulls))\n",
        "\n",
        "print(len(best_chicago_bulls))\n",
        "\n",
        "print(best_chicago_bulls[0])\n",
        "print(best_chicago_bulls[1])\n",
        "print(best_chicago_bulls[2])\n",
        "print(best_chicago_bulls[3])\n",
        "print(best_chicago_bulls[4])\n",
        "print(best_chicago_bulls[5])\n",
        "\n",
        "print(best_chicago_bulls[-1])\n",
        "print(best_chicago_bulls[-2])\n",
        "print(best_chicago_bulls[-3])\n",
        "print(best_chicago_bulls[-4])\n",
        "print(best_chicago_bulls[-5])\n",
        "print(best_chicago_bulls[-6])\n",
        "\n",
        "print(best_chicago_bulls[0:3])\n",
        "print(best_chicago_bulls[::2])\n",
        "print(best_chicago_bulls[::-1])\n",
        "\n",
        "best_chicago_bulls[5].append(\"Toni Kukoc\")\n",
        "print(best_chicago_bulls[5])\n",
        "\n",
        "center=best_chicago_bulls[5].pop()\n",
        "print(center)\n",
        "print(best_chicago_bulls[5])\n",
        "\n",
        "best_chicago_bulls = [season, team, coach, won_championship, records, starting_lineup]\n",
        "del best_chicago_bulls[5][0] #del指定位置資料刪除\n",
        "print(best_chicago_bulls[5])\n",
        " \n",
        "best_chicago_bulls = [season, team, coach, won_championship, records, starting_lineup]\n",
        "best_chicago_bulls[4].sort()\n",
        "print(best_chicago_bulls[4])  #遞增排序\n",
        "\n",
        "best_chicago_bulls[4].sort(reverse=True)\n",
        "print(best_chicago_bulls[4])#遞減排序\n",
        "\n",
        "best_chicago_bulls[5].sort()\n",
        "print(best_chicago_bulls[5])#文字遞增排序\n",
        "\n",
        "best_chicago_bulls[5].sort(reverse=True)\n",
        "print(best_chicago_bulls[5]) #文字遞減排序\n"
      ],
      "execution_count": 2,
      "outputs": [
        {
          "output_type": "stream",
          "text": [
            "['1995-1996', 'Chicago Bulls', 'Phil Jackson', True, [72, 10], ['Ron Harper', 'Michael Jordan', 'Scottie Pippen', 'Dennis Rodman', 'Luc Longley']]\n",
            "<class 'list'>\n",
            "6\n",
            "1995-1996\n",
            "Chicago Bulls\n",
            "Phil Jackson\n",
            "True\n",
            "[72, 10]\n",
            "['Ron Harper', 'Michael Jordan', 'Scottie Pippen', 'Dennis Rodman', 'Luc Longley']\n",
            "['Ron Harper', 'Michael Jordan', 'Scottie Pippen', 'Dennis Rodman', 'Luc Longley']\n",
            "[72, 10]\n",
            "True\n",
            "Phil Jackson\n",
            "Chicago Bulls\n",
            "1995-1996\n",
            "['1995-1996', 'Chicago Bulls', 'Phil Jackson']\n",
            "['1995-1996', 'Phil Jackson', [72, 10]]\n",
            "[['Ron Harper', 'Michael Jordan', 'Scottie Pippen', 'Dennis Rodman', 'Luc Longley'], [72, 10], True, 'Phil Jackson', 'Chicago Bulls', '1995-1996']\n",
            "['Ron Harper', 'Michael Jordan', 'Scottie Pippen', 'Dennis Rodman', 'Luc Longley', 'Toni Kukoc']\n",
            "Toni Kukoc\n",
            "['Ron Harper', 'Michael Jordan', 'Scottie Pippen', 'Dennis Rodman', 'Luc Longley']\n",
            "['Michael Jordan', 'Scottie Pippen', 'Dennis Rodman', 'Luc Longley']\n",
            "[10, 72]\n",
            "[72, 10]\n",
            "['Dennis Rodman', 'Luc Longley', 'Michael Jordan', 'Scottie Pippen']\n",
            "['Scottie Pippen', 'Michael Jordan', 'Luc Longley', 'Dennis Rodman']\n"
          ],
          "name": "stdout"
        }
      ]
    },
    {
      "cell_type": "code",
      "metadata": {
        "id": "PMZK8lhk5fo3",
        "colab_type": "code",
        "colab": {
          "base_uri": "https://localhost:8080/",
          "height": 50
        },
        "outputId": "42195cc3-12b7-433c-b489-daca84b3d643"
      },
      "source": [
        "dict1={}  #建立字典 使用{},元素包含一對一\n",
        "print(dict1)\n",
        "\n",
        "lang={'早安':'Good Morning','你好':'Hello'}\n",
        "print(lang)"
      ],
      "execution_count": 3,
      "outputs": [
        {
          "output_type": "stream",
          "text": [
            "{}\n",
            "{'早安': 'Good Morning', '你好': 'Hello'}\n"
          ],
          "name": "stdout"
        }
      ]
    },
    {
      "cell_type": "code",
      "metadata": {
        "id": "YMnbuTgy6fVi",
        "colab_type": "code",
        "colab": {
          "base_uri": "https://localhost:8080/",
          "height": 84
        },
        "outputId": "aeb9da4b-b520-407e-df25-2ed16cb31836"
      },
      "source": [
        "a=[['早安','Good Morning'],['你好','Hello']]#串列中包含串列\n",
        "dict1=dict(a)\n",
        "print(dict1)\n",
        "\n",
        "b=[('早安','Good Morning'),('你好','Hello')]#串列中包含tuple\n",
        "dict2=dict(b)\n",
        "print(dict2)\n",
        "\n",
        "c=(['早安','Good Morning'],['你好','Hello'])#tuple中包含串列\n",
        "dict3=dict(c)\n",
        "print(dict3)\n",
        "d=(('早安','Good Morning'),('你好','Hello')) #tuple中包含tuple\n",
        "dict4=dict(d)\n",
        "print(dict4)"
      ],
      "execution_count": 5,
      "outputs": [
        {
          "output_type": "stream",
          "text": [
            "{'早安': 'Good Morning', '你好': 'Hello'}\n",
            "{'早安': 'Good Morning', '你好': 'Hello'}\n",
            "{'早安': 'Good Morning', '你好': 'Hello'}\n",
            "{'早安': 'Good Morning', '你好': 'Hello'}\n"
          ],
          "name": "stdout"
        }
      ]
    },
    {
      "cell_type": "code",
      "metadata": {
        "id": "ZViMBWbo7p4v",
        "colab_type": "code",
        "colab": {
          "base_uri": "https://localhost:8080/",
          "height": 50
        },
        "outputId": "1a048393-817c-4f1d-c9c9-b41712b5b8b1"
      },
      "source": [
        "lang={'早安':'Good Morning','你好':'Hello'}\n",
        "lang['你好嗎']='Hi'\n",
        "print(lang)\n",
        "lang['學生']='Student'\n",
        "print(lang)"
      ],
      "execution_count": 7,
      "outputs": [
        {
          "output_type": "stream",
          "text": [
            "{'早安': 'Good Morning', '你好': 'Hello', '你好嗎': 'Hi'}\n",
            "{'早安': 'Good Morning', '你好': 'Hello', '你好嗎': 'Hi', '學生': 'Student'}\n"
          ],
          "name": "stdout"
        }
      ]
    },
    {
      "cell_type": "code",
      "metadata": {
        "id": "3NSppNcf-SDD",
        "colab_type": "code",
        "colab": {
          "base_uri": "https://localhost:8080/",
          "height": 34
        },
        "outputId": "409ae678-9f32-4e8c-9725-dca5a6c27b4f"
      },
      "source": [
        "lang={'早安':'Good Morning', '你好':'Hello'}\n",
        "del lang['早安']\n",
        "print(lang)"
      ],
      "execution_count": 8,
      "outputs": [
        {
          "output_type": "stream",
          "text": [
            "{'你好': 'Hello'}\n"
          ],
          "name": "stdout"
        }
      ]
    },
    {
      "cell_type": "code",
      "metadata": {
        "id": "mJ7EHZkS-XGD",
        "colab_type": "code",
        "colab": {
          "base_uri": "https://localhost:8080/",
          "height": 34
        },
        "outputId": "636433a5-cc8e-45ba-dd42-788293924d74"
      },
      "source": [
        "lang1={'你好':'Hello'}\n",
        "lang2={'學生':'Student'}\n",
        "lang1.update(lang2) # 指令dict1.update(dict2) update是兩個合成為一個\n",
        "print(lang1)"
      ],
      "execution_count": 9,
      "outputs": [
        {
          "output_type": "stream",
          "text": [
            "{'你好': 'Hello', '學生': 'Student'}\n"
          ],
          "name": "stdout"
        }
      ]
    },
    {
      "cell_type": "code",
      "metadata": {
        "id": "eFl_DuK3-Zc8",
        "colab_type": "code",
        "colab": {
          "base_uri": "https://localhost:8080/",
          "height": 50
        },
        "outputId": "df408b16-8d99-4aac-db7d-ea867fd57947"
      },
      "source": [
        "lang1 = {'早安':'Good Morning','你好':'Hello'}\n",
        "lang2 = lang1\n",
        "lang2['你好']='Hi'\n",
        "print('lang1為', lang1)\n",
        "print('lang2為', lang2)"
      ],
      "execution_count": 10,
      "outputs": [
        {
          "output_type": "stream",
          "text": [
            "lang1為 {'早安': 'Good Morning', '你好': 'Hi'}\n",
            "lang2為 {'早安': 'Good Morning', '你好': 'Hi'}\n"
          ],
          "name": "stdout"
        }
      ]
    },
    {
      "cell_type": "code",
      "metadata": {
        "id": "_gaYLRhr-qgV",
        "colab_type": "code",
        "colab": {
          "base_uri": "https://localhost:8080/",
          "height": 50
        },
        "outputId": "f350b0a8-8eec-43dd-c282-18ed38fbc11e"
      },
      "source": [
        "lang1 = {'早安': 'Good Morning', '你好': 'Hello'}\n",
        "lang3 = lang1.copy()\n",
        "lang3['你好']='Hi'\n",
        "print('lang1為', lang1)\n",
        "print('lang3為', lang3)"
      ],
      "execution_count": 11,
      "outputs": [
        {
          "output_type": "stream",
          "text": [
            "lang1為 {'早安': 'Good Morning', '你好': 'Hello'}\n",
            "lang3為 {'早安': 'Good Morning', '你好': 'Hi'}\n"
          ],
          "name": "stdout"
        }
      ]
    },
    {
      "cell_type": "code",
      "metadata": {
        "id": "hIJDGDjW-spN",
        "colab_type": "code",
        "colab": {
          "base_uri": "https://localhost:8080/",
          "height": 101
        },
        "outputId": "b166c5d8-cf4a-4ea3-d532-83ca550d1941"
      },
      "source": [
        "s={1,2,3,4}\n",
        "print(s)\n",
        "\n",
        "s=set(('a',1,'b',2))\n",
        "print(s)\n",
        "\n",
        "s=set({'早安':'Good Morning', '你好':'Hello'})\n",
        "print(s)\n",
        "\n",
        "s = set(['apple', 'banana', 'apple'])\n",
        "print(s)\n",
        "\n",
        "s=set('racecar')\n",
        "print(s)"
      ],
      "execution_count": 12,
      "outputs": [
        {
          "output_type": "stream",
          "text": [
            "{1, 2, 3, 4}\n",
            "{1, 2, 'b', 'a'}\n",
            "{'你好', '早安'}\n",
            "{'apple', 'banana'}\n",
            "{'r', 'a', 'c', 'e'}\n"
          ],
          "name": "stdout"
        }
      ]
    },
    {
      "cell_type": "code",
      "metadata": {
        "id": "EB26-EQw_VgF",
        "colab_type": "code",
        "colab": {
          "base_uri": "https://localhost:8080/",
          "height": 67
        },
        "outputId": "10406f47-fce6-4ef4-f87a-756b926f1a90"
      },
      "source": [
        "s = set('tiger')\n",
        "print(s)\n",
        "\n",
        "s.add('z') #增加\n",
        "print(s)\n",
        "\n",
        "s.remove('t') #刪除\n",
        "print(s)"
      ],
      "execution_count": 13,
      "outputs": [
        {
          "output_type": "stream",
          "text": [
            "{'t', 'i', 'e', 'r', 'g'}\n",
            "{'t', 'i', 'e', 'r', 'z', 'g'}\n",
            "{'i', 'e', 'r', 'z', 'g'}\n"
          ],
          "name": "stdout"
        }
      ]
    },
    {
      "cell_type": "code",
      "metadata": {
        "id": "0z2IJmbY_kLN",
        "colab_type": "code",
        "colab": {
          "base_uri": "https://localhost:8080/",
          "height": 101
        },
        "outputId": "a19b32c8-411c-4f54-96e8-d3967a8ea5ea"
      },
      "source": [
        "a = set('tiger')\n",
        "b = set('bear')\n",
        "print(a)\n",
        "print(b)\n",
        "print(a | b) #聯集，元素在集合a或在集合b\n",
        "print(a & b) #交集，元素在集合a且在集合b\n",
        "print(a - b) #差集，元素在集合a不在集合b"
      ],
      "execution_count": 14,
      "outputs": [
        {
          "output_type": "stream",
          "text": [
            "{'t', 'i', 'e', 'r', 'g'}\n",
            "{'r', 'b', 'a', 'e'}\n",
            "{'t', 'i', 'e', 'r', 'b', 'a', 'g'}\n",
            "{'r', 'e'}\n",
            "{'t', 'i', 'g'}\n"
          ],
          "name": "stdout"
        }
      ]
    },
    {
      "cell_type": "code",
      "metadata": {
        "id": "Mr3LCMV7_nXN",
        "colab_type": "code",
        "colab": {
          "base_uri": "https://localhost:8080/",
          "height": 50
        },
        "outputId": "a761cab5-9459-4cb6-9bf7-75acf0332483"
      },
      "source": [
        "a = set('tiger')\n",
        "b = set('tigers')\n",
        "print(a<=b) #子集合(<=)，元素在集合A必定在集合B\n",
        "a = set('tiger')\n",
        "b = set('tigers')\n",
        "print(a<b) #真子集合(<)，元素在集合A必定在集合B，且集合B包含集合"
      ],
      "execution_count": 15,
      "outputs": [
        {
          "output_type": "stream",
          "text": [
            "True\n",
            "True\n"
          ],
          "name": "stdout"
        }
      ]
    },
    {
      "cell_type": "code",
      "metadata": {
        "id": "LhvEXgd0_pkh",
        "colab_type": "code",
        "colab": {}
      },
      "source": [
        ""
      ],
      "execution_count": 0,
      "outputs": []
    }
  ]
}