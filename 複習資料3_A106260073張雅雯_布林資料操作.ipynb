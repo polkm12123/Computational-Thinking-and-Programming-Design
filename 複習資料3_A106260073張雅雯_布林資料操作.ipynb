{
  "nbformat": 4,
  "nbformat_minor": 0,
  "metadata": {
    "colab": {
      "name": "複習資料3 A106260073張雅雯_布林資料操作",
      "provenance": [],
      "include_colab_link": true
    },
    "kernelspec": {
      "name": "python3",
      "display_name": "Python 3"
    }
  },
  "cells": [
    {
      "cell_type": "markdown",
      "metadata": {
        "id": "view-in-github",
        "colab_type": "text"
      },
      "source": [
        "<a href=\"https://colab.research.google.com/github/polkm12123/Computational-Thinking-and-Programming-Design/blob/master/%E8%A4%87%E7%BF%92%E8%B3%87%E6%96%993_A106260073%E5%BC%B5%E9%9B%85%E9%9B%AF_%E5%B8%83%E6%9E%97%E8%B3%87%E6%96%99%E6%93%8D%E4%BD%9C.ipynb\" target=\"_parent\"><img src=\"https://colab.research.google.com/assets/colab-badge.svg\" alt=\"Open In Colab\"/></a>"
      ]
    },
    {
      "cell_type": "code",
      "metadata": {
        "id": "f3O40f1FH4DC",
        "colab_type": "code",
        "colab": {}
      },
      "source": [
        "#在 Python 程式語⾔中，不等於的邏輯運算⼦為？ (A) != (B) <> (C) ><(D) 以上皆否。\n",
        "#Ans:C\n",
        "1 ( X )：”=”是關係運算⼦的等於。#'==':等於，\"\"=\":相同\n",
        "2 ( X )：”&&”是邏輯運算⼦的AND。\n",
        "3 ( O )：下列變數x會傳回True。\n",
        "4 ( O )：下列變數x會傳回False。\n",
        "1 ( D )：下列那⼀個是不等於關係運算⼦。 (A) >= (B) <> (C) <= (D) !=\n",
        "#Ans:B\n",
        "2 ( B )：有⼀個運算是如下：x = A op B\n",
        "如果A是True，B是False，結果列印x是True，則op是什麼?\n",
        "(A) and (B)or (C) not (D)=="
      ],
      "execution_count": 0,
      "outputs": []
    }
  ]
}