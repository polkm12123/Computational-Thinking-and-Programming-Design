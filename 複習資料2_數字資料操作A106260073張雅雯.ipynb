{
  "nbformat": 4,
  "nbformat_minor": 0,
  "metadata": {
    "colab": {
      "name": "複習資料2-數字資料操作A106260073張雅雯",
      "provenance": [],
      "include_colab_link": true
    },
    "kernelspec": {
      "name": "python3",
      "display_name": "Python 3"
    }
  },
  "cells": [
    {
      "cell_type": "markdown",
      "metadata": {
        "id": "view-in-github",
        "colab_type": "text"
      },
      "source": [
        "<a href=\"https://colab.research.google.com/github/polkm12123/Computational-Thinking-and-Programming-Design/blob/master/%E8%A4%87%E7%BF%92%E8%B3%87%E6%96%992_%E6%95%B8%E5%AD%97%E8%B3%87%E6%96%99%E6%93%8D%E4%BD%9CA106260073%E5%BC%B5%E9%9B%85%E9%9B%AF.ipynb\" target=\"_parent\"><img src=\"https://colab.research.google.com/assets/colab-badge.svg\" alt=\"Open In Colab\"/></a>"
      ]
    },
    {
      "cell_type": "code",
      "metadata": {
        "id": "G2d1vQkhGHbr",
        "colab_type": "code",
        "outputId": "cef7101a-69d7-4803-b2b5-40cbbf3e0603",
        "colab": {
          "base_uri": "https://localhost:8080/",
          "height": 121
        }
      },
      "source": [
        "# 1. 在 Python 程式語⾔中，若 a = \"12\"，則 print(a*2) 結果為？ (A) 24 (B) 1212\n",
        "a='12'\n",
        "print(a*2)\n",
        "#Ans:1212\n",
        "#2. 在 Python 程式語⾔中，若 a = 13，則 print(a // 5) 結果為？ (A) 2 (B) 3 \n",
        "a=13\n",
        "print(a//5)\n",
        "#Ans:2\n",
        "#3. 在 Python 程式語⾔中，若 a = 13，則 print(a << 2） 結果為？ (A) 26 (B) 6\n",
        "a=13\n",
        "print(a<<2)\n",
        "#Ans:52\n",
        "#4. 在 Python 程式語⾔中，若 a = 12，則 print(a**2) 結果為？ (A) 122 (B) 144\n",
        "a=12\n",
        "print(a**2)\n",
        "#Ans:144\n",
        "#5. 在 Python 程式語⾔中，若 a = 13，則 print(a % 5) 結果為？ (A) 2 (B) 3 (C) 4\n",
        "a=13\n",
        "print(a%5)\n",
        "#Ans:3\n",
        "#6. 執⾏ print((3 ** 2 + 4 ** 2) * 5) 結果為？ (A) 100 (B) 120 (C) 125 (D) 13\n",
        "print((3 ** 2 + 4 ** 2) * 5)\n",
        "#Ans:125"
      ],
      "execution_count": 0,
      "outputs": [
        {
          "output_type": "stream",
          "text": [
            "1212\n",
            "2\n",
            "52\n",
            "144\n",
            "3\n",
            "125\n"
          ],
          "name": "stdout"
        }
      ]
    },
    {
      "cell_type": "code",
      "metadata": {
        "id": "x31E_ew1HnbC",
        "colab_type": "code",
        "colab": {}
      },
      "source": [
        "#1. 有 ⼀敘述a = 5/2 + 5//2 + 2**3 + 5%2，試問 a 的值為何?(A) 13.5 (B) 14 (C) 14.5 (D) 15\n",
        "#Ans:A\n",
        "#2. 試問下列哪⼀個為偽?(A) a = a + 1和 a += 1具有⼀樣的功能(B) a =+ 1 表⽰ a = a +1(C) 若 a = 5，則 a //= 2，最後的a為2\n",
        "#(D) a, b = 100, 200，表⽰a為100，b為200，這表⽰可以指定多個變數\n",
        "#Ans:B\n",
        "#3. 試問下列敘述何者為偽?(A) 運算⼦是⼀符號，其具有特定的功能(B) 運算⼦ =，表⽰指定的意思，和數學的相等是不⼀樣的(C) 運算⼦ //，表⽰整數除法，亦即 9 // 2，其結果為4\n",
        "#(D) a = a + 1和 a++的結果是⼀樣的\n",
        "#Ans:D"
      ],
      "execution_count": 0,
      "outputs": []
    },
    {
      "cell_type": "code",
      "metadata": {
        "id": "4RD48XbhIYxM",
        "colab_type": "code",
        "outputId": "874c767d-2182-44eb-cb20-456f26e72a6f",
        "colab": {
          "base_uri": "https://localhost:8080/",
          "height": 34
        }
      },
      "source": [
        "a=5/2 + 5//2 + 2**3 + 5%2\n",
        "print(a)\n"
      ],
      "execution_count": 0,
      "outputs": [
        {
          "output_type": "stream",
          "text": [
            "13.5\n"
          ],
          "name": "stdout"
        }
      ]
    },
    {
      "cell_type": "code",
      "metadata": {
        "id": "-Rpi0dZfJDZt",
        "colab_type": "code",
        "outputId": "a2c3179c-2113-454d-d864-32624c5e137f",
        "colab": {
          "base_uri": "https://localhost:8080/",
          "height": 131
        }
      },
      "source": [
        "#執⾏時以 100，200加以輸入，則最後的輸出結果為(A) 102 (B) 100.0 (C) 2 (D) 3\n",
        "#Ans:B\n",
        "a, b = eval(input(100,200))\n",
        "total = 100 + 200 * 2 / 100 – 4\n",
        "print(total)\n"
      ],
      "execution_count": 0,
      "outputs": [
        {
          "output_type": "error",
          "ename": "SyntaxError",
          "evalue": "ignored",
          "traceback": [
            "\u001b[0;36m  File \u001b[0;32m\"<ipython-input-8-a5e371c0e5b1>\"\u001b[0;36m, line \u001b[0;32m2\u001b[0m\n\u001b[0;31m    total = a + b * 2 / 100 – 4\u001b[0m\n\u001b[0m                            ^\u001b[0m\n\u001b[0;31mSyntaxError\u001b[0m\u001b[0;31m:\u001b[0m invalid character in identifier\n"
          ]
        }
      ]
    },
    {
      "cell_type": "code",
      "metadata": {
        "id": "ri1buK6nBryl",
        "colab_type": "code",
        "colab": {}
      },
      "source": [
        "#1 ( O )：”%”是⽤於求餘數。\n",
        "#2 ( X )：“//”是⽤於求次⽅。#整數除法(去除小數點)\n",
        "#3 ( X )：乘法、除法、次⽅的運算優先順序相同，會依照出現順序由左到右運算。#先乘除後加減\n",
        "#4 ( X )：”x %= y”相當於”x = y % x”。#相除後餘數 X=X%Y\n",
        "#5 ( O )：下列2個公式的意義相同：a /= b與 a = a / b\n",
        "#6 ( X )：有⼀道敘述”x, y, z = 10, 20, 30”，最後得到x值是30。#X=10\n",
        "#7 ( X )：有⼀道敘述”z = divmod(9, 5)”，可以得到z是4。#9/5=1,4 #divmod(分子，分母)\n",
        "#8 ( X )：x值是100.5，經過round(x)處理，可以傳回101。 #round(x):回傳最接近的整數，若兩數都很接近則回傳偶數\n",
        "#9 ( X )：pow(x,y)可以獲得x開根號y的值。pow(a,b):回傳a^b\n",
        "#1 ( A )：round(4.5)的值是多少。A：4 B：5 C：True D：False"
      ],
      "execution_count": 0,
      "outputs": []
    },
    {
      "cell_type": "code",
      "metadata": {
        "id": "d2LaU9MDBr_c",
        "colab_type": "code",
        "colab": {}
      },
      "source": [
        ""
      ],
      "execution_count": 0,
      "outputs": []
    },
    {
      "cell_type": "code",
      "metadata": {
        "id": "iDYlcLrlBsUN",
        "colab_type": "code",
        "colab": {}
      },
      "source": [
        ""
      ],
      "execution_count": 0,
      "outputs": []
    },
    {
      "cell_type": "code",
      "metadata": {
        "id": "LpYkmoa4BsYE",
        "colab_type": "code",
        "colab": {}
      },
      "source": [
        ""
      ],
      "execution_count": 0,
      "outputs": []
    },
    {
      "cell_type": "code",
      "metadata": {
        "id": "I4jTZqvXBsa1",
        "colab_type": "code",
        "colab": {}
      },
      "source": [
        ""
      ],
      "execution_count": 0,
      "outputs": []
    },
    {
      "cell_type": "code",
      "metadata": {
        "id": "BSz2R02yBsdO",
        "colab_type": "code",
        "colab": {}
      },
      "source": [
        ""
      ],
      "execution_count": 0,
      "outputs": []
    }
  ]
}