{
  "nbformat": 4,
  "nbformat_minor": 0,
  "metadata": {
    "colab": {
      "name": "A106260073張雅雯-選擇結構 動手實作",
      "provenance": [],
      "include_colab_link": true
    },
    "kernelspec": {
      "name": "python3",
      "display_name": "Python 3"
    }
  },
  "cells": [
    {
      "cell_type": "markdown",
      "metadata": {
        "id": "view-in-github",
        "colab_type": "text"
      },
      "source": [
        "<a href=\"https://colab.research.google.com/github/polkm12123/Computational-Thinking-and-Programming-Design/blob/master/A106260073%E5%BC%B5%E9%9B%85%E9%9B%AF_%E9%81%B8%E6%93%87%E7%B5%90%E6%A7%8B_%E5%8B%95%E6%89%8B%E5%AF%A6%E4%BD%9C.ipynb\" target=\"_parent\"><img src=\"https://colab.research.google.com/assets/colab-badge.svg\" alt=\"Open In Colab\"/></a>"
      ]
    },
    {
      "cell_type": "code",
      "metadata": {
        "id": "7ibgjxRbjF1y",
        "colab_type": "code",
        "colab": {
          "base_uri": "https://localhost:8080/",
          "height": 118
        },
        "outputId": "6cde4dff-e383-49c8-9bb6-1f57bfb63268"
      },
      "source": [
        "print(8 == 7) # 判斷 8 是否等於 7\n",
        "print(8 != 7) # 判斷 8 是否不等於 7\n",
        "print(8 > 7) # 判斷 8 是否⼤於 7\n",
        "print(8 >= 7) # 判斷 8 是否⼤於等於 7\n",
        "print(8 < 7) # 判斷 8 是否⼩於 7\n",
        "print(8 <= 7) # 判斷 8 是否⼩於等於 7"
      ],
      "execution_count": 1,
      "outputs": [
        {
          "output_type": "stream",
          "text": [
            "False\n",
            "True\n",
            "True\n",
            "True\n",
            "False\n",
            "False\n"
          ],
          "name": "stdout"
        }
      ]
    },
    {
      "cell_type": "code",
      "metadata": {
        "id": "8OSfnU7KjaNV",
        "colab_type": "code",
        "colab": {
          "base_uri": "https://localhost:8080/",
          "height": 67
        },
        "outputId": "a719cc38-8d8c-4461-e9ff-2fc8f699665e"
      },
      "source": [
        "print(True and False) #  True 與 False 的交集\n",
        "print(True or False) #  True 與 False 的聯集\n",
        "print(not(8 > 7)) #  8 是否⼤於 7 的判斷"
      ],
      "execution_count": 2,
      "outputs": [
        {
          "output_type": "stream",
          "text": [
            "False\n",
            "True\n",
            "False\n"
          ],
          "name": "stdout"
        }
      ]
    },
    {
      "cell_type": "code",
      "metadata": {
        "id": "U3oFNxJ8jk4a",
        "colab_type": "code",
        "colab": {
          "base_uri": "https://localhost:8080/",
          "height": 67
        },
        "outputId": "b324e659-deec-4d9d-cef6-d21d3739c951"
      },
      "source": [
        "X = 70\n",
        "print((X>60) and (X<80))\n",
        "print((X>60) or (X<80))\n",
        "print(not(X>60))"
      ],
      "execution_count": 3,
      "outputs": [
        {
          "output_type": "stream",
          "text": [
            "True\n",
            "True\n",
            "False\n"
          ],
          "name": "stdout"
        }
      ]
    },
    {
      "cell_type": "code",
      "metadata": {
        "id": "A0lDxswcjqDH",
        "colab_type": "code",
        "colab": {
          "base_uri": "https://localhost:8080/",
          "height": 84
        },
        "outputId": "13da07d7-b0bd-4b53-c228-3785dbb2c55d"
      },
      "source": [
        "print(8 is 7) #  8 與 7 是否為同樣的類別或值\n",
        "print(8 is not 7) # 8 與 7 是否為相異的類別或值\n",
        "print(\"H\" in \"Hello world\") #  H 是否存在於 Hello world 之中\n",
        "print(\"H\" not in \"Hello world\") #  H 是否不存在於 Hello world 之中"
      ],
      "execution_count": 4,
      "outputs": [
        {
          "output_type": "stream",
          "text": [
            "False\n",
            "True\n",
            "True\n",
            "False\n"
          ],
          "name": "stdout"
        }
      ]
    },
    {
      "cell_type": "code",
      "metadata": {
        "id": "3SY1xmdWj_d9",
        "colab_type": "code",
        "colab": {
          "base_uri": "https://localhost:8080/",
          "height": 50
        },
        "outputId": "8a5fc57d-82ab-4914-92fa-8be733196d83"
      },
      "source": [
        "x = 1\n",
        "y = [1,2,3]\n",
        "print(x in y)\n",
        "print( x not in y)"
      ],
      "execution_count": 5,
      "outputs": [
        {
          "output_type": "stream",
          "text": [
            "True\n",
            "False\n"
          ],
          "name": "stdout"
        }
      ]
    },
    {
      "cell_type": "code",
      "metadata": {
        "id": "51t4DxOIkECm",
        "colab_type": "code",
        "colab": {
          "base_uri": "https://localhost:8080/",
          "height": 67
        },
        "outputId": "8a956d8d-bbeb-4e34-f5c0-c516b3dd86e2"
      },
      "source": [
        "x = [1,2,3]\n",
        "y = [1,2,3]\n",
        "print(id(x), id(y)) #兩個變數id不同\n",
        "print(x is y)\n",
        "print(x is not y)"
      ],
      "execution_count": 6,
      "outputs": [
        {
          "output_type": "stream",
          "text": [
            "139844443587336 139844443589576\n",
            "False\n",
            "True\n"
          ],
          "name": "stdout"
        }
      ]
    },
    {
      "cell_type": "code",
      "metadata": {
        "id": "WPYqpcC3kMoO",
        "colab_type": "code",
        "colab": {
          "base_uri": "https://localhost:8080/",
          "height": 50
        },
        "outputId": "f45c97b8-1847-478c-ef1a-8b352e21ac1f"
      },
      "source": [
        "score = int(input('請輸入⼀個成績？'))\n",
        "if score >= 60:\n",
        " print('很好，請繼續保持下去')"
      ],
      "execution_count": 7,
      "outputs": [
        {
          "output_type": "stream",
          "text": [
            "請輸入⼀個成績？80\n",
            "很好，請繼續保持下去\n"
          ],
          "name": "stdout"
        }
      ]
    },
    {
      "cell_type": "code",
      "metadata": {
        "id": "SsE6y3o_kPKV",
        "colab_type": "code",
        "colab": {
          "base_uri": "https://localhost:8080/",
          "height": 50
        },
        "outputId": "3a7ea165-d1bc-4f41-fc70-ca9022a82cec"
      },
      "source": [
        "score = int(input('請輸入⼀個成績？'))\n",
        "if score >= 60:\n",
        " print('有及格ㄡ～')\n",
        "else:\n",
        " print('不及格ㄟ！')"
      ],
      "execution_count": 8,
      "outputs": [
        {
          "output_type": "stream",
          "text": [
            "請輸入⼀個成績？70\n",
            "有及格ㄡ～\n"
          ],
          "name": "stdout"
        }
      ]
    },
    {
      "cell_type": "code",
      "metadata": {
        "id": "94vl5w7bkSCr",
        "colab_type": "code",
        "colab": {
          "base_uri": "https://localhost:8080/",
          "height": 50
        },
        "outputId": "dbf2f425-95dd-4da0-a451-f0032648d930"
      },
      "source": [
        "score = int(input('請輸入⼀個成績？'))\n",
        "if score >= 80:\n",
        " print('非常好')\n",
        "elif score >= 60:\n",
        " print('不錯喔')\n",
        "else:\n",
        " print('要加油')"
      ],
      "execution_count": 9,
      "outputs": [
        {
          "output_type": "stream",
          "text": [
            "請輸入⼀個成績？60\n",
            "不錯喔\n"
          ],
          "name": "stdout"
        }
      ]
    },
    {
      "cell_type": "code",
      "metadata": {
        "id": "4qIzXI18kWTl",
        "colab_type": "code",
        "colab": {
          "base_uri": "https://localhost:8080/",
          "height": 67
        },
        "outputId": "908d4376-0aa8-48a4-d2fb-b4832f80ca8e"
      },
      "source": [
        "x = float(input('請輸入該點的X座標？')) \n",
        "y = float(input('請輸入該點的Y座標？'))\n",
        "if (x > 0):\n",
        " if (y > 0):\n",
        "   print('該點在第⼀象限') #X⼤於0,Y⼤於0(+,+)\n",
        " else:\n",
        "   print('該點在第四象限') #X⼤於0,Y⼩於0(+,-)\n",
        "else:\n",
        " if (y > 0):\n",
        "   print('該點在第⼆象限') #X⼩於0,Y⼤於0(-,+)\n",
        " else:\n",
        "   print('該點在第三象限') #X⼩於0,Y⼩於0(-,-)"
      ],
      "execution_count": 13,
      "outputs": [
        {
          "output_type": "stream",
          "text": [
            "請輸入該點的X座標？2\n",
            "請輸入該點的Y座標？2\n",
            "該點在第⼀象限\n"
          ],
          "name": "stdout"
        }
      ]
    },
    {
      "cell_type": "code",
      "metadata": {
        "id": "MCb8Y9mdkgYO",
        "colab_type": "code",
        "colab": {
          "base_uri": "https://localhost:8080/",
          "height": 50
        },
        "outputId": "3ead43f4-253a-405a-9fc2-7b08819af822"
      },
      "source": [
        "cost = int(input('請輸入購買⾦額？'))\n",
        "if cost >= 2000:\n",
        " print(cost * 0.9)\n",
        "else:\n",
        " print(cost)"
      ],
      "execution_count": 15,
      "outputs": [
        {
          "output_type": "stream",
          "text": [
            "請輸入購買⾦額？2500\n",
            "2250.0\n"
          ],
          "name": "stdout"
        }
      ]
    },
    {
      "cell_type": "code",
      "metadata": {
        "id": "PFnbRqBfkvjr",
        "colab_type": "code",
        "colab": {
          "base_uri": "https://localhost:8080/",
          "height": 50
        },
        "outputId": "7903f47e-e437-4f6e-b83e-023735ca00ad"
      },
      "source": [
        "num = int(input('請輸入⼀個整數？'))\n",
        "if num % 2 == 0: #餘數為0是偶數\n",
        " print(num, '為偶數')\n",
        "else:\n",
        " print(num, '為奇數')"
      ],
      "execution_count": 16,
      "outputs": [
        {
          "output_type": "stream",
          "text": [
            "請輸入⼀個整數？50\n",
            "50 為偶數\n"
          ],
          "name": "stdout"
        }
      ]
    },
    {
      "cell_type": "code",
      "metadata": {
        "id": "UDXQjTW5k2he",
        "colab_type": "code",
        "colab": {
          "base_uri": "https://localhost:8080/",
          "height": 50
        },
        "outputId": "1191d8cf-6a2a-4623-ee72-36e6bb3068d2"
      },
      "source": [
        "num = int(input('請輸入⼀個整數？'))\n",
        "if num % 2 == 1: #餘數為1是奇數\n",
        " print(num, '為奇數')\n",
        "else:\n",
        " print(num, '為偶數')"
      ],
      "execution_count": 17,
      "outputs": [
        {
          "output_type": "stream",
          "text": [
            "請輸入⼀個整數？15\n",
            "15 為奇數\n"
          ],
          "name": "stdout"
        }
      ]
    },
    {
      "cell_type": "code",
      "metadata": {
        "id": "spz1gaTKk3W8",
        "colab_type": "code",
        "colab": {
          "base_uri": "https://localhost:8080/",
          "height": 84
        },
        "outputId": "dc4f7ca0-2482-474c-9870-b2988fe8c55b"
      },
      "source": [
        "a = int(input('請輸入三⾓形邊長a長度為？'))\n",
        "b = int(input('請輸入三⾓形邊長b長度為？'))\n",
        "c = int(input('請輸入三⾓形邊長c長度為？'))\n",
        "if (a<b+c)and(b<a+c)and(c<a+b): #任兩邊相加是否⼤於第三邊\n",
        " print('可構成三⾓形')\n",
        "else:\n",
        " print('無法構成三⾓形')"
      ],
      "execution_count": 18,
      "outputs": [
        {
          "output_type": "stream",
          "text": [
            "請輸入三⾓形邊長a長度為？14\n",
            "請輸入三⾓形邊長b長度為？16\n",
            "請輸入三⾓形邊長c長度為？18\n",
            "可構成三⾓形\n"
          ],
          "name": "stdout"
        }
      ]
    },
    {
      "cell_type": "code",
      "metadata": {
        "id": "ixXh-5ZGlBfk",
        "colab_type": "code",
        "colab": {
          "base_uri": "https://localhost:8080/",
          "height": 84
        },
        "outputId": "f63f4511-7e69-4cbc-a6ca-0ca4747656ec"
      },
      "source": [
        "w = float(input('請輸入體重(KG)？'))\n",
        "h = float(input('請輸入⾝⾼(M)？'))\n",
        "bmi = w/(h*h) \n",
        "print('BMI為', bmi) \n",
        "# BMI分類\n",
        "if bmi < 18:\n",
        " print('體重過輕')\n",
        "elif bmi < 24:\n",
        " print('體重正常')\n",
        "elif bmi < 27:\n",
        " print('體重過重')\n",
        "else:\n",
        " print('體重肥胖')"
      ],
      "execution_count": 19,
      "outputs": [
        {
          "output_type": "stream",
          "text": [
            "請輸入體重(KG)？54\n",
            "請輸入⾝⾼(M)？166\n",
            "BMI為 0.00195964581216432\n",
            "體重過輕\n"
          ],
          "name": "stdout"
        }
      ]
    }
  ]
}