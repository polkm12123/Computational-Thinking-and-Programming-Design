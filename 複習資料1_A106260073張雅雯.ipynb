{
  "nbformat": 4,
  "nbformat_minor": 0,
  "metadata": {
    "colab": {
      "name": "複習資料1 A106260073張雅雯",
      "provenance": [],
      "collapsed_sections": [],
      "include_colab_link": true
    },
    "kernelspec": {
      "name": "python3",
      "display_name": "Python 3"
    }
  },
  "cells": [
    {
      "cell_type": "markdown",
      "metadata": {
        "id": "view-in-github",
        "colab_type": "text"
      },
      "source": [
        "<a href=\"https://colab.research.google.com/github/polkm12123/Computational-Thinking-and-Programming-Design/blob/master/%E8%A4%87%E7%BF%92%E8%B3%87%E6%96%991_A106260073%E5%BC%B5%E9%9B%85%E9%9B%AF.ipynb\" target=\"_parent\"><img src=\"https://colab.research.google.com/assets/colab-badge.svg\" alt=\"Open In Colab\"/></a>"
      ]
    },
    {
      "cell_type": "code",
      "metadata": {
        "id": "rr8Z4JfI8FSK",
        "colab_type": "code",
        "colab": {}
      },
      "source": [
        "#1. 下列何者代表 Python 的註解? (A) // (B) # (C) /* (D)@。\n",
        "#Ans:C\n",
        "#2. 在 Python 程式語⾔中，下列何者的變數名稱是正確的？ (A)_if (B) if (C)in (D) 2f。\n",
        "#Ans:A\n",
        "#3. 在 Python 程式語⾔中，利⽤ input 指令讀到的值，型態為？(A) 數值 (B) 字串 (C) 浮點數 (D) 以上皆否。\n",
        "#Ans:B\n",
        "#4. 在 Python程式語⾔中，若a = \"12\"、b=\"34\"，則 print(a+b)結果為？(A) 46 (B) 56 (C) 1234 (D) 以上皆否。\n",
        "#Ans:C\n",
        "#5.在print敘述中哪⼀個為錯誤(A) 利⽤ \\ 可輸出 \\ (B) 利⽤ \\' 可輸出 ' (C) 要輸出的字串可利⽤雙引號或單引號括住\n",
        "#(D) 每⼀次執⾏完print敘述後都不會跳⾏，所以也不必使⽤end來輔助\n",
        "#Ans:\n",
        "# 假設利⽤ num = input() 輸入10，再執⾏ a = num + 100，試問其a值為(A) 110 (B) 120 (C) 130 (D) 產⽣錯誤訊息\n",
        "#Ans:D\n"
      ],
      "execution_count": 0,
      "outputs": []
    },
    {
      "cell_type": "code",
      "metadata": {
        "id": "yfDjad5H-idV",
        "colab_type": "code",
        "colab": {
          "base_uri": "https://localhost:8080/",
          "height": 34
        },
        "outputId": "79e3d579-8d7b-4623-eb78-917f5450c881"
      },
      "source": [
        "a='12'\n",
        "b='34'\n",
        "print(a+b)"
      ],
      "execution_count": 1,
      "outputs": [
        {
          "output_type": "stream",
          "text": [
            "1234\n"
          ],
          "name": "stdout"
        }
      ]
    },
    {
      "cell_type": "code",
      "metadata": {
        "id": "rQb6knIz_7vk",
        "colab_type": "code",
        "colab": {
          "base_uri": "https://localhost:8080/",
          "height": 217
        },
        "outputId": "1a328f0d-5208-4b6e-f7f1-0ab95f833079"
      },
      "source": [
        "num=input()\n",
        "a=num+100\n",
        "print(a)"
      ],
      "execution_count": 4,
      "outputs": [
        {
          "output_type": "stream",
          "text": [
            "10\n"
          ],
          "name": "stdout"
        },
        {
          "output_type": "error",
          "ename": "TypeError",
          "evalue": "ignored",
          "traceback": [
            "\u001b[0;31m---------------------------------------------------------------------------\u001b[0m",
            "\u001b[0;31mTypeError\u001b[0m                                 Traceback (most recent call last)",
            "\u001b[0;32m<ipython-input-4-7f0a0a7186f6>\u001b[0m in \u001b[0;36m<module>\u001b[0;34m()\u001b[0m\n\u001b[1;32m      1\u001b[0m \u001b[0mnum\u001b[0m\u001b[0;34m=\u001b[0m\u001b[0minput\u001b[0m\u001b[0;34m(\u001b[0m\u001b[0;34m)\u001b[0m\u001b[0;34m\u001b[0m\u001b[0;34m\u001b[0m\u001b[0m\n\u001b[0;32m----> 2\u001b[0;31m \u001b[0ma\u001b[0m\u001b[0;34m=\u001b[0m\u001b[0mnum\u001b[0m\u001b[0;34m+\u001b[0m\u001b[0;36m100\u001b[0m\u001b[0;34m\u001b[0m\u001b[0;34m\u001b[0m\u001b[0m\n\u001b[0m\u001b[1;32m      3\u001b[0m \u001b[0mprint\u001b[0m\u001b[0;34m(\u001b[0m\u001b[0ma\u001b[0m\u001b[0;34m)\u001b[0m\u001b[0;34m\u001b[0m\u001b[0;34m\u001b[0m\u001b[0m\n",
            "\u001b[0;31mTypeError\u001b[0m: must be str, not int"
          ]
        }
      ]
    },
    {
      "cell_type": "code",
      "metadata": {
        "id": "wXzUU5-JAff6",
        "colab_type": "code",
        "colab": {}
      },
      "source": [
        "1 ( O )：設計⼀個好的變數名稱，可以⽅便⾃⼰與他⼈未來閱讀程式。\n",
        "2 ( O )：為程式加上註解是程式設計的好習慣。\n",
        "3 ( O )：Python的變數會針對所給的內容⾃⾏設定資料型態。\n",
        "4 ( X )：Python的變數名稱不可⽤非英⽂字元的其它語⾔。#可以用\n",
        "5 ( X )：對Python⽽⾔John與john算是相同的變數名稱。#大小寫不同，意思不一樣\n",
        "6 ( O )：_5z是Python合法的變數名稱。\n",
        "7 ( X )：有⼀個函數名稱是str( )，如果使⽤str做變數名稱，將造成程式錯誤，然後終\n",
        "⽌執⾏。\n",
        "8 ( X )：del既可當作刪除變數，也可將它設為變數名稱使⽤。#del:所刪除的是變量，非數據\n",
        "9 ( X )：Python允許⼀道敘述分多⾏撰寫，⽅法是在未完成敘述右邊加上”/”符號，\n",
        "Python解譯器會將下⼀⾏敘述視為是這⼀⾏的延伸。#\\n:才是換行的意思，\\t:跳八格，\\\\:輸入反斜線，\\\":輸出雙引號，\\':輸出單引號\n",
        "10 ( X )：如果有⼀個變數x，當執⾏type(x)後得到float，由此可以判斷變數x是整\n",
        "數。#float:浮點數\n",
        "11 ( X )：Python語⾔的整數限制在-2147483648和2147483647之間。\n",
        "12 ( O )：帶有⼩數點的數字稱浮點數。\n",
        "13 ( O )：程式設計時可能發⽣某個變數在某⼀程式碼運算階段是整數資料型態，後\n",
        "來在另外⼀個程式碼運作階段變成字串資料型態。\n",
        "14 ( X )：int( )函數可以強制將所有的字串轉成整數。#數值是整數，非字串\n",
        "15 ( O )：布林值的可能值有2種，分別是True和False。\n",
        "參考題庫\n",
        "是非題\n",
        "16 ( X )：如果布林值變數是False，經強制int(x)轉換，可以得到1。#False:0,True:1\n",
        "17 ( O )：如果字串太長想分成不同⾏輸出，可以使⽤3個單引號包夾此字串。\n",
        "18 ( X )：字串和整數相乘將產⽣語法錯誤。\n",
        "19 ( O )：含有”\\”的字元稱逸出字元(Escape Character)。\n",
        "20 ( O )：str( )除了可以將數值資料轉成字串，也可以設定⼀個空字串。\n",
        "21 ( O )：print( )函數內配合使⽤format( )時，輸出格式區內的變數使⽤{ }表⽰。\n",
        "22 ( X )：print( )函數只能將資料輸出⾄螢幕。#是將運算結果呈現在螢幕上\n",
        "23 ( X )：使⽤input( )函數讀取數字資料時，⽤type( )函數列出所讀取的資料，可以\n",
        "得到int的結果。#type判斷資料屬於哪種類型"
      ],
      "execution_count": 0,
      "outputs": []
    },
    {
      "cell_type": "code",
      "metadata": {
        "id": "CY3WTVY8Al4C",
        "colab_type": "code",
        "colab": {}
      },
      "source": [
        "1 ( A )：如果有⼀個整數變數x，當執⾏type(x)後可以得到什麼傳回值?\n",
        "A：int B：float C：str D：bool\n",
        "2 ( B )：如果有⼀個浮點數變數x，當執⾏type(x)後可以得到什麼傳回值?\n",
        "A：int B：float C：str D：array\n",
        "3 ( D )：如果有⼀個布林值變數x，當執⾏type(x)後可以得到什麼傳回值?\n",
        "A：int B：float C：str D：bool\n",
        "4 ( C )：如果有⼀個字串變數x，當執⾏type(x)後可以得到什麼傳回值?\n",
        "A：int B：float C：str D：array\n",
        "5 ( A )：下列那⼀個逸出字元(Escape Character)可以讓下次輸出時跳到下⼀⾏輸出。\n",
        "A：\\n B：\\f C：\\t D：\\b\n",
        "6 ( A )：下列那⼀個函數可以列出特定函數的使⽤說明。\n",
        "A：help( ) B：print( ) C：input( ) D：dir( )\n",
        "7 ( B )：print( )函數的那⼀個參數可以設定各筆資料間的分隔字元。\n",
        "A：value B：sep C：end D：file\n",
        "8 ( C )：print( )函數的那⼀個參數可以設定下次print( )資料輸出時不要換⾏輸出。\n",
        "A：value B：sep C：end D：file\n",
        "9 ( A )：可⽤於格式化整數輸出。\n",
        "A：%d B：%f C：%s D：%h\n",
        "10 ( B )：可⽤於格式化浮點數輸出。\n",
        "A：%d B：%f C：%s D：%h\n",
        "11 ( C )：可⽤於格式化字串輸出。\n",
        "A：%d B：%f C：%s D：%h\n",
        "12 ( A )：使⽤print( )配合format( )時，那⼀個參數可以設定靠右對⿑輸出。\n",
        "A：> B：< C：^ D：!\n",
        "13 ( B )：使⽤print( )配合format( )時，那⼀個參數可以設定靠左對⿑輸出。\n",
        "A：> B：< C：^ D：!\n",
        "14 ( C )：使⽤print( )配合format( )時，那⼀個參數可以設定置中對⿑輸出。\n",
        "A：> B：< C：^ D：!\n",
        "15 ( D )：print( )函數的那⼀個參數可以設定輸出⾄⼀般檔案。\n",
        "A：value B：sep C：end D：file"
      ],
      "execution_count": 0,
      "outputs": []
    }
  ]
}