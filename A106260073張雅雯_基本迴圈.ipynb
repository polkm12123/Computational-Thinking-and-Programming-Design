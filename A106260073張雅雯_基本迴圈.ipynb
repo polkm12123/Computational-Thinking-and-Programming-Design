{
  "nbformat": 4,
  "nbformat_minor": 0,
  "metadata": {
    "colab": {
      "name": "A106260073張雅雯_基本迴圈",
      "provenance": [],
      "include_colab_link": true
    },
    "kernelspec": {
      "name": "python3",
      "display_name": "Python 3"
    }
  },
  "cells": [
    {
      "cell_type": "markdown",
      "metadata": {
        "id": "view-in-github",
        "colab_type": "text"
      },
      "source": [
        "<a href=\"https://colab.research.google.com/github/polkm12123/Computational-Thinking-and-Programming-Design/blob/master/A106260073%E5%BC%B5%E9%9B%85%E9%9B%AF_%E5%9F%BA%E6%9C%AC%E8%BF%B4%E5%9C%88.ipynb\" target=\"_parent\"><img src=\"https://colab.research.google.com/assets/colab-badge.svg\" alt=\"Open In Colab\"/></a>"
      ]
    },
    {
      "cell_type": "code",
      "metadata": {
        "id": "92cnXnOXl_v5",
        "colab_type": "code",
        "colab": {}
      },
      "source": [
        "x = 5\n",
        "if x < 10:\n",
        " print(\"x⼩於10！\")\n",
        "x = 5 #初始值\n",
        "while x < 10: #當x⼩於10印出\n",
        " print(\"x⼩於10!\")\n",
        " x = 5 #初始值\n",
        "while x < 10: #當x⼩於10印出\n",
        " print(\"x⼩於10!\")\n",
        " print(\"我還在迴圈中！！\") #ctrl+c\n",
        "x=5\n",
        "while x<10:\n",
        "  print(\"x小於10!\")\n",
        "  print(\"我要出迴圈!!\")\n",
        "  x=100\n",
        "print(\"我出來了\")\n",
        "\n",
        "x=5\n",
        "while x<10:\n",
        "  print(\"x小於10!\")\n",
        "  print(\"我要出迴圈!!\")\n",
        "  x=x+1\n",
        "print(\"我出來了\")"
      ],
      "execution_count": 0,
      "outputs": []
    },
    {
      "cell_type": "code",
      "metadata": {
        "id": "9hcSG9dmoeb2",
        "colab_type": "code",
        "outputId": "7f5e010a-dd3d-4291-c756-86d7ae0c5b46",
        "colab": {
          "base_uri": "https://localhost:8080/"
        }
      },
      "source": [
        "n=1\n",
        "while n<5:\n",
        "  print(\"變數n是\",n)\n",
        "  n=n+1\n",
        "print(\"Finished\")"
      ],
      "execution_count": 0,
      "outputs": [
        {
          "output_type": "stream",
          "text": [
            "變數n是 1\n",
            "變數n是 2\n",
            "變數n是 3\n",
            "變數n是 4\n",
            "Finished\n"
          ],
          "name": "stdout"
        }
      ]
    },
    {
      "cell_type": "code",
      "metadata": {
        "id": "wgmYzVnopVMd",
        "colab_type": "code",
        "outputId": "f3812a97-0cae-48b0-c87c-8780b6b26dcf",
        "colab": {
          "base_uri": "https://localhost:8080/",
          "height": 104
        }
      },
      "source": [
        "n=1\n",
        "if n<5:\n",
        "  print(\"變數n是\",n)\n",
        "  n=n+1\n",
        "if n<5:\n",
        "  print(\"變數n是\",n)\n",
        "  n=n+1\n",
        "if n<5:\n",
        "  print(\"變數n是\",n)\n",
        "  n=n+1\n",
        "if n<5:\n",
        "  print(\"變數n是\",n)\n",
        "  n=n+1\n",
        "if n<5:\n",
        "  print(\"變數n是\",n)\n",
        "  n=n+1\n",
        "print(\"Finished\")"
      ],
      "execution_count": 0,
      "outputs": [
        {
          "output_type": "stream",
          "text": [
            "變數n是 1\n",
            "變數n是 2\n",
            "變數n是 3\n",
            "變數n是 4\n",
            "Finished\n"
          ],
          "name": "stdout"
        }
      ]
    },
    {
      "cell_type": "code",
      "metadata": {
        "id": "HVXQxmEUsNgo",
        "colab_type": "code",
        "outputId": "60d91810-2e42-4925-c80f-bccc83e59a01",
        "colab": {
          "base_uri": "https://localhost:8080/",
          "height": 185
        }
      },
      "source": [
        "x=0\n",
        "while x<10:\n",
        "  print(\"hello\")\n",
        "  x=x+1"
      ],
      "execution_count": 0,
      "outputs": [
        {
          "output_type": "stream",
          "text": [
            "hello\n",
            "hello\n",
            "hello\n",
            "hello\n",
            "hello\n",
            "hello\n",
            "hello\n",
            "hello\n",
            "hello\n",
            "hello\n"
          ],
          "name": "stdout"
        }
      ]
    },
    {
      "cell_type": "code",
      "metadata": {
        "id": "j_j36qAjsjte",
        "colab_type": "code",
        "outputId": "168d9e49-a5b1-4138-b592-7a4440a93bf8",
        "colab": {
          "base_uri": "https://localhost:8080/",
          "height": 185
        }
      },
      "source": [
        "times=0\n",
        "while times<10:\n",
        "  times=times+1\n",
        "  print(\"這是第\",times,\"次的hello\")"
      ],
      "execution_count": 0,
      "outputs": [
        {
          "output_type": "stream",
          "text": [
            "這是第 1 次的hello\n",
            "這是第 2 次的hello\n",
            "這是第 3 次的hello\n",
            "這是第 4 次的hello\n",
            "這是第 5 次的hello\n",
            "這是第 6 次的hello\n",
            "這是第 7 次的hello\n",
            "這是第 8 次的hello\n",
            "這是第 9 次的hello\n",
            "這是第 10 次的hello\n"
          ],
          "name": "stdout"
        }
      ]
    },
    {
      "cell_type": "code",
      "metadata": {
        "id": "yka1y5JAtBN3",
        "colab_type": "code",
        "outputId": "410c84f6-8603-440e-9b21-ceab97367ba8",
        "colab": {
          "base_uri": "https://localhost:8080/"
        }
      },
      "source": [
        "times=0\n",
        "left=0\n",
        "while times<10:\n",
        "  times = times+1\n",
        "  print(\"這是第\",times,\"次的hello\")\n",
        "  left=10-times\n",
        "  print(\"還有\",left,\"次機會\")\n",
        "  "
      ],
      "execution_count": 0,
      "outputs": [
        {
          "output_type": "stream",
          "text": [
            "這是第 1 次的hello\n",
            "還有 9 次機會\n",
            "這是第 2 次的hello\n",
            "還有 8 次機會\n",
            "這是第 3 次的hello\n",
            "還有 7 次機會\n",
            "這是第 4 次的hello\n",
            "還有 6 次機會\n",
            "這是第 5 次的hello\n",
            "還有 5 次機會\n",
            "這是第 6 次的hello\n",
            "還有 4 次機會\n",
            "這是第 7 次的hello\n",
            "還有 3 次機會\n",
            "這是第 8 次的hello\n",
            "還有 2 次機會\n",
            "這是第 9 次的hello\n",
            "還有 1 次機會\n",
            "這是第 10 次的hello\n",
            "還有 0 次機會\n"
          ],
          "name": "stdout"
        }
      ]
    },
    {
      "cell_type": "code",
      "metadata": {
        "id": "KsfRn6ONtZcK",
        "colab_type": "code",
        "colab": {
          "base_uri": "https://localhost:8080/",
          "height": 34
        },
        "outputId": "5076e26a-1f4d-473a-cee0-155084f9f428"
      },
      "source": [
        "x=0\n",
        "result=0\n",
        "while x<10:\n",
        "  x=x+1\n",
        "  result=result+x\n",
        "print(\"答案是:\",result)"
      ],
      "execution_count": 5,
      "outputs": [
        {
          "output_type": "stream",
          "text": [
            "答案是: 55\n"
          ],
          "name": "stdout"
        }
      ]
    },
    {
      "cell_type": "code",
      "metadata": {
        "id": "RAedCE2Fup1z",
        "colab_type": "code",
        "colab": {
          "base_uri": "https://localhost:8080/",
          "height": 34
        },
        "outputId": "1b31a19d-9e0c-4b64-a1bf-27beb626fb09"
      },
      "source": [
        "x=0\n",
        "result=0\n",
        "end=50\n",
        "while result<=end:\n",
        "  x=x+1\n",
        "  result=result+x\n",
        "print(\"最後加的x是\",x)"
      ],
      "execution_count": 12,
      "outputs": [
        {
          "output_type": "stream",
          "text": [
            "最後加的x是 10\n"
          ],
          "name": "stdout"
        }
      ]
    },
    {
      "cell_type": "code",
      "metadata": {
        "id": "2wkuG9Llup75",
        "colab_type": "code",
        "colab": {
          "base_uri": "https://localhost:8080/",
          "height": 34
        },
        "outputId": "3c9a2673-14b4-4ce6-b4d6-809922e086a7"
      },
      "source": [
        "sum=0\n",
        "x=1\n",
        "while x<11:\n",
        "   sum=sum+x\n",
        "   x=x+2\n",
        "print(\"1+3+5+7+9=\",sum) #結果"
      ],
      "execution_count": 10,
      "outputs": [
        {
          "output_type": "stream",
          "text": [
            "1+3+5+7+9= 25\n"
          ],
          "name": "stdout"
        }
      ]
    },
    {
      "cell_type": "code",
      "metadata": {
        "id": "Slne5yL0uqNC",
        "colab_type": "code",
        "colab": {
          "base_uri": "https://localhost:8080/",
          "height": 34
        },
        "outputId": "4e0630b5-dacd-4663-fce8-3a76b3799842"
      },
      "source": [
        "a=0\n",
        "while a<6:\n",
        "  print(a,end=\" \")\n",
        "  a=a+1"
      ],
      "execution_count": 8,
      "outputs": [
        {
          "output_type": "stream",
          "text": [
            "0 1 2 3 4 5 "
          ],
          "name": "stdout"
        }
      ]
    },
    {
      "cell_type": "code",
      "metadata": {
        "id": "VgXjcvJEwvze",
        "colab_type": "code",
        "colab": {
          "base_uri": "https://localhost:8080/",
          "height": 34
        },
        "outputId": "5bd68c12-1de1-4e9e-93ab-5bd3e60c77b1"
      },
      "source": [
        "b=1\n",
        "while b<6:\n",
        "  print(b,end=\" \")\n",
        "  b=b+2"
      ],
      "execution_count": 13,
      "outputs": [
        {
          "output_type": "stream",
          "text": [
            "1 3 5 "
          ],
          "name": "stdout"
        }
      ]
    },
    {
      "cell_type": "code",
      "metadata": {
        "id": "5yTXXAXfw7dE",
        "colab_type": "code",
        "colab": {
          "base_uri": "https://localhost:8080/",
          "height": 34
        },
        "outputId": "34e9e96c-8057-4419-d4c8-3fbcea41d0c0"
      },
      "source": [
        "c=2\n",
        "while c<6:\n",
        "  print(c,end=\" \")\n",
        "  c=c+1\n",
        "  "
      ],
      "execution_count": 14,
      "outputs": [
        {
          "output_type": "stream",
          "text": [
            "2 3 4 5 "
          ],
          "name": "stdout"
        }
      ]
    },
    {
      "cell_type": "code",
      "metadata": {
        "id": "bQ71jH27w7kj",
        "colab_type": "code",
        "colab": {
          "base_uri": "https://localhost:8080/",
          "height": 34
        },
        "outputId": "68144c06-b4de-4129-de9a-11d043f50fd2"
      },
      "source": [
        "d=6\n",
        "while d>1:\n",
        "  print(d,end=\" \")\n",
        "  d=d-2"
      ],
      "execution_count": 15,
      "outputs": [
        {
          "output_type": "stream",
          "text": [
            "6 4 2 "
          ],
          "name": "stdout"
        }
      ]
    },
    {
      "cell_type": "code",
      "metadata": {
        "id": "3qxqCmzJw7oD",
        "colab_type": "code",
        "colab": {
          "base_uri": "https://localhost:8080/",
          "height": 34
        },
        "outputId": "6a7dd4a1-7bfd-48a1-eca4-bfc5b827b01e"
      },
      "source": [
        "sum=0\n",
        "i=0\n",
        "while sum <=1000:\n",
        "  i+=1  #i=i+1\n",
        "  sum+=i*i  #sum=i*i\n",
        "print('最小的n值',i)"
      ],
      "execution_count": 16,
      "outputs": [
        {
          "output_type": "stream",
          "text": [
            "最小的n值 14\n"
          ],
          "name": "stdout"
        }
      ]
    },
    {
      "cell_type": "code",
      "metadata": {
        "id": "deMfgNM_w780",
        "colab_type": "code",
        "colab": {
          "base_uri": "https://localhost:8080/",
          "height": 50
        },
        "outputId": "c8a87443-84b1-4406-ca08-b580a457269a"
      },
      "source": [
        "m=int(input('請輸入限制值m?')) #將值轉成整數，儲存到m\n",
        "factorial=1 #初始化factorial等於1\n",
        "i=1 #初始化i=1\n",
        "\n",
        "while(factorial<m):#測試factorial是否小於m，i值每次遞增1，利用factorial=factorial*i，求factorial為i的階乘\n",
        "  i=i+1\n",
        "  factorial=factorial*i\n",
        "print(i,'階乘為',factorial,'其值大於',m)"
      ],
      "execution_count": 23,
      "outputs": [
        {
          "output_type": "stream",
          "text": [
            "請輸入限制值m?20\n",
            "4 階乘為 24 其值大於 20\n"
          ],
          "name": "stdout"
        }
      ]
    },
    {
      "cell_type": "code",
      "metadata": {
        "id": "bfrnvBZtw7_B",
        "colab_type": "code",
        "colab": {}
      },
      "source": [
        ""
      ],
      "execution_count": 0,
      "outputs": []
    },
    {
      "cell_type": "code",
      "metadata": {
        "id": "xZF2oUBWw8A8",
        "colab_type": "code",
        "colab": {}
      },
      "source": [
        ""
      ],
      "execution_count": 0,
      "outputs": []
    }
  ]
}