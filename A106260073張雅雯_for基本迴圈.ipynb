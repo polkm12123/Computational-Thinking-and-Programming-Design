{
  "nbformat": 4,
  "nbformat_minor": 0,
  "metadata": {
    "colab": {
      "name": "A106260073張雅雯_for基本迴圈",
      "provenance": [],
      "include_colab_link": true
    },
    "kernelspec": {
      "name": "python3",
      "display_name": "Python 3"
    }
  },
  "cells": [
    {
      "cell_type": "markdown",
      "metadata": {
        "id": "view-in-github",
        "colab_type": "text"
      },
      "source": [
        "<a href=\"https://colab.research.google.com/github/polkm12123/Computational-Thinking-and-Programming-Design/blob/master/A106260073%E5%BC%B5%E9%9B%85%E9%9B%AF_for%E5%9F%BA%E6%9C%AC%E8%BF%B4%E5%9C%88.ipynb\" target=\"_parent\"><img src=\"https://colab.research.google.com/assets/colab-badge.svg\" alt=\"Open In Colab\"/></a>"
      ]
    },
    {
      "cell_type": "code",
      "metadata": {
        "id": "85wIBZ-kiX1k",
        "colab_type": "code",
        "colab": {
          "base_uri": "https://localhost:8080/",
          "height": 34
        },
        "outputId": "f512446b-bd68-4866-bd5a-271a4e085f8e"
      },
      "source": [
        "range(5) #[0,1,2,3,4]\n",
        "range(3) #[0,1,2,]\n",
        "range(2,5) #[2,3,4]\n",
        "range(8,10) #[8,9]\n",
        "range(2,10,3) #[2,5,8]\n",
        "range(3,8,2) #[3,5,7]\n",
        "range(10,3,-2) #[10,8,6,4]"
      ],
      "execution_count": 1,
      "outputs": [
        {
          "output_type": "execute_result",
          "data": {
            "text/plain": [
              "range(10, 3, -2)"
            ]
          },
          "metadata": {
            "tags": []
          },
          "execution_count": 1
        }
      ]
    },
    {
      "cell_type": "code",
      "metadata": {
        "id": "uzTgY_TpkzAd",
        "colab_type": "code",
        "colab": {
          "base_uri": "https://localhost:8080/",
          "height": 51
        },
        "outputId": "3a05bbae-2d24-4cff-b7a1-83186cbb716d"
      },
      "source": [
        "a = range(5)\n",
        "print(a)\n",
        "print(a[0], a[1], a[2], a[3], a[4])"
      ],
      "execution_count": 2,
      "outputs": [
        {
          "output_type": "stream",
          "text": [
            "range(0, 5)\n",
            "0 1 2 3 4\n"
          ],
          "name": "stdout"
        }
      ]
    },
    {
      "cell_type": "code",
      "metadata": {
        "id": "aiSQK65ik2QD",
        "colab_type": "code",
        "colab": {
          "base_uri": "https://localhost:8080/",
          "height": 34
        },
        "outputId": "a59fb9e2-b3a2-4103-ec61-c0a7d9d53991"
      },
      "source": [
        "b = range(2, 6)\n",
        "print(b[0], b[1], b[2], b[3])"
      ],
      "execution_count": 3,
      "outputs": [
        {
          "output_type": "stream",
          "text": [
            "2 3 4 5\n"
          ],
          "name": "stdout"
        }
      ]
    },
    {
      "cell_type": "code",
      "metadata": {
        "id": "_ZIT2pI_k2Zh",
        "colab_type": "code",
        "colab": {
          "base_uri": "https://localhost:8080/",
          "height": 34
        },
        "outputId": "c951520b-9b2a-47c5-c553-9a9cd684646c"
      },
      "source": [
        "c = range(0, 6, 2)\n",
        "print(c[0], c[1], c[2])"
      ],
      "execution_count": 4,
      "outputs": [
        {
          "output_type": "stream",
          "text": [
            "0 2 4\n"
          ],
          "name": "stdout"
        }
      ]
    },
    {
      "cell_type": "code",
      "metadata": {
        "id": "KAXMPSfCk2ei",
        "colab_type": "code",
        "colab": {
          "base_uri": "https://localhost:8080/",
          "height": 34
        },
        "outputId": "03b8831b-3138-4faa-bef1-37c28219a137"
      },
      "source": [
        "d = range(6, 0, -2)\n",
        "print(d[0], d[1], d[2])"
      ],
      "execution_count": 5,
      "outputs": [
        {
          "output_type": "stream",
          "text": [
            "6 4 2\n"
          ],
          "name": "stdout"
        }
      ]
    },
    {
      "cell_type": "code",
      "metadata": {
        "id": "GpwyJvc6k2iA",
        "colab_type": "code",
        "colab": {
          "base_uri": "https://localhost:8080/",
          "height": 1000
        },
        "outputId": "c629f510-2e93-4e63-f57c-61c50790aa25"
      },
      "source": [
        "for i in range(5):\n",
        "  print(i)\n",
        "\n",
        "for i in range(3):\n",
        "  print(\"hi\")\n",
        "\n",
        "import random\n",
        "for i in range(10):\n",
        "  r=random.randint(1,100)\n",
        "  print(\"第\", i, \"個隨機變數的值是\", r)\n",
        "\n",
        "t=0\n",
        "for i in range(100):\n",
        "  t+=50 #t=t+50\n",
        "  print(\"第\", i, \"個數是\", t )"
      ],
      "execution_count": 9,
      "outputs": [
        {
          "output_type": "stream",
          "text": [
            "0\n",
            "1\n",
            "2\n",
            "3\n",
            "4\n",
            "hi\n",
            "hi\n",
            "hi\n",
            "第 0 個隨機變數的值是 61\n",
            "第 1 個隨機變數的值是 86\n",
            "第 2 個隨機變數的值是 30\n",
            "第 3 個隨機變數的值是 34\n",
            "第 4 個隨機變數的值是 34\n",
            "第 5 個隨機變數的值是 97\n",
            "第 6 個隨機變數的值是 29\n",
            "第 7 個隨機變數的值是 16\n",
            "第 8 個隨機變數的值是 22\n",
            "第 9 個隨機變數的值是 48\n",
            "第 0 個數是 50\n",
            "第 1 個數是 100\n",
            "第 2 個數是 150\n",
            "第 3 個數是 200\n",
            "第 4 個數是 250\n",
            "第 5 個數是 300\n",
            "第 6 個數是 350\n",
            "第 7 個數是 400\n",
            "第 8 個數是 450\n",
            "第 9 個數是 500\n",
            "第 10 個數是 550\n",
            "第 11 個數是 600\n",
            "第 12 個數是 650\n",
            "第 13 個數是 700\n",
            "第 14 個數是 750\n",
            "第 15 個數是 800\n",
            "第 16 個數是 850\n",
            "第 17 個數是 900\n",
            "第 18 個數是 950\n",
            "第 19 個數是 1000\n",
            "第 20 個數是 1050\n",
            "第 21 個數是 1100\n",
            "第 22 個數是 1150\n",
            "第 23 個數是 1200\n",
            "第 24 個數是 1250\n",
            "第 25 個數是 1300\n",
            "第 26 個數是 1350\n",
            "第 27 個數是 1400\n",
            "第 28 個數是 1450\n",
            "第 29 個數是 1500\n",
            "第 30 個數是 1550\n",
            "第 31 個數是 1600\n",
            "第 32 個數是 1650\n",
            "第 33 個數是 1700\n",
            "第 34 個數是 1750\n",
            "第 35 個數是 1800\n",
            "第 36 個數是 1850\n",
            "第 37 個數是 1900\n",
            "第 38 個數是 1950\n",
            "第 39 個數是 2000\n",
            "第 40 個數是 2050\n",
            "第 41 個數是 2100\n",
            "第 42 個數是 2150\n",
            "第 43 個數是 2200\n",
            "第 44 個數是 2250\n",
            "第 45 個數是 2300\n",
            "第 46 個數是 2350\n",
            "第 47 個數是 2400\n",
            "第 48 個數是 2450\n",
            "第 49 個數是 2500\n",
            "第 50 個數是 2550\n",
            "第 51 個數是 2600\n",
            "第 52 個數是 2650\n",
            "第 53 個數是 2700\n",
            "第 54 個數是 2750\n",
            "第 55 個數是 2800\n",
            "第 56 個數是 2850\n",
            "第 57 個數是 2900\n",
            "第 58 個數是 2950\n",
            "第 59 個數是 3000\n",
            "第 60 個數是 3050\n",
            "第 61 個數是 3100\n",
            "第 62 個數是 3150\n",
            "第 63 個數是 3200\n",
            "第 64 個數是 3250\n",
            "第 65 個數是 3300\n",
            "第 66 個數是 3350\n",
            "第 67 個數是 3400\n",
            "第 68 個數是 3450\n",
            "第 69 個數是 3500\n",
            "第 70 個數是 3550\n",
            "第 71 個數是 3600\n",
            "第 72 個數是 3650\n",
            "第 73 個數是 3700\n",
            "第 74 個數是 3750\n",
            "第 75 個數是 3800\n",
            "第 76 個數是 3850\n",
            "第 77 個數是 3900\n",
            "第 78 個數是 3950\n",
            "第 79 個數是 4000\n",
            "第 80 個數是 4050\n",
            "第 81 個數是 4100\n",
            "第 82 個數是 4150\n",
            "第 83 個數是 4200\n",
            "第 84 個數是 4250\n",
            "第 85 個數是 4300\n",
            "第 86 個數是 4350\n",
            "第 87 個數是 4400\n",
            "第 88 個數是 4450\n",
            "第 89 個數是 4500\n",
            "第 90 個數是 4550\n",
            "第 91 個數是 4600\n",
            "第 92 個數是 4650\n",
            "第 93 個數是 4700\n",
            "第 94 個數是 4750\n",
            "第 95 個數是 4800\n",
            "第 96 個數是 4850\n",
            "第 97 個數是 4900\n",
            "第 98 個數是 4950\n",
            "第 99 個數是 5000\n"
          ],
          "name": "stdout"
        }
      ]
    },
    {
      "cell_type": "code",
      "metadata": {
        "id": "2thlLZBNlCfo",
        "colab_type": "code",
        "colab": {
          "base_uri": "https://localhost:8080/",
          "height": 34
        },
        "outputId": "2181de0b-c4d3-44c2-904b-af6f7ccab6d7"
      },
      "source": [
        "for a in range(6):\n",
        " print(a, end =\" \")\n",
        "print(\"\")"
      ],
      "execution_count": 10,
      "outputs": [
        {
          "output_type": "stream",
          "text": [
            "0 1 2 3 4 5 \n"
          ],
          "name": "stdout"
        }
      ]
    },
    {
      "cell_type": "code",
      "metadata": {
        "id": "vQQiixUOlCoU",
        "colab_type": "code",
        "colab": {
          "base_uri": "https://localhost:8080/",
          "height": 34
        },
        "outputId": "5d06aade-b020-4a82-ebe7-03ba32b0fd9c"
      },
      "source": [
        "for b in range(1, 6, 2):\n",
        " print(b, end =\" \")\n",
        "print(\"\")"
      ],
      "execution_count": 11,
      "outputs": [
        {
          "output_type": "stream",
          "text": [
            "1 3 5 \n"
          ],
          "name": "stdout"
        }
      ]
    },
    {
      "cell_type": "code",
      "metadata": {
        "id": "6vZPNTQdlCrj",
        "colab_type": "code",
        "colab": {
          "base_uri": "https://localhost:8080/",
          "height": 34
        },
        "outputId": "28462b07-df55-4beb-a708-bf81b8a068a8"
      },
      "source": [
        "for c in range(2,6):\n",
        "  print(c,end=\" \")\n",
        "print(\" \")"
      ],
      "execution_count": 12,
      "outputs": [
        {
          "output_type": "stream",
          "text": [
            "2 3 4 5  \n"
          ],
          "name": "stdout"
        }
      ]
    },
    {
      "cell_type": "code",
      "metadata": {
        "id": "8LIAXoPMlCuM",
        "colab_type": "code",
        "colab": {
          "base_uri": "https://localhost:8080/",
          "height": 34
        },
        "outputId": "42197df7-380d-4101-97d4-a755df1a9cc3"
      },
      "source": [
        "for d in range(6,1,-2):\n",
        "  print(d,end=\" \")"
      ],
      "execution_count": 13,
      "outputs": [
        {
          "output_type": "stream",
          "text": [
            "6 4 2 "
          ],
          "name": "stdout"
        }
      ]
    },
    {
      "cell_type": "code",
      "metadata": {
        "id": "VBSiu9QclCxB",
        "colab_type": "code",
        "colab": {
          "base_uri": "https://localhost:8080/",
          "height": 138
        },
        "outputId": "d4e28078-3635-4a31-dc26-ee2567a8a02e"
      },
      "source": [
        "s=int(input('請輸入加總開始值?'))\n",
        "e=int(input('請輸入加總終止值?'))\n",
        "inc=int(input('請輸入遞增減值?'))\n",
        "\n",
        "sum=0\n",
        "\n",
        "for i in range(s,e,inc):\n",
        "  sum=sum+i\n",
        "  print('i為', i, '加總結果為', sum)\n",
        "\n",
        "\n"
      ],
      "execution_count": 16,
      "outputs": [
        {
          "output_type": "stream",
          "text": [
            "請輸入加總開始值?3\n",
            "請輸入加總終止值?13\n",
            "請輸入遞增減值?3\n",
            "i為 3 加總結果為 3\n",
            "i為 6 加總結果為 9\n",
            "i為 9 加總結果為 18\n",
            "i為 12 加總結果為 30\n"
          ],
          "name": "stdout"
        }
      ]
    },
    {
      "cell_type": "code",
      "metadata": {
        "id": "M2Z4IoKQlC3I",
        "colab_type": "code",
        "colab": {
          "base_uri": "https://localhost:8080/",
          "height": 272
        },
        "outputId": "8205c221-1b30-4fc4-b4cc-3a21ccaede8d"
      },
      "source": [
        "s=int(input('請輸入加總開始值?'))\n",
        "e=int(input('請輸入加總終止值?'))\n",
        "inc=int(input('請輸入遞增減值?'))\n",
        "\n",
        "print(sum(range(s,e,inc)))\n"
      ],
      "execution_count": 19,
      "outputs": [
        {
          "output_type": "stream",
          "text": [
            "請輸入加總開始值?4\n",
            "請輸入加總終止值?21\n",
            "請輸入遞增減值?4\n"
          ],
          "name": "stdout"
        },
        {
          "output_type": "error",
          "ename": "TypeError",
          "evalue": "ignored",
          "traceback": [
            "\u001b[0;31m---------------------------------------------------------------------------\u001b[0m",
            "\u001b[0;31mTypeError\u001b[0m                                 Traceback (most recent call last)",
            "\u001b[0;32m<ipython-input-19-1faea2f52e73>\u001b[0m in \u001b[0;36m<module>\u001b[0;34m()\u001b[0m\n\u001b[1;32m      3\u001b[0m \u001b[0minc\u001b[0m\u001b[0;34m=\u001b[0m\u001b[0mint\u001b[0m\u001b[0;34m(\u001b[0m\u001b[0minput\u001b[0m\u001b[0;34m(\u001b[0m\u001b[0;34m'請輸入遞增減值?'\u001b[0m\u001b[0;34m)\u001b[0m\u001b[0;34m)\u001b[0m\u001b[0;34m\u001b[0m\u001b[0;34m\u001b[0m\u001b[0m\n\u001b[1;32m      4\u001b[0m \u001b[0;34m\u001b[0m\u001b[0m\n\u001b[0;32m----> 5\u001b[0;31m \u001b[0mprint\u001b[0m\u001b[0;34m(\u001b[0m\u001b[0msum\u001b[0m\u001b[0;34m(\u001b[0m\u001b[0mrange\u001b[0m\u001b[0;34m(\u001b[0m\u001b[0ms\u001b[0m\u001b[0;34m,\u001b[0m\u001b[0me\u001b[0m\u001b[0;34m,\u001b[0m\u001b[0minc\u001b[0m\u001b[0;34m)\u001b[0m\u001b[0;34m)\u001b[0m\u001b[0;34m)\u001b[0m\u001b[0;34m\u001b[0m\u001b[0;34m\u001b[0m\u001b[0m\n\u001b[0m",
            "\u001b[0;31mTypeError\u001b[0m: 'int' object is not callable"
          ]
        }
      ]
    },
    {
      "cell_type": "code",
      "metadata": {
        "id": "O8r50WMylC6v",
        "colab_type": "code",
        "colab": {
          "base_uri": "https://localhost:8080/",
          "height": 34
        },
        "outputId": "1e233bc6-27fd-461c-f755-e06af6b17361"
      },
      "source": [
        "sum=0\n",
        "for x in range(1,11,2):\n",
        "  sum=sum+x\n",
        "print(\"1+3+5+7+9=\",sum)"
      ],
      "execution_count": 20,
      "outputs": [
        {
          "output_type": "stream",
          "text": [
            "1+3+5+7+9= 25\n"
          ],
          "name": "stdout"
        }
      ]
    },
    {
      "cell_type": "code",
      "metadata": {
        "id": "58Ff-XBOpcEg",
        "colab_type": "code",
        "colab": {
          "base_uri": "https://localhost:8080/",
          "height": 34
        },
        "outputId": "e0afdb58-a030-4a97-9e3e-69c6090da4bb"
      },
      "source": [
        "for a in range(6):\n",
        "  print(a,end=\" \")\n",
        "print(\" \")"
      ],
      "execution_count": 21,
      "outputs": [
        {
          "output_type": "stream",
          "text": [
            "0 1 2 3 4 5  \n"
          ],
          "name": "stdout"
        }
      ]
    },
    {
      "cell_type": "code",
      "metadata": {
        "id": "aCnzUqeHpcII",
        "colab_type": "code",
        "colab": {
          "base_uri": "https://localhost:8080/",
          "height": 34
        },
        "outputId": "6edaf79a-cd64-43b3-f7ce-b54c326d67f1"
      },
      "source": [
        "for b in range(1,6,2):\n",
        "  print(b,end=\" \")\n",
        "print(\" \")"
      ],
      "execution_count": 22,
      "outputs": [
        {
          "output_type": "stream",
          "text": [
            "1 3 5  \n"
          ],
          "name": "stdout"
        }
      ]
    },
    {
      "cell_type": "code",
      "metadata": {
        "id": "QEqRCAl2pyNE",
        "colab_type": "code",
        "colab": {
          "base_uri": "https://localhost:8080/",
          "height": 34
        },
        "outputId": "e9bec4c5-cb1c-4192-d7a7-c0bb5c59e4bf"
      },
      "source": [
        "for c in range(2,6):\n",
        "  print(c,end=\" \")\n",
        "print(\"\")"
      ],
      "execution_count": 23,
      "outputs": [
        {
          "output_type": "stream",
          "text": [
            "2 3 4 5 \n"
          ],
          "name": "stdout"
        }
      ]
    },
    {
      "cell_type": "code",
      "metadata": {
        "id": "dHdpWq3epyQb",
        "colab_type": "code",
        "colab": {
          "base_uri": "https://localhost:8080/",
          "height": 34
        },
        "outputId": "c7a52867-deae-4c8d-d882-30d5fba80727"
      },
      "source": [
        "for d in range(6,1,-2):\n",
        "  print(d,end=\" \")\n",
        "print(\" \")"
      ],
      "execution_count": 24,
      "outputs": [
        {
          "output_type": "stream",
          "text": [
            "6 4 2  \n"
          ],
          "name": "stdout"
        }
      ]
    },
    {
      "cell_type": "code",
      "metadata": {
        "id": "J6WRykxapyU6",
        "colab_type": "code",
        "colab": {
          "base_uri": "https://localhost:8080/",
          "height": 51
        },
        "outputId": "93b8b5c1-e2cd-4525-c4fc-a99529c1d3be"
      },
      "source": [
        "n=int(input('請輸入n值?'))\n",
        "sum=0\n",
        "for i in range(1,n+1):\n",
        "  sum=sum+i*i\n",
        "print(sum)"
      ],
      "execution_count": 25,
      "outputs": [
        {
          "output_type": "stream",
          "text": [
            "請輸入n值?6\n",
            "91\n"
          ],
          "name": "stdout"
        }
      ]
    },
    {
      "cell_type": "code",
      "metadata": {
        "id": "MTn9l7V3pcB-",
        "colab_type": "code",
        "colab": {
          "base_uri": "https://localhost:8080/",
          "height": 86
        },
        "outputId": "293f1b96-5d6e-4448-be20-edcb2c821107"
      },
      "source": [
        "a=int(input(\"請輸入第一個數字:\"))\n",
        "b=int(input(\"請輸入第二個數字:\"))\n",
        "\n",
        "for c in range(a,1,-1):\n",
        "  if(a%c==0 and b%c==0):\n",
        "    break\n",
        "print(\"最大公約數 GCD=\",c)\n",
        "\n",
        "for c in range(a,a*b):\n",
        "  if(c%a==0 and c%b==0):\n",
        "    break\n",
        "print(\"最大公倍數 LCM=\",c)"
      ],
      "execution_count": 26,
      "outputs": [
        {
          "output_type": "stream",
          "text": [
            "請輸入第一個數字:35\n",
            "請輸入第二個數字:9\n",
            "最大公約數 GCD= 2\n",
            "最大公倍數 LCM= 314\n"
          ],
          "name": "stdout"
        }
      ]
    },
    {
      "cell_type": "code",
      "metadata": {
        "id": "AuwtcxnPlC8_",
        "colab_type": "code",
        "colab": {
          "base_uri": "https://localhost:8080/",
          "height": 207
        },
        "outputId": "fece76fe-8ceb-4c41-ecff-03ae4f390afe"
      },
      "source": [
        "num=int(input('輸入求第幾項費氏數列?'))\n",
        "a=1\n",
        "b=1\n",
        "print(1,a)\n",
        "for i in range(2,num+1):\n",
        "  a,b=b,a+b #意思是第k+2等於第k項加上第k+1項\n",
        "  print(i,a)"
      ],
      "execution_count": 28,
      "outputs": [
        {
          "output_type": "stream",
          "text": [
            "輸入求第幾項費氏數列?10\n",
            "1 1\n",
            "2 1\n",
            "3 2\n",
            "4 3\n",
            "5 5\n",
            "6 8\n",
            "7 13\n",
            "8 21\n",
            "9 34\n",
            "10 55\n"
          ],
          "name": "stdout"
        }
      ]
    },
    {
      "cell_type": "code",
      "metadata": {
        "id": "X5ESHSDcr-t-",
        "colab_type": "code",
        "colab": {
          "base_uri": "https://localhost:8080/",
          "height": 173
        },
        "outputId": "f02b1b07-6e9b-43e5-db4d-af1be6e98a4f"
      },
      "source": [
        "import random\n",
        "while True:\n",
        "  dice=random.randint(1,6)\n",
        "  print(dice)\n",
        "  if dice==6:\n",
        "    break"
      ],
      "execution_count": 29,
      "outputs": [
        {
          "output_type": "stream",
          "text": [
            "1\n",
            "3\n",
            "4\n",
            "4\n",
            "2\n",
            "3\n",
            "1\n",
            "3\n",
            "6\n"
          ],
          "name": "stdout"
        }
      ]
    },
    {
      "cell_type": "code",
      "metadata": {
        "id": "BOm1MJPFr-r3",
        "colab_type": "code",
        "colab": {}
      },
      "source": [
        ""
      ],
      "execution_count": 0,
      "outputs": []
    },
    {
      "cell_type": "code",
      "metadata": {
        "id": "ID_LdnGKr-oY",
        "colab_type": "code",
        "colab": {}
      },
      "source": [
        ""
      ],
      "execution_count": 0,
      "outputs": []
    }
  ]
}