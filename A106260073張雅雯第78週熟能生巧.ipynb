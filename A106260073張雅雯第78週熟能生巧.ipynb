{
  "nbformat": 4,
  "nbformat_minor": 0,
  "metadata": {
    "colab": {
      "name": "A106260073張雅雯第78週熟能生巧",
      "provenance": [],
      "include_colab_link": true
    },
    "kernelspec": {
      "name": "python3",
      "display_name": "Python 3"
    }
  },
  "cells": [
    {
      "cell_type": "markdown",
      "metadata": {
        "id": "view-in-github",
        "colab_type": "text"
      },
      "source": [
        "<a href=\"https://colab.research.google.com/github/polkm12123/Computational-Thinking-and-Programming-Design/blob/master/A106260073%E5%BC%B5%E9%9B%85%E9%9B%AF%E7%AC%AC78%E9%80%B1%E7%86%9F%E8%83%BD%E7%94%9F%E5%B7%A7.ipynb\" target=\"_parent\"><img src=\"https://colab.research.google.com/assets/colab-badge.svg\" alt=\"Open In Colab\"/></a>"
      ]
    },
    {
      "cell_type": "code",
      "metadata": {
        "id": "Ic3-RI1xTh1e",
        "colab_type": "code",
        "colab": {
          "base_uri": "https://localhost:8080/",
          "height": 67
        },
        "outputId": "6a811fbe-eb06-4df6-e360-bcd3aba2ffaa"
      },
      "source": [
        "print(\"Welcome to the Mashup Game!\")\n",
        "name1=input(\"Enter one full name (FIRST LAST)\")\n",
        "name2=input(\"Enter another full name (FIRST LAST)\")"
      ],
      "execution_count": 1,
      "outputs": [
        {
          "output_type": "stream",
          "text": [
            "Welcome to the Mashup Game!\n",
            "Enter one full name (FIRST LAST)Aqua Man\n",
            "Enter another full name (FIRST LAST)Cat Woman\n"
          ],
          "name": "stdout"
        }
      ]
    },
    {
      "cell_type": "code",
      "metadata": {
        "id": "eKTKLJcYW3wA",
        "colab_type": "code",
        "colab": {
          "base_uri": "https://localhost:8080/",
          "height": 84
        },
        "outputId": "45430822-96ff-4023-9e2d-b6ed6af3cfd7"
      },
      "source": [
        "space= name1.find(\" \")#找空格\n",
        "name1_first=name1[0:space]\n",
        "name1_last=name1[space+1:len(name1)]#字串長度\n",
        "space=name2.find(\" \")\n",
        "name2_first=name2[0:space]\n",
        "name2_last=name2[space+1:len(name2)]\n",
        "\n",
        "print(name1_first)\n",
        "print(name1_last)\n",
        "print(name2_first)\n",
        "print(name2_last)\n",
        "\n"
      ],
      "execution_count": 7,
      "outputs": [
        {
          "output_type": "stream",
          "text": [
            "Aqua\n",
            "Man\n",
            "Cat\n",
            "Woman\n"
          ],
          "name": "stdout"
        }
      ]
    },
    {
      "cell_type": "code",
      "metadata": {
        "id": "OLYcSAiTYNVK",
        "colab_type": "code",
        "colab": {
          "base_uri": "https://localhost:8080/",
          "height": 67
        },
        "outputId": "50a43c8d-4f31-40ba-c2f3-f3ff8b4d1311"
      },
      "source": [
        "len_name1_first = len(name1_first)\n",
        "len_name2_first=len(name2_first)\n",
        "len_name1_last=len(name1_last)\n",
        "len_name2_last=len(name2_last)\n",
        "index_name1_first = int(len_name1_first/2)\n",
        "index_name2_first = int(len_name2_first/2)\n",
        "index_name1_last = int(len_name1_last/2)\n",
        "index_name2_last = int(len_name2_last/2) \n",
        "\n",
        "\n",
        "lefthalf_name1_first=name1_first[0:index_name1_first]\n",
        "righthalf_name1_first = name1_first[index_name1_first:len_name1_first]\n",
        "lefthalf_name2_first = name2_first[0:index_name2_first]\n",
        "righthalf_name2_first = name2_first[index_name2_first:len_name2_first]\n",
        "lefthalf_name1_last = name1_last[0:index_name1_last]\n",
        "righthalf_name1_last = name1_last[index_name1_last:len_name1_last]\n",
        "lefthalf_name2_last = name2_last[0:index_name2_last]\n",
        "righthalf_name2_last = name2_last[index_name2_last:len_name2_last]\n",
        "\n",
        "newname1_first =lefthalf_name1_first.capitalize()+ righthalf_name1_first.lower()\n",
        "newname1_last = lefthalf_name1_last.capitalize() + righthalf_name2_last.lower()\n",
        "newname2_first = lefthalf_name2_first.capitalize() + righthalf_name1_first.lower()\n",
        "newname2_last = lefthalf_name2_last.capitalize() + righthalf_name1_last.lower()\n",
        "print(\"All done! Here are two possibilities, pick the one you like best!\")\n",
        "print(newname1_first, newname1_last)\n",
        "print(newname2_first, newname2_last)\n"
      ],
      "execution_count": 11,
      "outputs": [
        {
          "output_type": "stream",
          "text": [
            "All done! Here are two possibilities, pick the one you like best!\n",
            "Aqua Mman\n",
            "Cua Woan\n"
          ],
          "name": "stdout"
        }
      ]
    },
    {
      "cell_type": "code",
      "metadata": {
        "id": "IcFv6tjaelaz",
        "colab_type": "code",
        "colab": {}
      },
      "source": [
        ""
      ],
      "execution_count": 0,
      "outputs": []
    },
    {
      "cell_type": "code",
      "metadata": {
        "id": "z3eHO4Foel86",
        "colab_type": "code",
        "colab": {
          "base_uri": "https://localhost:8080/",
          "height": 118
        },
        "outputId": "c3a18127-a64f-4111-b114-d7fb3f7b82b1"
      },
      "source": [
        "print(\"Welcome to the Mashup Game!\")\n",
        "name1 = input(\"Enter one full name (FIRST LAST): \")\n",
        "name2 = input(\"Enter another full name (FIRST LAST): \")\n",
        "space = name1.find(\" \")\n",
        "name1_first = name1[0:space]\n",
        "name1_last = name1[space+1:len(name1)]\n",
        "space = name2.find(\" \")\n",
        "name2_first = name2[0:space]\n",
        "name2_last = name2[space+1:len(name2)]\n",
        "len_name1_first = len(name1_first)\n",
        "len_name2_first = len(name2_first)\n",
        "len_name1_last = len(name1_last)\n",
        "len_name2_last = len(name2_last)\n",
        "index_name1_first = int(len_name1_first/2)\n",
        "index_name2_first = int(len_name2_first/2)\n",
        "index_name1_last = int(len_name1_last/2)\n",
        "index_name2_last = int(len_name2_last/2)\n",
        "lefthalf_name1_first = name1_first[0:index_name1_first]\n",
        "righthalf_name1_first = name1_first[index_name1_first:len_name1_first]\n",
        "lefthalf_name2_first = name2_first[0:index_name2_first]\n",
        "righthalf_name2_first = name2_first[index_name2_first:len_name2_first]\n",
        "lefthalf_name1_last = name1_last[0:index_name1_last]\n",
        "righthalf_name1_last = name1_last[index_name1_last:len_name1_last]\n",
        "lefthalf_name2_last = name2_last[0:index_name2_last]\n",
        "righthalf_name2_last = name2_last[index_name2_last:len_name2_last]\n",
        "newname1_first = lefthalf_name1_first.capitalize() + righthalf_name1_first.lower()\n",
        "#B\n",
        "newname1_last = lefthalf_name1_last.capitalize() + righthalf_name2_last.lower()\n",
        "newname2_first = lefthalf_name2_first.capitalize() + righthalf_name1_first.lower()\n",
        "newname2_last = lefthalf_name2_last.capitalize() + righthalf_name1_last.lower()\n",
        "print(\"All done! Here are two possibilities, pick the one you like best!\")\n",
        "print(newname1_first, newname1_last)\n",
        "print(newname2_first, newname2_last) "
      ],
      "execution_count": 13,
      "outputs": [
        {
          "output_type": "stream",
          "text": [
            "Welcome to the Mashup Game!\n",
            "Enter one full name (FIRST LAST): Tiffany Zhang\n",
            "Enter another full name (FIRST LAST): Yawen Zhang\n",
            "All done! Here are two possibilities, pick the one you like best!\n",
            "Tiffany Zhang\n",
            "Yafany Zhang\n"
          ],
          "name": "stdout"
        }
      ]
    },
    {
      "cell_type": "code",
      "metadata": {
        "id": "RQKa_jyqe-Wu",
        "colab_type": "code",
        "colab": {
          "base_uri": "https://localhost:8080/",
          "height": 50
        },
        "outputId": "b51a0b06-eacb-4e74-b4c4-2ea015f18f0a"
      },
      "source": [
        "s = input('請輸入一個字串？')\n",
        "print('迴文判斷結果為', s == s[::-1])\n"
      ],
      "execution_count": 14,
      "outputs": [
        {
          "output_type": "stream",
          "text": [
            "請輸入一個字串？abcdefggfedcba\n",
            "迴文判斷結果為 True\n"
          ],
          "name": "stdout"
        }
      ]
    },
    {
      "cell_type": "code",
      "metadata": {
        "id": "SjkdLCxefct4",
        "colab_type": "code",
        "colab": {
          "base_uri": "https://localhost:8080/",
          "height": 134
        },
        "outputId": "e792af78-cd1b-48a8-8699-93061056dc16"
      },
      "source": [
        "待辦事項 = []\n",
        "工作 = input('請輸入待辦事項？')\n",
        "待辦事項.append(工作)\n",
        "工作 = input('請輸入待辦事項？')\n",
        "待辦事項.append(工作)\n",
        "工作 = input('請輸入待辦事項？')\n",
        "待辦事項.append(工作)\n",
        "工作 = input('請輸入待辦事項？')\n",
        "待辦事項.append(工作) #將工作加入代辦事項\n",
        "工作 = input('請輸入待辦事項？')\n",
        "待辦事項.append(工作)\n",
        "print(待辦事項.pop(0), 待辦事項.pop(0), 待辦事項) #pop 取出代辦事項,0表示最先加入的工作\n",
        "print(待辦事項.pop(), 待辦事項)"
      ],
      "execution_count": 16,
      "outputs": [
        {
          "output_type": "stream",
          "text": [
            "請輸入待辦事項？吃飯\n",
            "請輸入待辦事項？讀書\n",
            "請輸入待辦事項？睡覺\n",
            "請輸入待辦事項？打字\n",
            "請輸入待辦事項？寫程式\n",
            "吃飯 讀書 ['睡覺', '打字', '寫程式']\n",
            "寫程式 ['睡覺', '打字']\n"
          ],
          "name": "stdout"
        }
      ]
    },
    {
      "cell_type": "code",
      "metadata": {
        "id": "Wla1fbUwfkJX",
        "colab_type": "code",
        "colab": {
          "base_uri": "https://localhost:8080/",
          "height": 84
        },
        "outputId": "5092582d-9f04-4720-97af-92f56dc15e70"
      },
      "source": [
        "字典 = {'dog':'狗', 'fish':'魚', 'cat':'貓', 'pig':'豬'}\n",
        "print(字典.keys())\n",
        "print(字典)\n",
        "英文 = input('請輸入一個英文單字？')\n",
        "print(字典.get(英文,'字典找不到該單字'))\n"
      ],
      "execution_count": 17,
      "outputs": [
        {
          "output_type": "stream",
          "text": [
            "dict_keys(['dog', 'fish', 'cat', 'pig'])\n",
            "{'dog': '狗', 'fish': '魚', 'cat': '貓', 'pig': '豬'}\n",
            "請輸入一個英文單字？dog\n",
            "狗\n"
          ],
          "name": "stdout"
        }
      ]
    },
    {
      "cell_type": "code",
      "metadata": {
        "id": "w9FJgyPtgHbE",
        "colab_type": "code",
        "colab": {
          "base_uri": "https://localhost:8080/",
          "height": 84
        },
        "outputId": "252981e3-28d7-49dd-a32b-9209d9bdfc4f"
      },
      "source": [
        "字典 = {'dog':'狗', 'fish':'魚', 'cat':'貓', 'pig':'豬'}\n",
        "print(字典.keys())\n",
        "print(字典)\n",
        "英文=input('請輸入一個英文單字?')\n",
        "print(字典.get(英文,'字典找不到該單字'))"
      ],
      "execution_count": 18,
      "outputs": [
        {
          "output_type": "stream",
          "text": [
            "dict_keys(['dog', 'fish', 'cat', 'pig'])\n",
            "{'dog': '狗', 'fish': '魚', 'cat': '貓', 'pig': '豬'}\n",
            "請輸入一個英文單字?turtle\n",
            "字典找不到該單字\n"
          ],
          "name": "stdout"
        }
      ]
    },
    {
      "cell_type": "code",
      "metadata": {
        "id": "a3CpgEvDgxze",
        "colab_type": "code",
        "colab": {
          "base_uri": "https://localhost:8080/",
          "height": 54
        },
        "outputId": "ad806ec9-71a4-4dcb-cb30-149b32e22998"
      },
      "source": [
        "詩 = '春眠不覺曉，處處聞啼鳥。夜來風雨聲，花落知多少。'\n",
        "字 = set(詩)\n",
        "字.remove('，') #刪除','\n",
        "字.remove('。') #刪除\"。\"\n",
        "print(字)\n"
      ],
      "execution_count": 19,
      "outputs": [
        {
          "output_type": "stream",
          "text": [
            "{'風', '少', '多', '聞', '處', '曉', '鳥', '花', '知', '落', '雨', '夜', '春', '覺', '聲', '眠', '不', '啼', '來'}\n"
          ],
          "name": "stdout"
        }
      ]
    },
    {
      "cell_type": "code",
      "metadata": {
        "id": "HSOEQ0WlgzVv",
        "colab_type": "code",
        "colab": {
          "base_uri": "https://localhost:8080/",
          "height": 70
        },
        "outputId": "5703338c-ed83-4a6d-8244-1a1a1251abc0"
      },
      "source": [
        "星期 = ['Sunday', 'Monday', 'Tuesday', 'Wednesday', 'Thursday', 'Friday', 'Saturday']\n",
        "月份 = ['January', 'February', 'March', 'April', 'May', 'June', \\\n",
        " 'July', 'August', 'September', 'October', 'November', 'December']\n",
        "dic = {'week':星期, 'month':月份}\n",
        "print(dic['month'])\n",
        "print(dic['month'][7]) #第8個元素"
      ],
      "execution_count": 20,
      "outputs": [
        {
          "output_type": "stream",
          "text": [
            "['January', 'February', 'March', 'April', 'May', 'June', 'July', 'August', 'September', 'October', 'November', 'December']\n",
            "August\n"
          ],
          "name": "stdout"
        }
      ]
    },
    {
      "cell_type": "code",
      "metadata": {
        "id": "DJQUxi-shHuL",
        "colab_type": "code",
        "colab": {
          "base_uri": "https://localhost:8080/",
          "height": 104
        },
        "outputId": "d411f9da-8632-4f58-ac43-b84051ad8092"
      },
      "source": [
        "s = input('請輸入一行英文句子？')\n",
        "words = s.split(' ')\n",
        "print('將英文句子以空白字元切割後，獲得單字為', words)\n",
        "s2 = ' '.join(words)\n",
        "print('以空白字元結合所有單字後，獲得句子為', s2)\n",
        "s3 = s.title()\n",
        "print('將每個單字字首轉大寫後，獲得句子為',s3)"
      ],
      "execution_count": 21,
      "outputs": [
        {
          "output_type": "stream",
          "text": [
            "請輸入一行英文句子？an apple a day keeps the doctor away\n",
            "將英文句子以空白字元切割後，獲得單字為 ['an', 'apple', 'a', 'day', 'keeps', 'the', 'doctor', 'away']\n",
            "以空白字元結合所有單字後，獲得句子為 an apple a day keeps the doctor away\n",
            "將每個單字字首轉大寫後，獲得句子為 An Apple A Day Keeps The Doctor Away\n"
          ],
          "name": "stdout"
        }
      ]
    },
    {
      "cell_type": "code",
      "metadata": {
        "id": "kUUp0HBfhbrc",
        "colab_type": "code",
        "colab": {
          "base_uri": "https://localhost:8080/",
          "height": 50
        },
        "outputId": "d1a477b9-e355-4a51-aa96-8544443e251d"
      },
      "source": [
        "s=input('請輸入一行英文句子?')\n",
        "s.strip(' .')\n",
        "words = s.split(' ')\n",
        "print(words[::-1])"
      ],
      "execution_count": 22,
      "outputs": [
        {
          "output_type": "stream",
          "text": [
            "請輸入一行英文句子?an apple a day keeps the doctor away\n",
            "['away', 'doctor', 'the', 'keeps', 'day', 'a', 'apple', 'an']\n"
          ],
          "name": "stdout"
        }
      ]
    },
    {
      "cell_type": "code",
      "metadata": {
        "id": "_48jXtGVh-xs",
        "colab_type": "code",
        "colab": {
          "base_uri": "https://localhost:8080/",
          "height": 67
        },
        "outputId": "09398af9-b96f-4868-ad35-75ace6594446"
      },
      "source": [
        "全班學生 = set(['John', 'Mary', 'Tina', 'Fiona', 'Claire', 'Eva', 'Ben', 'Bill', 'Bert'\n",
        "])\n",
        "英文及格 = set(['John', 'Mary', 'Fiona', 'Claire', 'Ben', 'Bill'])\n",
        "數學及格 = set(['Mary', 'Fiona', 'Claire', 'Eva', 'Ben'])\n",
        "print('英文與數學都及格', 英文及格&數學及格)\n",
        "print('數學不及格', 全班學生-數學及格)\n",
        "print('英文及格與數學不及格', 英文及格&(全班學生-數學及格))"
      ],
      "execution_count": 23,
      "outputs": [
        {
          "output_type": "stream",
          "text": [
            "英文與數學都及格 {'Ben', 'Mary', 'Fiona', 'Claire'}\n",
            "數學不及格 {'John', 'Bert', 'Tina', 'Bill'}\n",
            "英文及格與數學不及格 {'John', 'Bill'}\n"
          ],
          "name": "stdout"
        }
      ]
    },
    {
      "cell_type": "code",
      "metadata": {
        "id": "rO-EF7EZiRCs",
        "colab_type": "code",
        "colab": {
          "base_uri": "https://localhost:8080/",
          "height": 34
        },
        "outputId": "13038ad1-2e60-4d7a-cb7d-d06d712856f8"
      },
      "source": [
        "p1 = '紅豆生南國，春來發幾枝？願君多采擷，此物最相思。'\n",
        "p2 = '春眠不覺曉，處處聞啼鳥。夜來風雨聲，花落知多少。'\n",
        "s1 = set(p1)\n",
        "s1.remove('，')\n",
        "s1.remove('。')\n",
        "s1.remove('？')\n",
        "s2 = set(p2)\n",
        "s2.remove('，')\n",
        "s2.remove('。')\n",
        "print(s1&s2)\n"
      ],
      "execution_count": 24,
      "outputs": [
        {
          "output_type": "stream",
          "text": [
            "{'多', '春', '來'}\n"
          ],
          "name": "stdout"
        }
      ]
    },
    {
      "cell_type": "code",
      "metadata": {
        "id": "hcC3qdTBia2a",
        "colab_type": "code",
        "colab": {
          "base_uri": "https://localhost:8080/",
          "height": 151
        },
        "outputId": "cb7ddd98-b9f8-4e9a-85a9-06ea35043e7a"
      },
      "source": [
        "mail = dict()\n",
        "name = input('請輸入姓名？')\n",
        "email = input('請輸入電子郵件？')\n",
        "mail[name]=email\n",
        "name = input('請輸入姓名？')\n",
        "email = input('請輸入電子郵件？')\n",
        "mail[name]=email\n",
        "name = input('請輸入姓名？')\n",
        "email = input('請輸入電子郵件？')\n",
        "mail[name]=email\n",
        "name = input('請輸入要查詢電子郵件的姓名？')\n",
        "print(mail[name])\n"
      ],
      "execution_count": 26,
      "outputs": [
        {
          "output_type": "stream",
          "text": [
            "請輸入姓名？Tiffany\n",
            "請輸入電子郵件？polkm21470369*@gmail.com\n",
            "請輸入姓名？yawen\n",
            "請輸入電子郵件？polkm12123@yahoo.com.tw\n",
            "請輸入姓名？qq\n",
            "請輸入電子郵件？qwertyuiop@yahoo.com.tw\n",
            "請輸入要查詢電子郵件的姓名？Tiffany\n",
            "polkm21470369*@gmail.com\n"
          ],
          "name": "stdout"
        }
      ]
    }
  ]
}