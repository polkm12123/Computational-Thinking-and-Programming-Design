{
  "nbformat": 4,
  "nbformat_minor": 0,
  "metadata": {
    "colab": {
      "name": "複習資料4 a106260073張雅雯_文字資料操作",
      "provenance": [],
      "include_colab_link": true
    },
    "kernelspec": {
      "name": "python3",
      "display_name": "Python 3"
    }
  },
  "cells": [
    {
      "cell_type": "markdown",
      "metadata": {
        "id": "view-in-github",
        "colab_type": "text"
      },
      "source": [
        "<a href=\"https://colab.research.google.com/github/polkm12123/Computational-Thinking-and-Programming-Design/blob/master/%E8%A4%87%E7%BF%92%E8%B3%87%E6%96%994_a106260073%E5%BC%B5%E9%9B%85%E9%9B%AF_%E6%96%87%E5%AD%97%E8%B3%87%E6%96%99%E6%93%8D%E4%BD%9C.ipynb\" target=\"_parent\"><img src=\"https://colab.research.google.com/assets/colab-badge.svg\" alt=\"Open In Colab\"/></a>"
      ]
    },
    {
      "cell_type": "code",
      "metadata": {
        "id": "dvyc1y_XMwO2",
        "colab_type": "code",
        "colab": {}
      },
      "source": [
        "#1. 下列哪些是合法的字串？\n",
        "(A) \"444\" (B) checkered_flag (C)'finish line' (D) \"99bbaalloonnss\" (E) 'combo\"\n",
        "#Ans:A.C.D\n",
        "#2. ( X )：Python是允許執⾏字串相加，產⽣新字串。也允許字串相減，產⽣新字串。\n",
        "#Ans:字串可以做相加、相乘、相除"
      ],
      "execution_count": 0,
      "outputs": []
    }
  ]
}