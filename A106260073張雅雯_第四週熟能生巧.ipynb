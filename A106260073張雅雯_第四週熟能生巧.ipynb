{
  "nbformat": 4,
  "nbformat_minor": 0,
  "metadata": {
    "colab": {
      "name": "A106260073張雅雯-第四週熟能生巧",
      "provenance": [],
      "include_colab_link": true
    },
    "kernelspec": {
      "name": "python3",
      "display_name": "Python 3"
    }
  },
  "cells": [
    {
      "cell_type": "markdown",
      "metadata": {
        "id": "view-in-github",
        "colab_type": "text"
      },
      "source": [
        "<a href=\"https://colab.research.google.com/github/polkm12123/Computational-Thinking-and-Programming-Design/blob/master/A106260073%E5%BC%B5%E9%9B%85%E9%9B%AF_%E7%AC%AC%E5%9B%9B%E9%80%B1%E7%86%9F%E8%83%BD%E7%94%9F%E5%B7%A7.ipynb\" target=\"_parent\"><img src=\"https://colab.research.google.com/assets/colab-badge.svg\" alt=\"Open In Colab\"/></a>"
      ]
    },
    {
      "cell_type": "code",
      "metadata": {
        "id": "XIQpHCRTpn--",
        "colab_type": "code",
        "colab": {
          "base_uri": "https://localhost:8080/",
          "height": 122
        },
        "outputId": "6b7a49db-b40a-4fb6-f17f-6a845c74ebb0"
      },
      "source": [
        "name = input('請問尊姓大名')\n",
        "print('你好',name)\n",
        "\n",
        "y=int(input('請問年紀?'))\n",
        "print('原來你',y,'歲')\n",
        "\n",
        "w=float(input('請問體重?'))\n",
        "print('體重為',w)"
      ],
      "execution_count": 1,
      "outputs": [
        {
          "output_type": "stream",
          "text": [
            "請問尊姓大名雅雯\n",
            "你好 雅雯\n",
            "請問年紀?20\n",
            "原來你 20 歲\n",
            "請問體重?53\n",
            "體重為 53.0\n"
          ],
          "name": "stdout"
        }
      ]
    },
    {
      "cell_type": "code",
      "metadata": {
        "id": "ZNqTamc-tq7Q",
        "colab_type": "code",
        "colab": {
          "base_uri": "https://localhost:8080/",
          "height": 87
        },
        "outputId": "3d99cd7b-a066-4d2c-dd6b-10f891178fcc"
      },
      "source": [
        "上衣=int(input('請輸入上衣的數量?'))\n",
        "褲子=int(input('請輸入褲子的數量?'))\n",
        "背心=int(input('請輸入背心的數量?'))\n",
        "\n",
        "總金額= 上衣*300+褲子*350+背心*400\n",
        "print('訂購服裝的總金額為',總金額)"
      ],
      "execution_count": 2,
      "outputs": [
        {
          "output_type": "stream",
          "text": [
            "請輸入上衣的數量?20\n",
            "請輸入褲子的數量?30\n",
            "請輸入背心的數量?50\n",
            "訂購服裝的總金額為 36500\n"
          ],
          "name": "stdout"
        }
      ]
    },
    {
      "cell_type": "code",
      "metadata": {
        "id": "jlFMU0SsuZPq",
        "colab_type": "code",
        "colab": {
          "base_uri": "https://localhost:8080/",
          "height": 52
        },
        "outputId": "485593b1-c39b-4efe-c197-5c1378b3b20e"
      },
      "source": [
        "半徑=float(input('請輸入半徑?'))\n",
        "PI=3.14159\n",
        "\n",
        "圓周長=2*PI*半徑\n",
        "圓面積=半徑*半徑*PI\n",
        "\n",
        "print('圓周長',圓周長,'圓面積為',圓面積)"
      ],
      "execution_count": 4,
      "outputs": [
        {
          "output_type": "stream",
          "text": [
            "請輸入半徑?20\n",
            "圓周長 125.6636 圓面積為 1256.636\n"
          ],
          "name": "stdout"
        }
      ]
    },
    {
      "cell_type": "code",
      "metadata": {
        "id": "LeP_U_fEu9no",
        "colab_type": "code",
        "colab": {
          "base_uri": "https://localhost:8080/",
          "height": 52
        },
        "outputId": "d33befff-285c-4d30-90f3-fb7556a4bc41"
      },
      "source": [
        "c=float(input('請輸入攝氏溫度?'))\n",
        "f=c*9/5+32\n",
        "print('華氏溫度為',f\n",
        "      "
      ],
      "execution_count": 5,
      "outputs": [
        {
          "output_type": "stream",
          "text": [
            "請輸入攝氏溫度?55\n",
            "華氏溫度為 131.0\n"
          ],
          "name": "stdout"
        }
      ]
    },
    {
      "cell_type": "code",
      "metadata": {
        "id": "a2R_90HZxI5n",
        "colab_type": "code",
        "colab": {
          "base_uri": "https://localhost:8080/",
          "height": 105
        },
        "outputId": "f2ad899b-e109-4f45-89cb-d3cdaa49e1ae"
      },
      "source": [
        "money= int(input('請輸入本金?'))\n",
        "interest = float(input('請輸入年利率(%)?'))\n",
        "\n",
        "y1=money*(1+interest/100)\n",
        "y2=money*((1+interest/100)**2)\n",
        "y3=money*((1+interest/100)**3)\n",
        "\n",
        "print('第一年本利和為',y1)\n",
        "print('第二年本利和為',y2)\n",
        "print('第三年本利和為',y3)"
      ],
      "execution_count": 7,
      "outputs": [
        {
          "output_type": "stream",
          "text": [
            "請輸入本金?1000\n",
            "請輸入年利率(%)?10\n",
            "第一年本利和為 1100.0\n",
            "第二年本利和為 1210.0000000000002\n",
            "第三年本利和為 1331.0000000000005\n"
          ],
          "name": "stdout"
        }
      ]
    },
    {
      "cell_type": "code",
      "metadata": {
        "id": "G2x-LElDyHVu",
        "colab_type": "code",
        "colab": {
          "base_uri": "https://localhost:8080/",
          "height": 52
        },
        "outputId": "2ed87876-6e41-4ebb-feef-8c3a986b93b0"
      },
      "source": [
        "s=input('請輸入一個字串?')\n",
        "print('迴文判斷結果為',s==s[::-1])"
      ],
      "execution_count": 12,
      "outputs": [
        {
          "output_type": "stream",
          "text": [
            "請輸入一個字串?abcdefggfedcba\n",
            "迴文判斷結果為 True\n"
          ],
          "name": "stdout"
        }
      ]
    },
    {
      "cell_type": "code",
      "metadata": {
        "id": "hBqdNjZ_yv6-",
        "colab_type": "code",
        "colab": {
          "base_uri": "https://localhost:8080/",
          "height": 87
        },
        "outputId": "b6abd900-c53a-43c8-8d66-0c5d4b51d1af"
      },
      "source": [
        "minutes_to_convert=123\n",
        "hours_decimal = minutes_to_convert/60\n",
        "hours_part = int(hours_decimal)\n",
        "\n",
        "minutes_decimal = hours_decimal-hours_part #浮點數減整數取得小數\n",
        "minutes_part = round(minutes_decimal*60) #數學運算乘60得分鐘數，要四捨五入\n",
        "\n",
        "print(\"Hours\")\n",
        "print(hours_part)\n",
        "print(\"Minutes\")\n",
        "print(minutes_part)"
      ],
      "execution_count": 14,
      "outputs": [
        {
          "output_type": "stream",
          "text": [
            "Hours\n",
            "2\n",
            "Minutes\n",
            "3\n"
          ],
          "name": "stdout"
        }
      ]
    },
    {
      "cell_type": "code",
      "metadata": {
        "id": "HR9cDa8G15N6",
        "colab_type": "code",
        "colab": {
          "base_uri": "https://localhost:8080/",
          "height": 87
        },
        "outputId": "e4fd3efb-6dd4-49be-f143-aa0f1cd16239"
      },
      "source": [
        "minutes_to_convert = 123\n",
        "hours_decimal = minutes_to_convert/60\n",
        "hours_part = int(hours_decimal)\n",
        "minutes_part = minutes_to_convert%60\n",
        "print(\"Hours\")\n",
        "print(hours_part)\n",
        "print(\"Minutes\")\n",
        "print(minutes_part)"
      ],
      "execution_count": 15,
      "outputs": [
        {
          "output_type": "stream",
          "text": [
            "Hours\n",
            "2\n",
            "Minutes\n",
            "3\n"
          ],
          "name": "stdout"
        }
      ]
    },
    {
      "cell_type": "code",
      "metadata": {
        "id": "t5x_2O3u2Jqr",
        "colab_type": "code",
        "colab": {}
      },
      "source": [
        ""
      ],
      "execution_count": 0,
      "outputs": []
    }
  ]
}