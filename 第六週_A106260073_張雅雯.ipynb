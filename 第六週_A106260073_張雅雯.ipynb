{
  "nbformat": 4,
  "nbformat_minor": 0,
  "metadata": {
    "colab": {
      "name": "第六週-A106260073 張雅雯",
      "provenance": [],
      "include_colab_link": true
    },
    "kernelspec": {
      "name": "python3",
      "display_name": "Python 3"
    }
  },
  "cells": [
    {
      "cell_type": "markdown",
      "metadata": {
        "id": "view-in-github",
        "colab_type": "text"
      },
      "source": [
        "<a href=\"https://colab.research.google.com/github/polkm12123/Computational-Thinking-and-Programming-Design/blob/master/%E7%AC%AC%E5%85%AD%E9%80%B1_A106260073_%E5%BC%B5%E9%9B%85%E9%9B%AF.ipynb\" target=\"_parent\"><img src=\"https://colab.research.google.com/assets/colab-badge.svg\" alt=\"Open In Colab\"/></a>"
      ]
    },
    {
      "cell_type": "code",
      "metadata": {
        "id": "RSxqNdFREI9B",
        "colab_type": "code",
        "outputId": "86675aa0-1214-4672-8b3c-c6ef33a27ffe",
        "colab": {
          "base_uri": "https://localhost:8080/",
          "height": 85
        }
      },
      "source": [
        "第一次=int(input(\"第一次期中考成績為?\"))\n",
        "\n",
        "第二次=int(input(\"第二次期中考成績為?\"))\n",
        "\n",
        "第三次=int(input(\"期末考成績為?\"))\n",
        "\n",
        "總分 = 第一次*1+第二次*1+第三次*1\n",
        "平均 =總分/3\n",
        "print(\"總分為\",總分,'平均為',平均)"
      ],
      "execution_count": 0,
      "outputs": [
        {
          "output_type": "stream",
          "text": [
            "第一次期中考成績為?75\n",
            "第二次期中考成績為?80\n",
            "期末考成績為?65\n",
            "總分為 220 平均為 73.33333333333333\n"
          ],
          "name": "stdout"
        }
      ]
    },
    {
      "cell_type": "code",
      "metadata": {
        "id": "NMWQa2BxPMq1",
        "colab_type": "code",
        "outputId": "020e6a2a-2e08-4293-d672-870bd373d0c2",
        "colab": {
          "base_uri": "https://localhost:8080/",
          "height": 68
        }
      },
      "source": [
        "第一次=int(input(\"請輸入幾尺?\"))\n",
        "\n",
        "第二次=int(input(\"請輸入幾吋?\"))\n",
        "\n",
        "\n",
        "轉換公式 = (第一次*12+第二次*1)*2.54\n",
        "print(\"轉換成\",轉換公式,\"公分\")"
      ],
      "execution_count": 0,
      "outputs": [
        {
          "output_type": "stream",
          "text": [
            "請輸入幾尺?5\n",
            "請輸入幾吋?8\n",
            "轉換成 172.72 公分\n"
          ],
          "name": "stdout"
        }
      ]
    },
    {
      "cell_type": "code",
      "metadata": {
        "id": "qt-d_8bTUtE6",
        "colab_type": "code",
        "outputId": "c7519f1e-26aa-4d98-a13b-3d856fd3998f",
        "colab": {
          "base_uri": "https://localhost:8080/",
          "height": 51
        }
      },
      "source": [
        "x=float(input('請輸入座號?'))\n",
        "y=x/4.75\n",
        "print('組別為',y)\n",
        "\n"
      ],
      "execution_count": 0,
      "outputs": [
        {
          "output_type": "stream",
          "text": [
            "請輸入座號?19\n",
            "組別為 4.0\n"
          ],
          "name": "stdout"
        }
      ]
    },
    {
      "cell_type": "code",
      "metadata": {
        "id": "ilqF0ZhQYII2",
        "colab_type": "code",
        "outputId": "1b5a6a45-f522-4da6-a82d-63e0877ea097",
        "colab": {
          "base_uri": "https://localhost:8080/",
          "height": 216
        }
      },
      "source": [
        "幾罐=float(input('輸入購買飲料的罐數'))\n",
        "幾打=幾罐/12\n",
        "剩餘=int(幾打)\n",
        "幾打的價格=(幾打-剩餘)*200 #2.5-2 \n",
        "\n",
        "剩餘的價格=剩餘*200\n",
        "\n",
        "總共=幾打的價格+剩餘的價格\n",
        "print('需花費',總共)"
      ],
      "execution_count": 0,
      "outputs": [
        {
          "output_type": "stream",
          "text": [
            "輸入購買飲料的罐數30\n"
          ],
          "name": "stdout"
        },
        {
          "output_type": "error",
          "ename": "TypeError",
          "evalue": "ignored",
          "traceback": [
            "\u001b[0;31m---------------------------------------------------------------------------\u001b[0m",
            "\u001b[0;31mTypeError\u001b[0m                                 Traceback (most recent call last)",
            "\u001b[0;32m<ipython-input-40-1852e3468b09>\u001b[0m in \u001b[0;36m<module>\u001b[0;34m()\u001b[0m\n\u001b[1;32m      7\u001b[0m \u001b[0;34m\u001b[0m\u001b[0m\n\u001b[1;32m      8\u001b[0m \u001b[0m總共\u001b[0m\u001b[0;34m=\u001b[0m\u001b[0m幾打的價格\u001b[0m\u001b[0;34m+\u001b[0m\u001b[0m剩餘的價格\u001b[0m\u001b[0;34m\u001b[0m\u001b[0;34m\u001b[0m\u001b[0m\n\u001b[0;32m----> 9\u001b[0;31m \u001b[0mprint\u001b[0m\u001b[0;34m(\u001b[0m\u001b[0;34m'需花費'\u001b[0m\u001b[0;34m,\u001b[0m\u001b[0m總共\u001b[0m\u001b[0;34m)\u001b[0m\u001b[0;34m\u001b[0m\u001b[0;34m\u001b[0m\u001b[0m\n\u001b[0m",
            "\u001b[0;31mTypeError\u001b[0m: 'int' object is not callable"
          ]
        }
      ]
    },
    {
      "cell_type": "code",
      "metadata": {
        "id": "BU5WAR2mdRZL",
        "colab_type": "code",
        "colab": {}
      },
      "source": [
        ""
      ],
      "execution_count": 0,
      "outputs": []
    }
  ]
}