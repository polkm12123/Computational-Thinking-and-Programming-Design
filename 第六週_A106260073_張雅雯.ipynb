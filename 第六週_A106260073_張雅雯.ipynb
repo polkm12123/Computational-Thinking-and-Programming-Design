{
  "nbformat": 4,
  "nbformat_minor": 0,
  "metadata": {
    "colab": {
      "name": "第六週-A106260073 張雅雯",
      "provenance": [],
      "include_colab_link": true
    },
    "kernelspec": {
      "name": "python3",
      "display_name": "Python 3"
    }
  },
  "cells": [
    {
      "cell_type": "markdown",
      "metadata": {
        "id": "view-in-github",
        "colab_type": "text"
      },
      "source": [
        "<a href=\"https://colab.research.google.com/github/polkm12123/Computational-Thinking-and-Programming-Design/blob/master/%E7%AC%AC%E5%85%AD%E9%80%B1_A106260073_%E5%BC%B5%E9%9B%85%E9%9B%AF.ipynb\" target=\"_parent\"><img src=\"https://colab.research.google.com/assets/colab-badge.svg\" alt=\"Open In Colab\"/></a>"
      ]
    },
    {
      "cell_type": "code",
      "metadata": {
        "id": "RSxqNdFREI9B",
        "colab_type": "code",
        "colab": {
          "base_uri": "https://localhost:8080/",
          "height": 85
        },
        "outputId": "86675aa0-1214-4672-8b3c-c6ef33a27ffe"
      },
      "source": [
        "第一次=int(input(\"第一次期中考成績為?\"))\n",
        "\n",
        "第二次=int(input(\"第二次期中考成績為?\"))\n",
        "\n",
        "第三次=int(input(\"期末考成績為?\"))\n",
        "\n",
        "總分 = 第一次*1+第二次*1+第三次*1\n",
        "平均 =總分/3\n",
        "print(\"總分為\",總分,'平均為',平均)"
      ],
      "execution_count": 13,
      "outputs": [
        {
          "output_type": "stream",
          "text": [
            "第一次期中考成績為?75\n",
            "第二次期中考成績為?80\n",
            "期末考成績為?65\n",
            "總分為 220 平均為 73.33333333333333\n"
          ],
          "name": "stdout"
        }
      ]
    },
    {
      "cell_type": "code",
      "metadata": {
        "id": "NMWQa2BxPMq1",
        "colab_type": "code",
        "colab": {
          "base_uri": "https://localhost:8080/",
          "height": 68
        },
        "outputId": "020e6a2a-2e08-4293-d672-870bd373d0c2"
      },
      "source": [
        "第一次=int(input(\"請輸入幾尺?\"))\n",
        "\n",
        "第二次=int(input(\"請輸入幾吋?\"))\n",
        "\n",
        "\n",
        "轉換公式 = (第一次*12+第二次*1)*2.54\n",
        "print(\"轉換成\",轉換公式,\"公分\")"
      ],
      "execution_count": 15,
      "outputs": [
        {
          "output_type": "stream",
          "text": [
            "請輸入幾尺?5\n",
            "請輸入幾吋?8\n",
            "轉換成 172.72 公分\n"
          ],
          "name": "stdout"
        }
      ]
    },
    {
      "cell_type": "code",
      "metadata": {
        "id": "qt-d_8bTUtE6",
        "colab_type": "code",
        "colab": {
          "base_uri": "https://localhost:8080/",
          "height": 51
        },
        "outputId": "c7519f1e-26aa-4d98-a13b-3d856fd3998f"
      },
      "source": [
        "x=float(input('請輸入座號?'))\n",
        "y=x/4.75\n",
        "print('組別為',y)\n",
        "\n"
      ],
      "execution_count": 16,
      "outputs": [
        {
          "output_type": "stream",
          "text": [
            "請輸入座號?19\n",
            "組別為 4.0\n"
          ],
          "name": "stdout"
        }
      ]
    },
    {
      "cell_type": "code",
      "metadata": {
        "id": "ilqF0ZhQYII2",
        "colab_type": "code",
        "colab": {
          "base_uri": "https://localhost:8080/",
          "height": 250
        },
        "outputId": "0b013a59-78a9-49ff-c121-1b71599d8134"
      },
      "source": [
        "幾罐=int (input(\"要買幾罐?\"))\n",
        "print(\"計算結果顯示如下\")\n",
        "print(\"您購買了\",幾罐,\"罐\")\n",
        "一打=幾罐/12\n",
        "打數=int(一打)\n",
        "\n",
        "餘罐=一打-打數\n",
        "餘罐捨入=round(餘罐*20)\n",
        "\n",
        "總金額=打數*200+餘罐捨入*10\n",
        "\n",
        "print(\"需花費\",總金額)"
      ],
      "execution_count": 36,
      "outputs": [
        {
          "output_type": "stream",
          "text": [
            "要買幾罐?30\n"
          ],
          "name": "stdout"
        },
        {
          "output_type": "error",
          "ename": "TypeError",
          "evalue": "ignored",
          "traceback": [
            "\u001b[0;31m---------------------------------------------------------------------------\u001b[0m",
            "\u001b[0;31mTypeError\u001b[0m                                 Traceback (most recent call last)",
            "\u001b[0;32m<ipython-input-36-cdd31f61b8f1>\u001b[0m in \u001b[0;36m<module>\u001b[0;34m()\u001b[0m\n\u001b[1;32m      1\u001b[0m \u001b[0m幾罐\u001b[0m\u001b[0;34m=\u001b[0m\u001b[0mint\u001b[0m \u001b[0;34m(\u001b[0m\u001b[0minput\u001b[0m\u001b[0;34m(\u001b[0m\u001b[0;34m\"要買幾罐?\"\u001b[0m\u001b[0;34m)\u001b[0m\u001b[0;34m)\u001b[0m\u001b[0;34m\u001b[0m\u001b[0;34m\u001b[0m\u001b[0m\n\u001b[0;32m----> 2\u001b[0;31m \u001b[0mprint\u001b[0m\u001b[0;34m(\u001b[0m\u001b[0;34m\"計算結果顯示如下\"\u001b[0m\u001b[0;34m)\u001b[0m\u001b[0;34m\u001b[0m\u001b[0;34m\u001b[0m\u001b[0m\n\u001b[0m\u001b[1;32m      3\u001b[0m \u001b[0mprint\u001b[0m\u001b[0;34m(\u001b[0m\u001b[0;34m\"您購買了\"\u001b[0m\u001b[0;34m,\u001b[0m\u001b[0m幾罐\u001b[0m\u001b[0;34m,\u001b[0m\u001b[0;34m\"罐\"\u001b[0m\u001b[0;34m)\u001b[0m\u001b[0;34m\u001b[0m\u001b[0;34m\u001b[0m\u001b[0m\n\u001b[1;32m      4\u001b[0m \u001b[0m一打\u001b[0m\u001b[0;34m=\u001b[0m\u001b[0m幾罐\u001b[0m\u001b[0;34m/\u001b[0m\u001b[0;36m12\u001b[0m\u001b[0;34m\u001b[0m\u001b[0;34m\u001b[0m\u001b[0m\n\u001b[1;32m      5\u001b[0m \u001b[0m打數\u001b[0m\u001b[0;34m=\u001b[0m\u001b[0mint\u001b[0m\u001b[0;34m(\u001b[0m\u001b[0m一打\u001b[0m\u001b[0;34m)\u001b[0m\u001b[0;34m\u001b[0m\u001b[0;34m\u001b[0m\u001b[0m\n",
            "\u001b[0;31mTypeError\u001b[0m: 'int' object is not callable"
          ]
        }
      ]
    },
    {
      "cell_type": "code",
      "metadata": {
        "id": "BU5WAR2mdRZL",
        "colab_type": "code",
        "colab": {}
      },
      "source": [
        ""
      ],
      "execution_count": 0,
      "outputs": []
    }
  ]
}