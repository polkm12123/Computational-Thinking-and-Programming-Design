{
  "nbformat": 4,
  "nbformat_minor": 0,
  "metadata": {
    "colab": {
      "name": "A106260073張雅雯_重複迴圈",
      "provenance": [],
      "include_colab_link": true
    },
    "kernelspec": {
      "name": "python3",
      "display_name": "Python 3"
    }
  },
  "cells": [
    {
      "cell_type": "markdown",
      "metadata": {
        "id": "view-in-github",
        "colab_type": "text"
      },
      "source": [
        "<a href=\"https://colab.research.google.com/github/polkm12123/Computational-Thinking-and-Programming-Design/blob/master/A106260073%E5%BC%B5%E9%9B%85%E9%9B%AF_%E9%87%8D%E8%A4%87%E8%BF%B4%E5%9C%88.ipynb\" target=\"_parent\"><img src=\"https://colab.research.google.com/assets/colab-badge.svg\" alt=\"Open In Colab\"/></a>"
      ]
    },
    {
      "cell_type": "code",
      "metadata": {
        "id": "U8RL_7-722S0",
        "colab_type": "code",
        "outputId": "5a3d29ac-ad11-4385-ffe2-ec2c35440347",
        "colab": {
          "base_uri": "https://localhost:8080/",
          "height": 67
        }
      },
      "source": [
        "i=1\n",
        "while(i<6):\n",
        "  print(i)\n",
        "  if i==3:\n",
        "    break\n",
        "  i+=1 #i=i+1\n",
        "  "
      ],
      "execution_count": 11,
      "outputs": [
        {
          "output_type": "stream",
          "text": [
            "1\n",
            "2\n",
            "3\n"
          ],
          "name": "stdout"
        }
      ]
    },
    {
      "cell_type": "code",
      "metadata": {
        "id": "3BM-lyf83Qvp",
        "colab_type": "code",
        "outputId": "84b9eb15-32a6-4408-cb77-ee40a9fa30b8",
        "colab": {
          "base_uri": "https://localhost:8080/",
          "height": 84
        }
      },
      "source": [
        "i=0\n",
        "while(i<5):\n",
        "  i+=1 #i=i+1\n",
        "  if i==3: \n",
        "    continue\n",
        "  print(i)"
      ],
      "execution_count": 10,
      "outputs": [
        {
          "output_type": "stream",
          "text": [
            "1\n",
            "2\n",
            "4\n",
            "5\n"
          ],
          "name": "stdout"
        }
      ]
    },
    {
      "cell_type": "code",
      "metadata": {
        "id": "AbLiUnN23Qzh",
        "colab_type": "code",
        "outputId": "fefcf74a-b5bb-4dee-f24f-8e6825e0339f",
        "colab": {
          "base_uri": "https://localhost:8080/",
          "height": 118
        }
      },
      "source": [
        "i=1\n",
        "while(i<6):\n",
        "  print(i)\n",
        "  if i==6:\n",
        "    break\n",
        "  i+=1 #i=i+1\n",
        "else:\n",
        "  print(\"while迴圈正常結束\")"
      ],
      "execution_count": 0,
      "outputs": [
        {
          "output_type": "stream",
          "text": [
            "1\n",
            "2\n",
            "3\n",
            "4\n",
            "5\n",
            "while迴圈正常結束\n"
          ],
          "name": "stdout"
        }
      ]
    },
    {
      "cell_type": "code",
      "metadata": {
        "id": "GxqWB8N13Q1U",
        "colab_type": "code",
        "outputId": "c3fc8031-d4c9-4470-a04a-d22cce3a6b4e",
        "colab": {
          "base_uri": "https://localhost:8080/",
          "height": 118
        }
      },
      "source": [
        "i=1\n",
        "while(i<6):\n",
        "  print(i)\n",
        "  if i==6:\n",
        "    break\n",
        "  i+=1\n",
        "print('while迴圈正常結束')"
      ],
      "execution_count": 0,
      "outputs": [
        {
          "output_type": "stream",
          "text": [
            "1\n",
            "2\n",
            "3\n",
            "4\n",
            "5\n",
            "while迴圈正常結束\n"
          ],
          "name": "stdout"
        }
      ]
    },
    {
      "cell_type": "code",
      "metadata": {
        "id": "Ywvezh5P3Q9b",
        "colab_type": "code",
        "colab": {}
      },
      "source": [
        "x = 5\n",
        "while True: #是非題得布林值\n",
        " print(\"x⼩於10!\")\n",
        " print(\"我要出迴圈！！\")\n",
        " x = x + 1 #變更條件\n",
        "print(\"我出來了\")\n",
        "x = 5\n",
        "while True: #是非題得布林值\n",
        " print(\"x⼩於10!\")\n",
        " print(\"我要出迴圈！！\")\n",
        " break #變更條件，跑出迴圈\n",
        "print(\"我出來了\")\n",
        "while True:\n",
        "  mode = input(\"請輸入⾳樂模式： \")\n",
        " if mode == \"quit\":\n",
        "   break #停⽌播放\n",
        " elif mode == \"one\":\n",
        "   print(\"啟動模式⼀：正常播放\")\n",
        " elif mode == \"two\":\n",
        "   print(\"請動模式⼆：重複播放\")\n",
        " else:\n",
        "   print(\"Sorry, 只能輸入quit/one/two三種答案\")"
      ],
      "execution_count": 0,
      "outputs": []
    },
    {
      "cell_type": "code",
      "metadata": {
        "id": "EAh_LTDr3RAx",
        "colab_type": "code",
        "colab": {
          "base_uri": "https://localhost:8080/",
          "height": 168
        },
        "outputId": "dc3aac24-32ef-4bb3-8a55-91733338f8e3"
      },
      "source": [
        "while True:\n",
        "  acc=input('請輸入帳號?')\n",
        "  pwd=input('請輸入密碼?')\n",
        "  if(acc=='abc'and pwd =='123'):\n",
        "    print('帳號與密碼正確')\n",
        "    break\n",
        "  else:\n",
        "    print('登入失敗')"
      ],
      "execution_count": 14,
      "outputs": [
        {
          "output_type": "stream",
          "text": [
            "請輸入帳號?123\n",
            "請輸入密碼?456\n",
            "登入失敗\n",
            "請輸入帳號?abc\n",
            "請輸入密碼?12\n",
            "登入失敗\n",
            "請輸入帳號?abc\n",
            "請輸入密碼?123\n",
            "帳號與密碼正確\n"
          ],
          "name": "stdout"
        }
      ]
    },
    {
      "cell_type": "code",
      "metadata": {
        "id": "3CcBrHfp-lhB",
        "colab_type": "code",
        "colab": {
          "base_uri": "https://localhost:8080/",
          "height": 50
        },
        "outputId": "ff7ad18d-3a6f-4376-aed6-4a23f7127684"
      },
      "source": [
        "password='a123456'\n",
        "times=0\n",
        "while times <= 3:\n",
        "  answer=input('Enter your password:')\n",
        "  if answer== password:\n",
        "    print('登入成功')\n",
        "    break\n",
        "  else:\n",
        "    times=times+1\n",
        "    chance=3-times\n",
        "    print(\"密碼錯誤!還有\",chance,\"次機會\")\n"
      ],
      "execution_count": 19,
      "outputs": [
        {
          "output_type": "stream",
          "text": [
            "Enter your password:a123456\n",
            "登入成功\n"
          ],
          "name": "stdout"
        }
      ]
    },
    {
      "cell_type": "code",
      "metadata": {
        "id": "8uUZKlhb-l09",
        "colab_type": "code",
        "colab": {
          "base_uri": "https://localhost:8080/",
          "height": 134
        },
        "outputId": "aa9c7f30-5f95-4269-e30e-8c1cd7799e7e"
      },
      "source": [
        "import random \n",
        "while True:\n",
        "  dice= random.randint(1,6)\n",
        "  print(dice)\n",
        "  if dice==6:\n",
        "    break "
      ],
      "execution_count": 26,
      "outputs": [
        {
          "output_type": "stream",
          "text": [
            "1\n",
            "4\n",
            "2\n",
            "4\n",
            "3\n",
            "4\n",
            "6\n"
          ],
          "name": "stdout"
        }
      ]
    },
    {
      "cell_type": "code",
      "metadata": {
        "id": "obk7bf-F-l8u",
        "colab_type": "code",
        "colab": {
          "base_uri": "https://localhost:8080/",
          "height": 319
        },
        "outputId": "6f2df7aa-bc75-45bf-c1b7-b609a43fb261"
      },
      "source": [
        "import random\n",
        "target=random.randint(1,99)\n",
        "guess=0\n",
        "\n",
        "while target != guess:\n",
        "  guess=int(input('請輸入1到99的數字?'))\n",
        "  if target <guess:\n",
        "    print('猜小一點')\n",
        "  elif target >guess:\n",
        "    print('猜大一點')\n",
        "  else:\n",
        "    print('猜中了')"
      ],
      "execution_count": 28,
      "outputs": [
        {
          "output_type": "stream",
          "text": [
            "請輸入1到99的數字?88\n",
            "猜小一點\n",
            "請輸入1到99的數字?40\n",
            "猜大一點\n",
            "請輸入1到99的數字?56\n",
            "猜大一點\n",
            "請輸入1到99的數字?68\n",
            "猜大一點\n",
            "請輸入1到99的數字?70\n",
            "猜大一點\n",
            "請輸入1到99的數字?75\n",
            "猜大一點\n",
            "請輸入1到99的數字?76\n",
            "猜大一點\n",
            "請輸入1到99的數字?79\n",
            "猜小一點\n",
            "請輸入1到99的數字?78\n",
            "猜中了\n"
          ],
          "name": "stdout"
        }
      ]
    },
    {
      "cell_type": "code",
      "metadata": {
        "id": "URYSkWc7CLKm",
        "colab_type": "code",
        "colab": {
          "base_uri": "https://localhost:8080/",
          "height": 554
        },
        "outputId": "7398c71b-94aa-46e0-f84f-2dbc5c985592"
      },
      "source": [
        "import random\n",
        "r=random.randint(1,100)\n",
        "\n",
        "while True:\n",
        "  answer =int(input('Enter a number:'))\n",
        "  if answer == r:\n",
        "    print('Well done!')\n",
        "    break\n",
        "  else:\n",
        "    print(\"try again\")\n",
        "    if answer >r:\n",
        "      print(\"Guess smaller\")\n",
        "    else:\n",
        "      print(\"Guess larger\")"
      ],
      "execution_count": 29,
      "outputs": [
        {
          "output_type": "stream",
          "text": [
            "Enter a number:80\n",
            "try again\n",
            "Guess smaller\n",
            "Enter a number:75\n",
            "try again\n",
            "Guess smaller\n",
            "Enter a number:70\n",
            "try again\n",
            "Guess smaller\n",
            "Enter a number:65\n",
            "try again\n",
            "Guess smaller\n",
            "Enter a number:60\n",
            "try again\n",
            "Guess smaller\n",
            "Enter a number:20\n",
            "try again\n",
            "Guess larger\n",
            "Enter a number:50\n",
            "try again\n",
            "Guess larger\n",
            "Enter a number:55\n",
            "try again\n",
            "Guess larger\n",
            "Enter a number:58\n",
            "try again\n",
            "Guess smaller\n",
            "Enter a number:59\n",
            "try again\n",
            "Guess smaller\n",
            "Enter a number:57\n",
            "Well done!\n"
          ],
          "name": "stdout"
        }
      ]
    },
    {
      "cell_type": "code",
      "metadata": {
        "id": "rbn2iYskCLPv",
        "colab_type": "code",
        "colab": {
          "base_uri": "https://localhost:8080/",
          "height": 118
        },
        "outputId": "64c8d65b-660e-489a-b807-2a8fbc5ba481"
      },
      "source": [
        "import random\n",
        "low=1\n",
        "high=100\n",
        "target=random.randint(low,high) #上下限可變動\n",
        "#記錄猜幾次\n",
        "times=0\n",
        "while True:\n",
        "  message =\"請輸入介於[\"+str(low)+\"-\"+str(high)+\"]的數字\" #字串不能跟數字做運算，要先把low，high轉成文字再串連\n",
        "  guess = int(input(message))\n",
        "  times=times+1\n",
        "\n",
        "  if guess==target:\n",
        "    print(\"恭喜!猜對了\")\n",
        "    break\n",
        "  elif guess<target:\n",
        "    low=guess\n",
        "  else:\n",
        "    high=guess\n",
        "print(\"猜的次數\",times)"
      ],
      "execution_count": 32,
      "outputs": [
        {
          "output_type": "stream",
          "text": [
            "請輸入介於[1-100]的數字3\n",
            "請輸入介於[3-100]的數字8\n",
            "請輸入介於[3-8]的數字5\n",
            "請輸入介於[5-8]的數字7\n",
            "恭喜!猜對了\n",
            "猜的次數 4\n"
          ],
          "name": "stdout"
        }
      ]
    },
    {
      "cell_type": "code",
      "metadata": {
        "id": "4ybsMFzmC62y",
        "colab_type": "code",
        "colab": {}
      },
      "source": [
        ""
      ],
      "execution_count": 0,
      "outputs": []
    },
    {
      "cell_type": "code",
      "metadata": {
        "id": "NJf2T9gXCLSE",
        "colab_type": "code",
        "colab": {}
      },
      "source": [
        ""
      ],
      "execution_count": 0,
      "outputs": []
    },
    {
      "cell_type": "code",
      "metadata": {
        "id": "spjzMQF4CLN_",
        "colab_type": "code",
        "colab": {}
      },
      "source": [
        ""
      ],
      "execution_count": 0,
      "outputs": []
    }
  ]
}