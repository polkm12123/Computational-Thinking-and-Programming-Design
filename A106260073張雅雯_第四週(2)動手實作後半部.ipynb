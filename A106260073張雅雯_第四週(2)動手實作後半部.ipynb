{
  "nbformat": 4,
  "nbformat_minor": 0,
  "metadata": {
    "colab": {
      "name": "A106260073張雅雯 第四週(2)動手實作後半部",
      "provenance": [],
      "include_colab_link": true
    },
    "kernelspec": {
      "name": "python3",
      "display_name": "Python 3"
    }
  },
  "cells": [
    {
      "cell_type": "markdown",
      "metadata": {
        "id": "view-in-github",
        "colab_type": "text"
      },
      "source": [
        "<a href=\"https://colab.research.google.com/github/polkm12123/Computational-Thinking-and-Programming-Design/blob/master/A106260073%E5%BC%B5%E9%9B%85%E9%9B%AF_%E7%AC%AC%E5%9B%9B%E9%80%B1(2)%E5%8B%95%E6%89%8B%E5%AF%A6%E4%BD%9C%E5%BE%8C%E5%8D%8A%E9%83%A8.ipynb\" target=\"_parent\"><img src=\"https://colab.research.google.com/assets/colab-badge.svg\" alt=\"Open In Colab\"/></a>"
      ]
    },
    {
      "cell_type": "code",
      "metadata": {
        "id": "D6rz9x2FfMzE",
        "colab_type": "code",
        "colab": {
          "base_uri": "https://localhost:8080/",
          "height": 70
        },
        "outputId": "e3c8d051-ac60-4539-a934-e89722d56cae"
      },
      "source": [
        "x=70\n",
        "print((x>60) and (x<80))\n",
        "print((x>60) or (x<80))\n",
        "print(not(x>60))"
      ],
      "execution_count": 1,
      "outputs": [
        {
          "output_type": "stream",
          "text": [
            "True\n",
            "True\n",
            "False\n"
          ],
          "name": "stdout"
        }
      ]
    },
    {
      "cell_type": "code",
      "metadata": {
        "id": "7UV-VxazhAGu",
        "colab_type": "code",
        "colab": {
          "base_uri": "https://localhost:8080/",
          "height": 105
        },
        "outputId": "1fcb0b3f-6f4b-4d6e-a2b1-c3deae7b067f"
      },
      "source": [
        "x=1\n",
        "y=[1,2,3]\n",
        "print(x in y)#判斷x是否為y其中一個元素\n",
        "print(x not in y )\n",
        "x=[1,2,3]\n",
        "y=[1,2,3]\n",
        "print(id(x),id(y))#兩個變數id不同\n",
        "print(x is y)#判斷X與Y的ID是否相同\n",
        "print(x is not y)"
      ],
      "execution_count": 2,
      "outputs": [
        {
          "output_type": "stream",
          "text": [
            "True\n",
            "False\n",
            "140265689028552 140265199064072\n",
            "False\n",
            "True\n"
          ],
          "name": "stdout"
        }
      ]
    },
    {
      "cell_type": "code",
      "metadata": {
        "id": "S6X8sHeVhh7b",
        "colab_type": "code",
        "colab": {
          "base_uri": "https://localhost:8080/",
          "height": 140
        },
        "outputId": "7e5aaa4a-03fa-4743-96a0-874633509429"
      },
      "source": [
        "a=5\n",
        "a=a+2\n",
        "print(a)\n",
        "a+=2 #a=a+2\n",
        "print(a)\n",
        "a-=2 #a=a-2\n",
        "print(a)\n",
        "a*=2 #a=a*2\n",
        "print(a)\n",
        "a/=2 #a=a/2\n",
        "print(a)\n",
        "a//=2 #a=a//2\n",
        "print(a)\n",
        "a%=2 #a=a%2\n",
        "print(a)\n"
      ],
      "execution_count": 5,
      "outputs": [
        {
          "output_type": "stream",
          "text": [
            "7\n",
            "9\n",
            "7\n",
            "14\n",
            "7.0\n",
            "3.0\n",
            "1.0\n"
          ],
          "name": "stdout"
        }
      ]
    },
    {
      "cell_type": "code",
      "metadata": {
        "id": "4Rz_PKYwiFJ6",
        "colab_type": "code",
        "colab": {
          "base_uri": "https://localhost:8080/",
          "height": 105
        },
        "outputId": "8e3443d6-2394-4e7e-a26e-f7b5b1e38a75"
      },
      "source": [
        "s1=\"123\"\n",
        "s2=\"456\"\n",
        "s3=s1+s2\n",
        "print(s3)\n",
        "s4=s1*2\n",
        "print(s4)\n",
        "s5='春眠不覺曉，處處聞啼⿃。\\n\\\n",
        "夜來風雨聲，花落知多少。\\n\\\n",
        "\\t作者\"孟浩然\" 詩名\"春曉\"'\n",
        "print(s5)"
      ],
      "execution_count": 7,
      "outputs": [
        {
          "output_type": "stream",
          "text": [
            "123456\n",
            "123123\n",
            "春眠不覺曉，處處聞啼⿃。\n",
            "夜來風雨聲，花落知多少。\n",
            "\t作者\"孟浩然\" 詩名\"春曉\"\n"
          ],
          "name": "stdout"
        }
      ]
    },
    {
      "cell_type": "code",
      "metadata": {
        "id": "QZtoX20itX5n",
        "colab_type": "code",
        "colab": {
          "base_uri": "https://localhost:8080/",
          "height": 369
        },
        "outputId": "07663b77-3226-4b3d-ecec-66a99e5e310c"
      },
      "source": [
        "s='123456789'\n",
        "print(s[0])\n",
        "print(s[1])\n",
        "print(s[-1])\n",
        "print(s[-2])\n",
        "\n",
        "s='0123456789'\n",
        "print('s=',s)\n",
        "print('s[0]=',s[0])\n",
        "print('s[1]=',s[1])\n",
        "print('s[-1]=',s[-1])\n",
        "print('s[-2]=',s[-2])\n",
        "\n",
        "print('s=',s,'s[:]=',s[:]) #從頭到尾\n",
        "print('s=',s,'s[5:]=',s[5:]) #從開始到尾\n",
        "print('s=',s,'s[-2:]=',s[-2:]) #倒數第二個到尾\n",
        "print('s=',s,'s[:5]=',s[:5]) #從頭到第五個\n",
        "print('s=',s,'s[:-2]=',s[:-2])#從頭到倒數第二個\n",
        "print('s=',s,'s[7:9]=',s[7:9]) #範圍\n",
        "print('s=',s,'s[-4:-1]=',s[-4:-1]) #從倒數第四個到倒數第一個\n",
        "print('s=',s,'s[5:-2]=',s[5:-2])\n",
        "print('s=',s,'s[2:10:2]=',s[2:10:2])\n",
        "print('s=',s,'s[::-1]=',s[::-1])\n",
        "print('s=',s,'s[-1::-1]=',s[-1::-1])"
      ],
      "execution_count": 8,
      "outputs": [
        {
          "output_type": "stream",
          "text": [
            "1\n",
            "2\n",
            "9\n",
            "8\n",
            "s= 0123456789\n",
            "s[0]= 0\n",
            "s[1]= 1\n",
            "s[-1]= 9\n",
            "s[-2]= 8\n",
            "s= 0123456789 s[:]= 0123456789\n",
            "s= 0123456789 s[5:]= 56789\n",
            "s= 0123456789 s[-2:]= 89\n",
            "s= 0123456789 s[:5]= 01234\n",
            "s= 0123456789 s[:-2]= 01234567\n",
            "s= 0123456789 s[7:9]= 78\n",
            "s= 0123456789 s[-4:-1]= 678\n",
            "s= 0123456789 s[5:-2]= 567\n",
            "s= 0123456789 s[2:10:2]= 2468\n",
            "s= 0123456789 s[::-1]= 9876543210\n",
            "s= 0123456789 s[-1::-1]= 9876543210\n"
          ],
          "name": "stdout"
        }
      ]
    },
    {
      "cell_type": "code",
      "metadata": {
        "id": "6v_xSFI2v46l",
        "colab_type": "code",
        "colab": {
          "base_uri": "https://localhost:8080/",
          "height": 140
        },
        "outputId": "d270b3bb-0260-48fd-c8f3-43abf7d4609a"
      },
      "source": [
        "a=-2\n",
        "print(abs(a)) #絕對值\n",
        "print(abs(-10))\n",
        "print(max(1,2,3,4,5)) #極⼤值\n",
        "print(min(1,2,3,4,5)) #極⼩值\n",
        "print(pow(2,3)) ##次⽅ 為a的b次⽅\n",
        "print(round(5.8)) #四捨五入\n",
        "print(round(3.14159,2)) #取⼩數點兩位四捨五入"
      ],
      "execution_count": 9,
      "outputs": [
        {
          "output_type": "stream",
          "text": [
            "2\n",
            "10\n",
            "5\n",
            "1\n",
            "8\n",
            "6\n",
            "3.14\n"
          ],
          "name": "stdout"
        }
      ]
    },
    {
      "cell_type": "code",
      "metadata": {
        "id": "cQMxABVYwfpA",
        "colab_type": "code",
        "colab": {
          "base_uri": "https://localhost:8080/",
          "height": 70
        },
        "outputId": "c15a8f64-d9ae-4681-8294-a7c6e581cf50"
      },
      "source": [
        "s = '春眠不覺曉，處處聞啼⿃，夜來風雨聲，花落知多少。'\n",
        "print(len(s))\n",
        "s1='春眠不覺曉，處處聞啼⿃，夜來風雨聲，花落知多少。'\n",
        "list1=s1.split('，') # 逗號，分割\n",
        "print(list1)\n",
        "list1 = ['春眠不覺曉','處處聞啼⿃','夜來風雨聲','花落知多少。']\n",
        "s2='，'.join(list1) #逗號，連接字串\n",
        "print(s2)"
      ],
      "execution_count": 10,
      "outputs": [
        {
          "output_type": "stream",
          "text": [
            "24\n",
            "['春眠不覺曉', '處處聞啼⿃', '夜來風雨聲', '花落知多少。']\n",
            "春眠不覺曉，處處聞啼⿃，夜來風雨聲，花落知多少。\n"
          ],
          "name": "stdout"
        }
      ]
    },
    {
      "cell_type": "code",
      "metadata": {
        "id": "RaQFFqaFwnz1",
        "colab_type": "code",
        "colab": {
          "base_uri": "https://localhost:8080/",
          "height": 158
        },
        "outputId": "671603e7-f8a0-45c1-fdef-c6039d755652"
      },
      "source": [
        "s1='春眠不覺曉，處處聞啼⿃，夜來風雨聲，花落知多少。'\n",
        "s3=s1.replace('春','冬') #以冬替代春（冬眠不覺曉）\n",
        "print(s3)\n",
        "s1='春眠不覺曉，處處聞啼⿃，夜來風雨聲，花落知多少。'\n",
        "print(s1.find('花落')) #尋找\n",
        "print(s1.count('處')) #計次\n",
        "s1='An apple a day.'\n",
        "print(s1.capitalize())\n",
        "print(s1.title())\n",
        "print(s1.swapcase())\n",
        "print(s1.upper())\n",
        "print(s1.lower())"
      ],
      "execution_count": 11,
      "outputs": [
        {
          "output_type": "stream",
          "text": [
            "冬眠不覺曉，處處聞啼⿃，夜來風雨聲，花落知多少。\n",
            "18\n",
            "2\n",
            "An apple a day.\n",
            "An Apple A Day.\n",
            "aN APPLE A DAY.\n",
            "AN APPLE A DAY.\n",
            "an apple a day.\n"
          ],
          "name": "stdout"
        }
      ]
    }
  ]
}