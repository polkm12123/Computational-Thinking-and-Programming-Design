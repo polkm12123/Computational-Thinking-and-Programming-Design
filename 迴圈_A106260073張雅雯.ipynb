{
  "nbformat": 4,
  "nbformat_minor": 0,
  "metadata": {
    "colab": {
      "name": "迴圈_A106260073張雅雯",
      "provenance": [],
      "include_colab_link": true
    },
    "kernelspec": {
      "name": "python3",
      "display_name": "Python 3"
    }
  },
  "cells": [
    {
      "cell_type": "markdown",
      "metadata": {
        "id": "view-in-github",
        "colab_type": "text"
      },
      "source": [
        "<a href=\"https://colab.research.google.com/github/polkm12123/Computational-Thinking-and-Programming-Design/blob/master/%E8%BF%B4%E5%9C%88_A106260073%E5%BC%B5%E9%9B%85%E9%9B%AF.ipynb\" target=\"_parent\"><img src=\"https://colab.research.google.com/assets/colab-badge.svg\" alt=\"Open In Colab\"/></a>"
      ]
    },
    {
      "cell_type": "code",
      "metadata": {
        "id": "auq7MEoFkt9u",
        "colab_type": "code",
        "outputId": "2fa8daca-794e-477b-e08f-924d82d61428",
        "colab": {
          "base_uri": "https://localhost:8080/",
          "height": 34
        }
      },
      "source": [
        "x=5\n",
        "if x<10:\n",
        "  print(\"x小於10!\")"
      ],
      "execution_count": 0,
      "outputs": [
        {
          "output_type": "stream",
          "text": [
            "x小於10!\n"
          ],
          "name": "stdout"
        }
      ]
    },
    {
      "cell_type": "code",
      "metadata": {
        "id": "r3IrVdWhlJUx",
        "colab_type": "code",
        "outputId": "2219ffb8-3d60-4cde-c53e-11c0ecbc54ba",
        "colab": {
          "base_uri": "https://localhost:8080/",
          "height": 204
        }
      },
      "source": [
        "x=5 #初始值\n",
        "while x<10: #判斷條件\n",
        "  print(\"x小於10!\")\n",
        "  print(\"I am still here\")\n",
        "  x=x+1 #更新條件\n",
        "print(\"Finished\")\n",
        "  "
      ],
      "execution_count": 0,
      "outputs": [
        {
          "output_type": "stream",
          "text": [
            "x小於10!\n",
            "I am still here\n",
            "x小於10!\n",
            "I am still here\n",
            "x小於10!\n",
            "I am still here\n",
            "x小於10!\n",
            "I am still here\n",
            "x小於10!\n",
            "I am still here\n",
            "Finished\n"
          ],
          "name": "stdout"
        }
      ]
    },
    {
      "cell_type": "code",
      "metadata": {
        "id": "MlzEG3VymZ4B",
        "colab_type": "code",
        "outputId": "5fdc790f-c4d4-4072-da6e-629565a5c96d",
        "colab": {
          "base_uri": "https://localhost:8080/",
          "height": 102
        }
      },
      "source": [
        "x=1 #初始值\n",
        "while x<5: #判斷條件\n",
        "  print(\"變數x是\",x)\n",
        "  x=x+1 #更新條件\n",
        "print(\"Finished\")\n"
      ],
      "execution_count": 0,
      "outputs": [
        {
          "output_type": "stream",
          "text": [
            "變數x是 1\n",
            "變數x是 2\n",
            "變數x是 3\n",
            "變數x是 4\n",
            "Finished\n"
          ],
          "name": "stdout"
        }
      ]
    },
    {
      "cell_type": "code",
      "metadata": {
        "id": "BZGw3Ivnog6M",
        "colab_type": "code",
        "outputId": "bcae274f-d84c-4374-9193-77e188884140",
        "colab": {
          "base_uri": "https://localhost:8080/",
          "height": 204
        }
      },
      "source": [
        "x=0\n",
        "while x<10:\n",
        "  print(\"Hello\")\n",
        "  x=x+1\n",
        "print(\"Finished\")"
      ],
      "execution_count": 0,
      "outputs": [
        {
          "output_type": "stream",
          "text": [
            "Hello\n",
            "Hello\n",
            "Hello\n",
            "Hello\n",
            "Hello\n",
            "Hello\n",
            "Hello\n",
            "Hello\n",
            "Hello\n",
            "Hello\n",
            "Finished\n"
          ],
          "name": "stdout"
        }
      ]
    },
    {
      "cell_type": "code",
      "metadata": {
        "id": "TWqTQAY1rCbA",
        "colab_type": "code",
        "outputId": "7d322a1d-a799-435b-8ea7-e2c92869b8ed",
        "colab": {
          "base_uri": "https://localhost:8080/",
          "height": 204
        }
      },
      "source": [
        "x=0 #初始值\n",
        "while x<10: #判斷條件\n",
        "  print(\"This is\",x,\"time Hello\") #更新條件\n",
        "  x=x+1\n",
        "print(\"Finished\")"
      ],
      "execution_count": 0,
      "outputs": [
        {
          "output_type": "stream",
          "text": [
            "This is 0 time Hello\n",
            "This is 1 time Hello\n",
            "This is 2 time Hello\n",
            "This is 3 time Hello\n",
            "This is 4 time Hello\n",
            "This is 5 time Hello\n",
            "This is 6 time Hello\n",
            "This is 7 time Hello\n",
            "This is 8 time Hello\n",
            "This is 9 time Hello\n",
            "Finished\n"
          ],
          "name": "stdout"
        }
      ]
    },
    {
      "cell_type": "code",
      "metadata": {
        "id": "7bE-ag2bsQKR",
        "colab_type": "code",
        "outputId": "347f957c-4397-4386-ac38-e398fbd5f268",
        "colab": {
          "base_uri": "https://localhost:8080/",
          "height": 204
        }
      },
      "source": [
        "x=0 #初始值\n",
        "while x<10: #判斷條件\n",
        "  x=x+1 #更新條件\n",
        "  left=10-x #更新條件\n",
        "  print(\"This is\",x,\"times Hello\",\"You still have\",left,\"times\") \n",
        "print(\"Finished\")"
      ],
      "execution_count": 0,
      "outputs": [
        {
          "output_type": "stream",
          "text": [
            "This is 1 times Hello You still have 9 times\n",
            "This is 2 times Hello You still have 8 times\n",
            "This is 3 times Hello You still have 7 times\n",
            "This is 4 times Hello You still have 6 times\n",
            "This is 5 times Hello You still have 5 times\n",
            "This is 6 times Hello You still have 4 times\n",
            "This is 7 times Hello You still have 3 times\n",
            "This is 8 times Hello You still have 2 times\n",
            "This is 9 times Hello You still have 1 times\n",
            "This is 10 times Hello You still have 0 times\n",
            "Finished\n"
          ],
          "name": "stdout"
        }
      ]
    },
    {
      "cell_type": "code",
      "metadata": {
        "id": "4d6mlCr8tGLe",
        "colab_type": "code",
        "outputId": "d3e36ee0-c384-4a80-b1dc-577ea1208393",
        "colab": {
          "base_uri": "https://localhost:8080/",
          "height": 204
        }
      },
      "source": [
        "x=0 #初始值\n",
        "sum=0 #初始值\n",
        "while x<10: #判斷條件 重複執行\n",
        "  x=x+1 #更新條件\n",
        "  sum=sum+x #更新條件\n",
        "  print(\"sum is\",sum) \n",
        "print(\"Finished\")"
      ],
      "execution_count": 0,
      "outputs": [
        {
          "output_type": "stream",
          "text": [
            "sum is 1\n",
            "sum is 3\n",
            "sum is 6\n",
            "sum is 10\n",
            "sum is 15\n",
            "sum is 21\n",
            "sum is 28\n",
            "sum is 36\n",
            "sum is 45\n",
            "sum is 55\n",
            "Finished\n"
          ],
          "name": "stdout"
        }
      ]
    },
    {
      "cell_type": "code",
      "metadata": {
        "id": "xGWJw2pZvlg0",
        "colab_type": "code",
        "outputId": "01c9b7f3-ab1a-43cc-f5ac-9de86288ee0f",
        "colab": {
          "base_uri": "https://localhost:8080/",
          "height": 374
        }
      },
      "source": [
        "x=0 #初始條件\n",
        "sum=0 #初始條件\n",
        "while sum <=50: #判斷條件\n",
        "  x=x+1 #更新條件\n",
        "  sum=sum+x #更新條件\n",
        "  print(\"x is\",x)\n",
        "  print(\"sum is\",sum)\n",
        "print(\"Finished\")"
      ],
      "execution_count": 0,
      "outputs": [
        {
          "output_type": "stream",
          "text": [
            "x is 1\n",
            "sum is 1\n",
            "x is 2\n",
            "sum is 3\n",
            "x is 3\n",
            "sum is 6\n",
            "x is 4\n",
            "sum is 10\n",
            "x is 5\n",
            "sum is 15\n",
            "x is 6\n",
            "sum is 21\n",
            "x is 7\n",
            "sum is 28\n",
            "x is 8\n",
            "sum is 36\n",
            "x is 9\n",
            "sum is 45\n",
            "x is 10\n",
            "sum is 55\n",
            "Finished\n"
          ],
          "name": "stdout"
        }
      ]
    },
    {
      "cell_type": "code",
      "metadata": {
        "id": "6hL635mO1Ivy",
        "colab_type": "code",
        "colab": {}
      },
      "source": [
        ""
      ],
      "execution_count": 0,
      "outputs": []
    },
    {
      "cell_type": "code",
      "metadata": {
        "id": "M1I3NlNDwbkO",
        "colab_type": "code",
        "outputId": "86b7e512-e703-4dea-d724-b364b57036b9",
        "colab": {
          "base_uri": "https://localhost:8080/",
          "height": 34
        }
      },
      "source": [
        "sum=0\n",
        "X=0\n",
        "while sum<=1000:\n",
        "  X=X+1\n",
        "  sum=sum+X*X\n",
        "print(\"最小平方和\",X)\n"
      ],
      "execution_count": 0,
      "outputs": [
        {
          "output_type": "stream",
          "text": [
            "最小平方和 14\n"
          ],
          "name": "stdout"
        }
      ]
    },
    {
      "cell_type": "code",
      "metadata": {
        "id": "E40LWhAt2jOW",
        "colab_type": "code",
        "colab": {
          "base_uri": "https://localhost:8080/",
          "height": 153
        },
        "outputId": "8bd18981-595c-40d9-d921-f443de6ec24e"
      },
      "source": [
        "sum=0\n",
        "x=1\n",
        "while sum<= 10:\n",
        "  sum=sum+ x\n",
        "  x=x+2\n",
        "  print(\"x is \", sum)\n"
      ],
      "execution_count": 23,
      "outputs": [
        {
          "output_type": "stream",
          "text": [
            "x is  1\n",
            "sum is  1\n",
            "x is  4\n",
            "sum is  4\n",
            "x is  9\n",
            "sum is  9\n",
            "x is  16\n",
            "sum is  16\n"
          ],
          "name": "stdout"
        }
      ]
    },
    {
      "cell_type": "code",
      "metadata": {
        "id": "NDSkS7oI2z71",
        "colab_type": "code",
        "colab": {}
      },
      "source": [
        ""
      ],
      "execution_count": 0,
      "outputs": []
    }
  ]
}