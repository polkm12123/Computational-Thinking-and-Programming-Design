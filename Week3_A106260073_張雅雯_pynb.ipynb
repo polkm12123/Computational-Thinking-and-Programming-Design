{
  "nbformat": 4,
  "nbformat_minor": 0,
  "metadata": {
    "colab": {
      "name": "Week3-A106260073-張雅雯.pynb",
      "provenance": [],
      "include_colab_link": true
    },
    "kernelspec": {
      "name": "python3",
      "display_name": "Python 3"
    }
  },
  "cells": [
    {
      "cell_type": "markdown",
      "metadata": {
        "id": "view-in-github",
        "colab_type": "text"
      },
      "source": [
        "<a href=\"https://colab.research.google.com/github/polkm12123/Computational-Thinking-and-Programming-Design/blob/master/Week3_A106260073_%E5%BC%B5%E9%9B%85%E9%9B%AF_pynb.ipynb\" target=\"_parent\"><img src=\"https://colab.research.google.com/assets/colab-badge.svg\" alt=\"Open In Colab\"/></a>"
      ]
    },
    {
      "cell_type": "code",
      "metadata": {
        "id": "DMQ39ABGDm78",
        "colab_type": "code",
        "outputId": "202b9dea-79a1-428c-b4dd-0dee68f4bd37",
        "colab": {
          "base_uri": "https://localhost:8080/",
          "height": 34
        }
      },
      "source": [
        "print('Hello World')"
      ],
      "execution_count": 0,
      "outputs": [
        {
          "output_type": "stream",
          "text": [
            "Hello World\n"
          ],
          "name": "stdout"
        }
      ]
    },
    {
      "cell_type": "markdown",
      "metadata": {
        "id": "p_q7fQFGFf6-",
        "colab_type": "text"
      },
      "source": [
        ""
      ]
    }
  ]
}